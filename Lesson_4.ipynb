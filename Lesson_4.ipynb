{
 "cells": [
  {
   "cell_type": "code",
   "execution_count": 1,
   "outputs": [],
   "source": [
    "import numpy as np\n",
    "from  scipy import stats\n",
    "import matplotlib.pyplot as plt"
   ],
   "metadata": {
    "collapsed": false,
    "pycharm": {
     "name": "#%%\n",
     "is_executing": false
    }
   }
  },
  {
   "cell_type": "markdown",
   "metadata": {
    "collapsed": true,
    "pycharm": {
     "name": "#%% md\n"
    }
   },
   "source": [
    "### Задача 1\n",
    "О непрерывной равномерно распределённой случайной величине B известно,  \n",
    "что её дисперсия равна 0.2. Можно ли найти правую границу величины B и  \n",
    "её среднее значение зная, что левая граница равна 0.5? Если да, найдите их.\n",
    "\n",
    "Из формулы дисперсии для равномерного распределения: $(b - 0.5)^2$ = 0.2 * 12      \n",
    "Тогда:  \n",
    "b - 0.5 = 1.55  \n",
    "b = 2.05\n",
    "\n",
    "M(B) = (2.05 + 0.5) / 2 = 1.275"
   ]
  },
  {
   "cell_type": "markdown",
   "source": [
    "### Задача 2\n",
    "На сколько сигм (средних квадратических отклонений) отклоняется рост человека,  \n",
    "равный 190 см,  от математического ожидания роста в популяции,  \n",
    "в которой M(X) = 178 и D(X) = 25?  \n"
   ],
   "metadata": {
    "collapsed": false,
    "pycharm": {
     "name": "#%% md\n",
     "is_executing": false
    }
   }
  },
  {
   "cell_type": "code",
   "execution_count": 2,
   "outputs": [
    {
     "name": "stdout",
     "text": [
      "Рост отклоняется на 2.4 сигм\n"
     ],
     "output_type": "stream"
    }
   ],
   "source": [
    "M = 178\n",
    "D = 25\n",
    "res = (190 - M) / np.sqrt(D)\n",
    "print(f'Рост отклоняется на {round(res, 2)} сигм')\n"
   ],
   "metadata": {
    "collapsed": false,
    "pycharm": {
     "name": "#%%\n",
     "is_executing": false
    }
   }
  },
  {
   "cell_type": "markdown",
   "source": [
    "### Задача 3\n",
    "Рост взрослого населения города X имеет нормальное распределение, причём,  \n",
    "средний рост равен 174 см, а среднее квадратическое отклонение равно 8 см.  \n",
    "С помощью правил стандартного отклонения, двух и трёх сигм посчитайте,  \n",
    "какова вероятность того, что случайным образом выбранный взрослый человек имеет рост:\n",
    "1. больше 182 см?  \n",
    "2. больше 190 см?  \n",
    "3. от 166 см до 190 см?  \n",
    "4. от 166 см до 182 см?  \n",
    "5. от 158 см до 190 см?  \n",
    "6. не выше 150 см или не ниже 190 см?  \n",
    "7. не выше 150 см или не ниже 198 см?  \n",
    "8. ниже 166 см?"
   ],
   "metadata": {
    "collapsed": false,
    "pycharm": {
     "name": "#%% md\n"
    }
   }
  },
  {
   "cell_type": "code",
   "execution_count": 3,
   "outputs": [],
   "source": [
    "M = 174\n",
    "scale = 8\n",
    "nrm = stats.norm(loc=M, scale=scale)"
   ],
   "metadata": {
    "collapsed": false,
    "pycharm": {
     "name": "#%%\n",
     "is_executing": false
    }
   }
  },
  {
   "cell_type": "code",
   "execution_count": 9,
   "outputs": [
    {
     "data": {
      "text/plain": "[<matplotlib.lines.Line2D at 0x11644cdd8>]"
     },
     "metadata": {},
     "output_type": "execute_result",
     "execution_count": 9
    },
    {
     "data": {
      "text/plain": "<Figure size 432x288 with 1 Axes>",
      "image/png": "[encoded data removed]"
     },
     "metadata": {
      "needs_background": "light"
     },
     "output_type": "display_data"
    }
   ],
   "source": [
    "heights = np.linspace(50, 250, 100)\n",
    "plt.plot(heights, np.array([nrm.cdf(y) for y in heights]))"
   ],
   "metadata": {
    "collapsed": false,
    "pycharm": {
     "name": "#%%\n",
     "is_executing": false
    }
   }
  },
  {
   "cell_type": "code",
   "execution_count": 37,
   "outputs": [
    {
     "name": "stdout",
     "text": [
      "больше 182 см веротность 0.16\nбольше 190 см веротность 0.02\nот 166 см до 190 см веротность 0.82\nот 166 см до 182 см веротность 0.14\nот 158 см до 190 см веротность 0.95\nне выше 150 см или не ниже 190 см веротность 0.02\nне выше 150 см или не ниже 198 см веротность 0.0\nниже 166 см веротность 0.16\n"
     ],
     "output_type": "stream"
    }
   ],
   "source": [
    "p1 = 1 - nrm.cdf(182)\n",
    "p2 = 1 - nrm.cdf(190)\n",
    "p3 = nrm.cdf(190) - nrm.cdf(166)\n",
    "p4 = nrm.cdf(190) - nrm.cdf(182)\n",
    "p5 = nrm.cdf(190) - nrm.cdf(158)\n",
    "p6 = nrm.cdf(150) + (1- nrm.cdf(190))\n",
    "p7 = nrm.cdf(150) + (1- nrm.cdf(198))\n",
    "p8 = nrm.cdf(166)\n",
    "\n",
    "print(f'больше 182 см веротность {round(p1, 2)}')\n",
    "print(f'больше 190 см веротность {round(p2, 2)}')      \n",
    "print(f'от 166 см до 190 см веротность {round(p3, 2)}') \n",
    "print(f'от 166 см до 182 см веротность {round(p4, 2)}')\n",
    "print(f'от 158 см до 190 см веротность {round(p5, 2)}')\n",
    "print(f'не выше 150 см или не ниже 190 см веротность {round(p6, 2)}')\n",
    "print(f'не выше 150 см или не ниже 198 см веротность {round(p7, 2)}')\n",
    "print(f'ниже 166 см веротность {round(p8, 2)}')\n",
    "\n"
   ],
   "metadata": {
    "collapsed": false,
    "pycharm": {
     "name": "#%%\n",
     "is_executing": false
    }
   }
  }
 ],
 "metadata": {
  "kernelspec": {
   "display_name": "Python 3",
   "language": "python",
   "name": "python3"
  },
  "language_info": {
   "codemirror_mode": {
    "name": "ipython",
    "version": 2
   },
   "file_extension": ".py",
   "mimetype": "text/x-python",
   "name": "python",
   "nbconvert_exporter": "python",
   "pygments_lexer": "ipython2",
   "version": "2.7.6"
  },
  "pycharm": {
   "stem_cell": {
    "cell_type": "raw",
    "source": [],
    "metadata": {
     "collapsed": false
    }
   }
  }
 },
 "nbformat": 4,
 "nbformat_minor": 0
}