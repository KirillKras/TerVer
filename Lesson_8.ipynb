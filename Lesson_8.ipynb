{
 "cells": [
  {
   "cell_type": "code",
   "execution_count": 33,
   "outputs": [],
   "source": [
    "import numpy as np\n",
    "from scipy import stats"
   ],
   "metadata": {
    "collapsed": false,
    "pycharm": {
     "name": "#%%\n",
     "is_executing": false
    }
   }
  },
  {
   "cell_type": "markdown",
   "metadata": {
    "collapsed": true,
    "pycharm": {
     "name": "#%% md\n"
    }
   },
   "source": [
    "### Задача 1\n",
    "Объясняемая переменная y зависит от двух категориальных факторов A и B,  \n",
    "причём фактор A имеет 3 уровня, а фактор B - 4 уровня.  \n",
    "Результаты наблюдений приведены в таблице:  \n",
    "y = [[2.68, 3.29, 2.88, 4.45],  \n",
    "    [4.12, 4.96, 5.09, 5.22],  \n",
    "    [5.52, 4.50, 5.42, 5.29]]  \n",
    "С помощью двухфакторного дисперсионного анализа проверьте  \n",
    "влияние каждого из факторов на переменную y."
   ]
  },
  {
   "cell_type": "code",
   "execution_count": 34,
   "outputs": [],
   "source": [
    "y = np.array([[2.68, 3.29, 2.88, 4.45],  \n",
    "              [4.12, 4.96, 5.09, 5.22],  \n",
    "              [5.52, 4.50, 5.42, 5.29]])  "
   ],
   "metadata": {
    "collapsed": false,
    "pycharm": {
     "name": "#%%\n",
     "is_executing": false
    }
   }
  },
  {
   "cell_type": "code",
   "execution_count": 36,
   "outputs": [],
   "source": [
    "m = y.shape[0]\n",
    "k = y.shape[1]\n",
    "\n",
    "S2_A = k * ((y.mean(axis=1) - y.mean()) ** 2).sum()\n",
    "S2_B = m * ((y.mean(axis=0) - y.mean()) ** 2).sum()\n",
    "\n",
    "S2_res = 0\n",
    "for i in range(m):\n",
    "    for j in range(k):\n",
    "        S2_res += (y[i,j] - y[i,:].mean() - y[:, j].mean() + y.mean()) ** 2"
   ],
   "metadata": {
    "collapsed": false,
    "pycharm": {
     "name": "#%%\n",
     "is_executing": false
    }
   }
  },
  {
   "cell_type": "code",
   "execution_count": 37,
   "outputs": [],
   "source": [
    "sigma2_A = S2_A / (m - 1) \n",
    "sigma2_B = S2_B / (k - 1)\n",
    "sigma2_res = S2_res / ((k - 1) * (m - 1))"
   ],
   "metadata": {
    "collapsed": false,
    "pycharm": {
     "name": "#%%\n",
     "is_executing": false
    }
   }
  },
  {
   "cell_type": "code",
   "execution_count": 38,
   "outputs": [],
   "source": [
    "T_A = sigma2_A / sigma2_res\n",
    "T_B = sigma2_B / sigma2_res"
   ],
   "metadata": {
    "collapsed": false,
    "pycharm": {
     "name": "#%%\n",
     "is_executing": false
    }
   }
  },
  {
   "cell_type": "code",
   "execution_count": 39,
   "outputs": [
    {
     "name": "stdout",
     "text": [
      "5.714705386383056 5.415962339560236\n"
     ],
     "output_type": "stream"
    }
   ],
   "source": [
    "alpha = 0.05\n",
    "k1_a = m - 1\n",
    "k2_a = k * m - m\n",
    "k1_b = k - 1\n",
    "k2_b = k * m - k\n",
    "\n",
    "F_crit_a = stats.f.ppf(1- alpha/2, k1_a, k2_a)\n",
    "F_crit_b = stats.f.ppf(1- alpha/2, k1_b, k2_b)\n",
    "print(F_crit_a, F_crit_b)"
   ],
   "metadata": {
    "collapsed": false,
    "pycharm": {
     "name": "#%%\n",
     "is_executing": false
    }
   }
  },
  {
   "cell_type": "code",
   "execution_count": 41,
   "outputs": [
    {
     "name": "stdout",
     "text": [
      "T_A = 12.19, F_crit_A = 5.71, T_A > F_crit_A -> True\nT_B = 1.39, F_crit_B = 5.42, T_B > F_crit_B -> False\n"
     ],
     "output_type": "stream"
    }
   ],
   "source": [
    "print(f'T_A = {round(T_A, 2)}, F_crit_A = {round(F_crit_a, 2)}, T_A > F_crit_A -> {T_A > F_crit_a}')\n",
    "print(f'T_B = {round(T_B, 2)}, F_crit_B = {round(F_crit_b, 2)}, T_B > F_crit_B -> {T_B > F_crit_b}')"
   ],
   "metadata": {
    "collapsed": false,
    "pycharm": {
     "name": "#%%\n",
     "is_executing": false
    }
   }
  },
  {
   "cell_type": "markdown",
   "source": [
    "### Задача 2\n",
    "С помощью критерия Стьюдента для двух независимых выборок  \n",
    "проверьте гипотезу о равенстве среднего роста  \n",
    "футболистов и хоккеистов, основываясь на результатах измерений:  \n",
    "football_players = [173, 175, 180, 178, 177, 185, 183, 182]  \n",
    "hockey_players = [177, 179, 180, 188, 177, 172, 171, 184, 180]  "
   ],
   "metadata": {
    "collapsed": false,
    "pycharm": {
     "name": "#%% md\n"
    }
   }
  },
  {
   "cell_type": "code",
   "execution_count": 45,
   "outputs": [],
   "source": [
    "football_players = np.array([173, 175, 180, 178, 177, 185, 183, 182])  \n",
    "hockey_players = np.array([177, 179, 180, 188, 177, 172, 171, 184, 180])  "
   ],
   "metadata": {
    "collapsed": false,
    "pycharm": {
     "name": "#%%\n",
     "is_executing": false
    }
   }
  },
  {
   "cell_type": "code",
   "execution_count": 46,
   "outputs": [
    {
     "data": {
      "text/plain": "0.07229492436049809"
     },
     "metadata": {},
     "output_type": "execute_result",
     "execution_count": 46
    }
   ],
   "source": [
    "def get_student_coef(x: np.array, y: np.array) -> float:\n",
    "    n1 = x.shape[0]\n",
    "    n2 = y.shape[0]\n",
    "    upper = x.mean() - y.mean()\n",
    "    lower = np.sqrt((x.var(ddof=n1-1) / n1) + (y.var(ddof=n2-1) / n2))\n",
    "    return upper / lower\n",
    "\n",
    "T = get_student_coef(football_players, hockey_players)\n",
    "T\n",
    "            "
   ],
   "metadata": {
    "collapsed": false,
    "pycharm": {
     "name": "#%%\n",
     "is_executing": false
    }
   }
  },
  {
   "cell_type": "code",
   "execution_count": 47,
   "outputs": [
    {
     "data": {
      "text/plain": "2.131449545559323"
     },
     "metadata": {},
     "output_type": "execute_result",
     "execution_count": 47
    }
   ],
   "source": [
    "alpha = 0.05\n",
    "T_crit = stats.t.ppf(1 - alpha/2, df = football_players.shape[0] + hockey_players.shape[0] - 2)\n",
    "T_crit"
   ],
   "metadata": {
    "collapsed": false,
    "pycharm": {
     "name": "#%%\n",
     "is_executing": false
    }
   }
  },
  {
   "cell_type": "code",
   "execution_count": 49,
   "outputs": [
    {
     "name": "stdout",
     "text": [
      "T = 0.07, T_crit = 2.13, T < T_crit - гипотеза верна\n"
     ],
     "output_type": "stream"
    }
   ],
   "source": [
    "print(f'T = {round(T, 2)}, T_crit = {round(T_crit, 2)}, T < T_crit - гипотеза верна')\n"
   ],
   "metadata": {
    "collapsed": false,
    "pycharm": {
     "name": "#%%\n",
     "is_executing": false
    }
   }
  }
 ],
 "metadata": {
  "kernelspec": {
   "display_name": "Python 3",
   "language": "python",
   "name": "python3"
  },
  "language_info": {
   "codemirror_mode": {
    "name": "ipython",
    "version": 2
   },
   "file_extension": ".py",
   "mimetype": "text/x-python",
   "name": "python",
   "nbconvert_exporter": "python",
   "pygments_lexer": "ipython2",
   "version": "2.7.6"
  },
  "pycharm": {
   "stem_cell": {
    "cell_type": "raw",
    "source": [],
    "metadata": {
     "collapsed": false
    }
   }
  }
 },
 "nbformat": 4,
 "nbformat_minor": 0
}