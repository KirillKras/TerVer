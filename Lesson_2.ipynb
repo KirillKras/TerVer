{
 "cells": [
  {
   "cell_type": "code",
   "execution_count": 1,
   "metadata": {
    "collapsed": true,
    "pycharm": {
     "is_executing": false
    }
   },
   "outputs": [],
   "source": [
    "import math\n",
    "import pandas as pd\n",
    "import numpy as np"
   ]
  },
  {
   "cell_type": "code",
   "execution_count": 2,
   "outputs": [],
   "source": [
    "def C(n, k):\n",
    "    return math.factorial(n) // (math.factorial(k) * math.factorial(n - k))\n",
    "\n",
    "def my_bernulli(m, n, p):\n",
    "    return C(n, m) * (p ** m) * ((1-p) ** (n-m)) \n",
    "\n",
    "def my_poisson(m, n, p):\n",
    "    l = n * p\n",
    "    return (l ** m / math.factorial(m)) * np.e ** (-l)"
   ],
   "metadata": {
    "collapsed": false,
    "pycharm": {
     "name": "#%%\n",
     "is_executing": false
    }
   }
  },
  {
   "cell_type": "markdown",
   "source": [
    "## Задание 1\n",
    "Контрольная работа состоит из пяти вопросов. На каждый вопрос приведено четыре варианта ответа, один из которых  \n",
    "правильный. Составьте закон распределения числа правильных ответов при простом угадывании. Найдите M(X), D(X)."
   ],
   "metadata": {
    "collapsed": false,
    "pycharm": {
     "name": "#%% md\n"
    }
   }
  },
  {
   "cell_type": "markdown",
   "source": [
    "Воспользуемся формулой Бернулли. В ней n = k = 5. Вероятность положительного исхода в одном испытании 0.25.  \n",
    "Тогда закон распределения $C_{5}^k$ * $0.25^k$ * $0.75^{5-k}$ при k = 5, получаем  \n",
    "P = $0.25^5$  = 0.0009765625  \n",
    "M = 5 * 0.25 = 1.25  \n",
    "D = 1.25 * 0.75 = 0.9375\n",
    " "
   ],
   "metadata": {
    "collapsed": false,
    "pycharm": {
     "name": "#%% md\n"
    }
   }
  },
  {
   "cell_type": "markdown",
   "source": [
    "## Задание 2\n",
    "Вероятность попадания в цель при одном выстреле равна 0.01. Какова вероятность того, что число попаданий при  \n",
    "200 выстрелах будет не менее 5 и не более 10?  \n",
    "\n",
    "По формуле Пуассона находим вероятность с 5 до 10 попаданий и складываем их.  "
   ],
   "metadata": {
    "collapsed": false,
    "pycharm": {
     "name": "#%% md\n"
    }
   }
  },
  {
   "cell_type": "code",
   "execution_count": 9,
   "outputs": [
    {
     "name": "stdout",
     "text": [
      "Вероятность попасть от 5 до 10 раз составляет 0.0526\n"
     ],
     "output_type": "stream"
    }
   ],
   "source": [
    "p_list = [my_poisson(m, 200, 0.01) for m in range(5, 11)]\n",
    "print(f'Вероятность попасть от 5 до 10 раз составляет {round(sum(p_list), 4)}')"
   ],
   "metadata": {
    "collapsed": false,
    "pycharm": {
     "name": "#%%\n",
     "is_executing": false
    }
   }
  },
  {
   "cell_type": "markdown",
   "source": [
    "## Задание 3\n",
    "В условиях предыдущей задачи сколько выстрелов нужно сделать чтобы быть уверенным с вероятностью 0.9,  \n",
    "что хотя бы 10 раз будет совершено попадание?  \n",
    "Подсказка. Как посчитать P(X >= k) для величины X, имеющей распределение Пуассона? Здесь предстоит немножко покодить.\n",
    "\n",
    "Находим N, при котором вероятность промахнуться 10 раз составит не более 0.1"
   ],
   "metadata": {
    "collapsed": false,
    "pycharm": {
     "name": "#%% md\n"
    }
   }
  },
  {
   "cell_type": "code",
   "execution_count": 7,
   "outputs": [
    {
     "name": "stdout",
     "text": [
      "Необходимо сделать 802 выстрелов\n"
     ],
     "output_type": "stream"
    }
   ],
   "source": [
    "p_res = 0\n",
    "n = k = 10\n",
    "while p_res < 0.1:\n",
    "    p_res = my_bernulli(n-k, n, 0.99)\n",
    "    n += 1\n",
    "    \n",
    "print(f'Необходимо сделать {n-1} выстрелов')\n"
   ],
   "metadata": {
    "collapsed": false,
    "pycharm": {
     "name": "#%%\n",
     "is_executing": false
    }
   }
  }
 ],
 "metadata": {
  "kernelspec": {
   "display_name": "Python 3",
   "language": "python",
   "name": "python3"
  },
  "language_info": {
   "codemirror_mode": {
    "name": "ipython",
    "version": 2
   },
   "file_extension": ".py",
   "mimetype": "text/x-python",
   "name": "python",
   "nbconvert_exporter": "python",
   "pygments_lexer": "ipython2",
   "version": "2.7.6"
  },
  "pycharm": {
   "stem_cell": {
    "cell_type": "raw",
    "source": [],
    "metadata": {
     "collapsed": false
    }
   }
  }
 },
 "nbformat": 4,
 "nbformat_minor": 0
}