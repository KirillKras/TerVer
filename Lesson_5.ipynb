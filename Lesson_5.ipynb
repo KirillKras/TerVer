{
 "cells": [
  {
   "cell_type": "code",
   "execution_count": 1,
   "outputs": [],
   "source": [
    "import numpy as np\n",
    "from scipy import stats"
   ],
   "metadata": {
    "collapsed": false,
    "pycharm": {
     "name": "#%%\n",
     "is_executing": false
    }
   }
  },
  {
   "cell_type": "markdown",
   "metadata": {
    "collapsed": true,
    "pycharm": {
     "name": "#%% md\n"
    }
   },
   "source": [
    "### Задача 1\n",
    "Утверждается, что шарики для подшипников, изготовленные автоматическим станком,  \n",
    "имеют средний диаметр 17 мм. Используя уровень значимости 0.025 и правостороннюю  \n",
    "критическую область, проверить данную гипотезу при условии, что в выборке из 100  \n",
    "шариков средний диаметр оказался равным 17.5 мм, а дисперсия известна и равна 4 мм.\n",
    "\n",
    "\n",
    "Уровень значимости 0.025 и правосторонняя критическая область соотвествуют квантилю 2."
   ]
  },
  {
   "cell_type": "code",
   "execution_count": 4,
   "outputs": [
    {
     "name": "stdout",
     "text": [
      "Гипотеза не верна\n"
     ],
     "output_type": "stream"
    }
   ],
   "source": [
    "d_mean = 17\n",
    "d = 17.5\n",
    "std = np.sqrt(4)\n",
    "n = 100\n",
    "alpha = 0.025\n",
    "T = (d - d_mean) / (std / np.sqrt(n))\n",
    "if T < stats.norm().ppf(1-alpha):\n",
    "    print(f'Гипотеза верна T = {round(T, 2)} < 2')\n",
    "else:\n",
    "    print('Гипотеза не верна')"
   ],
   "metadata": {
    "collapsed": false,
    "pycharm": {
     "name": "#%%\n",
     "is_executing": false
    }
   }
  },
  {
   "cell_type": "markdown",
   "source": [
    "### Задача 2\n",
    "Известно, что генеральная совокупность распределена нормально с известным средним  \n",
    "квадратическим отклонением 16. Найти доверительный интервал для оценки  \n",
    "математического ожидания a с надёжностью 0.95, если выборочное среднее равно 80,  \n",
    "а объём равен 256."
   ],
   "metadata": {
    "collapsed": false,
    "pycharm": {
     "name": "#%% md\n"
    }
   }
  },
  {
   "cell_type": "code",
   "execution_count": 5,
   "outputs": [
    {
     "name": "stdout",
     "text": [
      "Доверительный интервал от 78.04 до 81.96\n"
     ],
     "output_type": "stream"
    }
   ],
   "source": [
    "X = 80\n",
    "std = 16\n",
    "p = 0.95\n",
    "alpha = (1 - p)\n",
    "n = 256\n",
    "interval = (X - stats.norm().ppf(1 - alpha / 2) * (std /np.sqrt(n)), X + stats.norm().ppf(1 - alpha / 2) * (std / np.sqrt(n)))\n",
    "print(f'Доверительный интервал от {round(interval[0], 2)} до {round(interval[1], 2)}')"
   ],
   "metadata": {
    "collapsed": false,
    "pycharm": {
     "name": "#%%\n",
     "is_executing": false
    }
   }
  },
  {
   "cell_type": "markdown",
   "source": [
    "### Задача 3\n",
    "Продавец утверждает, что средний вес пачки печенья составляет 200 г.   \n",
    "Из партии извлечена выборка из 10 пачек. Вес каждой пачки составляет:  \n",
    "202, 203, 199, 197, 195, 201, 200, 204, 194, 190\n",
    "Известно, что их веса распределены нормально. Верно ли утверждение продавца,  \n",
    "если учитывать, что уровень значимости равен 1%?"
   ],
   "metadata": {
    "collapsed": false,
    "pycharm": {
     "name": "#%% md\n",
     "is_executing": false
    }
   }
  },
  {
   "cell_type": "code",
   "execution_count": 14,
   "outputs": [
    {
     "name": "stdout",
     "text": [
      "Гипотеза True\n"
     ],
     "output_type": "stream"
    }
   ],
   "source": [
    "a = 200\n",
    "samples = np.array([202, 203, 199, 197, 195, 201, 200, 204, 194, 190])\n",
    "n = samples.shape[0]\n",
    "mean = samples.mean()\n",
    "std = samples.std(ddof=1)\n",
    "alpha = 0.01\n",
    "\n",
    "T = np.abs(mean - a) / (std / np.sqrt(n))\n",
    "t = stats.t.ppf(1 - alpha / 2, df=n-1)\n",
    "\n",
    "print(f'Гипотеза {T < t}')\n"
   ],
   "metadata": {
    "collapsed": false,
    "pycharm": {
     "name": "#%%\n",
     "is_executing": false
    }
   }
  }
 ],
 "metadata": {
  "kernelspec": {
   "display_name": "Python 3",
   "language": "python",
   "name": "python3"
  },
  "language_info": {
   "codemirror_mode": {
    "name": "ipython",
    "version": 2
   },
   "file_extension": ".py",
   "mimetype": "text/x-python",
   "name": "python",
   "nbconvert_exporter": "python",
   "pygments_lexer": "ipython2",
   "version": "2.7.6"
  },
  "pycharm": {
   "stem_cell": {
    "cell_type": "raw",
    "source": [],
    "metadata": {
     "collapsed": false
    }
   }
  }
 },
 "nbformat": 4,
 "nbformat_minor": 0
}