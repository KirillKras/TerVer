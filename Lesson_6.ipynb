{
 "cells": [
  {
   "cell_type": "markdown",
   "metadata": {
    "collapsed": true,
    "pycharm": {
     "name": "#%% md\n"
    }
   },
   "source": [
    "### Задача 1\n",
    "Даны значения величины заработной платы заемщиков банка (salary) и  \n",
    "значения их поведенческого кредитного скоринга (scoring):  \n",
    "salary = [35, 45, 190, 200, 40, 70, 54, 150, 120, 110]  \n",
    "scoring = [401, 574, 874, 919, 459, 739, 653, 902, 746, 832]  \n",
    "Без использования сторонних библиотек (вроде numpy, pandas и др.) найдите:\n",
    "1. ковариацию (смещённую и несмещённую) этих двух величин,  \n",
    "2. коэффициент корреляции Пирсона.  "
   ]
  },
  {
   "cell_type": "code",
   "execution_count": 3,
   "outputs": [],
   "source": [
    "import numpy as np\n",
    "from scipy import stats"
   ],
   "metadata": {
    "collapsed": false,
    "pycharm": {
     "name": "#%%\n",
     "is_executing": false
    }
   }
  },
  {
   "cell_type": "code",
   "execution_count": 4,
   "outputs": [],
   "source": [
    "salary = np.array([35, 45, 190, 200, 40, 70, 54, 150, 120, 110])  \n",
    "scoring = np.array([401, 574, 874, 919, 459, 739, 653, 902, 746, 832])  "
   ],
   "metadata": {
    "collapsed": false,
    "pycharm": {
     "name": "#%%\n",
     "is_executing": false
    }
   }
  },
  {
   "cell_type": "markdown",
   "source": [
    "Смещенная ковариация cov(X, Y ) = M(X · Y ) − M(X) · M(Y )"
   ],
   "metadata": {
    "collapsed": false
   }
  },
  {
   "cell_type": "code",
   "execution_count": 5,
   "outputs": [
    {
     "name": "stdout",
     "text": [
      "Несмещенная ковариация  9157.839999999997\n"
     ],
     "output_type": "stream"
    }
   ],
   "source": [
    "def my_mean(a):\n",
    "    return sum(a) / a.shape[0]\n",
    "\n",
    "def cov_(x, y):\n",
    "    return my_mean(x*y) - my_mean(x) * my_mean(y) \n",
    "\n",
    "print(f'Несмещенная ковариация  {cov_(salary, scoring)}')"
   ],
   "metadata": {
    "collapsed": false,
    "pycharm": {
     "name": "#%%\n",
     "is_executing": false
    }
   }
  },
  {
   "cell_type": "markdown",
   "source": [
    "Несмещенная ковариация cov(X,Y)=M((X−M(X))·(Y −M(Y)))"
   ],
   "metadata": {
    "collapsed": false,
    "pycharm": {
     "name": "#%% md\n",
     "is_executing": false
    }
   }
  },
  {
   "cell_type": "code",
   "execution_count": 6,
   "outputs": [
    {
     "name": "stdout",
     "text": [
      "Несмещенная ковариация  10175.377777777778\nНесмещенная ковариация (numpy) 10175.377777777776\n"
     ],
     "output_type": "stream"
    }
   ],
   "source": [
    "def cov(x, y):\n",
    "    return sum((x - my_mean(x)) * (y - my_mean(y))) / (x.shape[0] - 1)\n",
    "\n",
    "print(f'Несмещенная ковариация  {cov(salary, scoring)}')\n",
    "print(f'Несмещенная ковариация (numpy) {np.cov(salary, scoring)[0,1]}')"
   ],
   "metadata": {
    "collapsed": false,
    "pycharm": {
     "name": "#%%\n",
     "is_executing": false
    }
   }
  },
  {
   "cell_type": "markdown",
   "source": [
    "Коэффициент корреляции Пирсона"
   ],
   "metadata": {
    "collapsed": false,
    "pycharm": {
     "name": "#%% md\n"
    }
   }
  },
  {
   "cell_type": "code",
   "execution_count": 7,
   "outputs": [
    {
     "name": "stdout",
     "text": [
      "Коэффициент корреляции Пирсона 0.8874900920739162\nКоэффициент корреляции Пирсона (numpy) 0.8874900920739162\n"
     ],
     "output_type": "stream"
    }
   ],
   "source": [
    "def my_std(a):\n",
    "    return np.sqrt(sum((a - my_mean(a)) ** 2) / (a.shape[0] - 1))\n",
    "\n",
    "def my_pirson(x, y):\n",
    "    return cov(x, y) / (my_std(x) * my_std(y))\n",
    "\n",
    "\n",
    "print(f'Коэффициент корреляции Пирсона {my_pirson(salary, scoring)}')\n",
    "print(f'Коэффициент корреляции Пирсона (numpy) {np.corrcoef(salary, scoring)[0,1]}')"
   ],
   "metadata": {
    "collapsed": false,
    "pycharm": {
     "name": "#%%\n",
     "is_executing": false
    }
   }
  },
  {
   "cell_type": "markdown",
   "source": [
    "### Задача 2\n",
    "Измерены значения IQ выборки студентов, обучающихся в местных технических вузах:  \n",
    "\n",
    "131, 125, 115, 122, 131, 115, 107, 99, 125, 111\n",
    "\n",
    "Известно, что в генеральной совокупности IQ распределен нормально.  \n",
    "Найдите доверительный интервал для математического ожидания с надежностью 0.95."
   ],
   "metadata": {
    "collapsed": false,
    "pycharm": {
     "name": "#%% md\n"
    }
   }
  },
  {
   "cell_type": "code",
   "execution_count": 8,
   "outputs": [],
   "source": [
    "p = 0.95\n",
    "alpha =1 - (1 - p) / 2 \n",
    "iq = np.array([131, 125, 115, 122, 131, 115, 107, 99, 125, 111])\n",
    "n = iq.shape[0]\n",
    "mean = iq.mean()\n",
    "std = iq.std(ddof=1)"
   ],
   "metadata": {
    "collapsed": false,
    "pycharm": {
     "name": "#%%\n",
     "is_executing": false
    }
   }
  },
  {
   "cell_type": "code",
   "execution_count": 9,
   "outputs": [
    {
     "name": "stdout",
     "text": [
      "Доверительный интервал от 110.56 до 125.64\n"
     ],
     "output_type": "stream"
    }
   ],
   "source": [
    "t = stats.t.ppf(alpha, df=n-1)\n",
    "interval = (mean - t * (std / np.sqrt(n)), mean + t * (std / np.sqrt(n)))\n",
    "print(f'Доверительный интервал от {round(interval[0], 2)} до {round(interval[1], 2)}')\n"
   ],
   "metadata": {
    "collapsed": false,
    "pycharm": {
     "name": "#%%\n",
     "is_executing": false
    }
   }
  },
  {
   "cell_type": "markdown",
   "source": [
    "### Задача 3\n",
    "Известно, что рост футболистов в сборной распределён нормально с известной дисперсией 25.  \n",
    "На выборке объёма 27 выборочное среднее составило 174.2. Найдите доверительный интервал  \n",
    "для математического ожидания с надёжностью 0.95."
   ],
   "metadata": {
    "collapsed": false,
    "pycharm": {
     "name": "#%% md\n"
    }
   }
  },
  {
   "cell_type": "code",
   "execution_count": 10,
   "outputs": [],
   "source": [
    "std = 25\n",
    "mean_ = 174.2\n",
    "p = 0.95\n",
    "n = 27\n",
    "alpha = 1 - (1 - p) / 2"
   ],
   "metadata": {
    "collapsed": false,
    "pycharm": {
     "name": "#%%\n",
     "is_executing": false
    }
   }
  },
  {
   "cell_type": "code",
   "execution_count": 12,
   "outputs": [
    {
     "name": "stdout",
     "text": [
      "Доверительный интервал от 164.77 до 183.63\n"
     ],
     "output_type": "stream"
    }
   ],
   "source": [
    "t = stats.norm().ppf(alpha)\n",
    "interval = (mean_ - t * (std / np.sqrt(n)), mean_ + t * (std / np.sqrt(n)))\n",
    "print(f'Доверительный интервал от {round(interval[0], 2)} до {round(interval[1], 2)}')"
   ],
   "metadata": {
    "collapsed": false,
    "pycharm": {
     "name": "#%%\n",
     "is_executing": false
    }
   }
  },
  {
   "cell_type": "code",
   "execution_count": null,
   "outputs": [],
   "source": [
    "\n"
   ],
   "metadata": {
    "collapsed": false,
    "pycharm": {
     "name": "#%%\n"
    }
   }
  }
 ],
 "metadata": {
  "kernelspec": {
   "display_name": "Python 3",
   "language": "python",
   "name": "python3"
  },
  "language_info": {
   "codemirror_mode": {
    "name": "ipython",
    "version": 2
   },
   "file_extension": ".py",
   "mimetype": "text/x-python",
   "name": "python",
   "nbconvert_exporter": "python",
   "pygments_lexer": "ipython2",
   "version": "2.7.6"
  },
  "pycharm": {
   "stem_cell": {
    "cell_type": "raw",
    "source": [],
    "metadata": {
     "collapsed": false
    }
   }
  }
 },
 "nbformat": 4,
 "nbformat_minor": 0
}