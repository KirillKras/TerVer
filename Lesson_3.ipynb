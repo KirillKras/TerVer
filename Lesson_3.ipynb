{
 "cells": [
  {
   "cell_type": "code",
   "execution_count": 2,
   "outputs": [],
   "source": [
    "import numpy as np\n",
    "import matplotlib.pyplot as plt"
   ],
   "metadata": {
    "collapsed": false,
    "pycharm": {
     "name": "#%%\n",
     "is_executing": false
    }
   }
  },
  {
   "cell_type": "markdown",
   "metadata": {
    "collapsed": true,
    "pycharm": {
     "name": "#%% md\n"
    }
   },
   "source": [
    "## Задача 1\n",
    "Даны значения зарплат из выборки выпускников: \n",
    "\n",
    "\n",
    "\n",
    "Своими руками (т.е. без использования статистических функций вроде mean, std, var)   \n",
    "посчитать среднее арифметическое, смещённую и несмещённую оценки дисперсии, среднее  \n",
    "квадратичное отклонение для данной выборки.\n",
    "Можно затем посчитать те же значения с использованием статистических функций, чтобы проверить себя."
   ]
  },
  {
   "cell_type": "code",
   "execution_count": 23,
   "outputs": [],
   "source": [
    "zp = np.array([100, 80, 75, 77, 89, 33, 45, 25, 65, 17, 30, 230, 24, 57, 55, 70, 75, 65, 84, 90, 150])"
   ],
   "metadata": {
    "collapsed": false,
    "pycharm": {
     "name": "#%%\n",
     "is_executing": false
    }
   }
  },
  {
   "cell_type": "code",
   "execution_count": 7,
   "outputs": [
    {
     "name": "stdout",
     "text": [
      "Среднее арифметическое 73.14285714285714\n"
     ],
     "output_type": "stream"
    }
   ],
   "source": [
    "my_mean = zp.sum() / zp.shape[0]\n",
    "print(f'Среднее арифметическое {my_mean}')"
   ],
   "metadata": {
    "collapsed": false,
    "pycharm": {
     "name": "#%%\n",
     "is_executing": false
    }
   }
  },
  {
   "cell_type": "code",
   "execution_count": 12,
   "outputs": [
    {
     "name": "stdout",
     "text": [
      "Смещенная оценка дисперсии 2135.074829931974\n"
     ],
     "output_type": "stream"
    }
   ],
   "source": [
    "my_var_0 = sum(zp**2 - my_mean**2) / zp.shape[0]\n",
    "print(f'Смещенная оценка дисперсии {my_var_0}')"
   ],
   "metadata": {
    "collapsed": false,
    "pycharm": {
     "name": "#%%\n",
     "is_executing": false
    }
   }
  },
  {
   "cell_type": "code",
   "execution_count": 15,
   "outputs": [
    {
     "name": "stdout",
     "text": [
      "Несмещенная оценка дисперсии 2241.8285714285726\n"
     ],
     "output_type": "stream"
    }
   ],
   "source": [
    "my_var_1 = sum(zp**2 - my_mean**2) / (zp.shape[0] - 1)\n",
    "print(f'Несмещенная оценка дисперсии {my_var_1}')"
   ],
   "metadata": {
    "collapsed": false,
    "pycharm": {
     "name": "#%%\n",
     "is_executing": false
    }
   }
  },
  {
   "cell_type": "code",
   "execution_count": 20,
   "outputs": [
    {
     "name": "stdout",
     "text": [
      "Среднеквадратичное отклонение несмещенное 47.3479521355314\n"
     ],
     "output_type": "stream"
    }
   ],
   "source": [
    "my_std = np.sqrt(my_var_1)\n",
    "print(f'Среднеквадратичное отклонение несмещенное {my_std}')"
   ],
   "metadata": {
    "collapsed": false,
    "pycharm": {
     "name": "#%%\n",
     "is_executing": false
    }
   }
  },
  {
   "cell_type": "markdown",
   "source": [
    "## Задача 2\n",
    "Для выборки из задачи 1 найти (также без использования статистических функций) медиану,  \n",
    "первый и третий квартили, интерквартильное расстояние. Найти выборсы в выборке, используя  \n",
    "для этого \"усы\" из boxplot.\n",
    "\n",
    "В этой задаче неоднозначности в вычислении квантилей можно разрешать любым способом."
   ],
   "metadata": {
    "collapsed": false,
    "pycharm": {
     "name": "#%% md\n",
     "is_executing": false
    }
   }
  },
  {
   "cell_type": "code",
   "execution_count": 27,
   "outputs": [],
   "source": [
    "zp.sort()"
   ],
   "metadata": {
    "collapsed": false,
    "pycharm": {
     "name": "#%%\n",
     "is_executing": false
    }
   }
  },
  {
   "cell_type": "code",
   "execution_count": 30,
   "outputs": [
    {
     "name": "stdout",
     "text": [
      "Медиана 70\n"
     ],
     "output_type": "stream"
    }
   ],
   "source": [
    "my_median = zp[zp.shape[0] // 2]\n",
    "print(f'Медиана {my_median}')"
   ],
   "metadata": {
    "collapsed": false,
    "pycharm": {
     "name": "#%%\n",
     "is_executing": false
    }
   }
  },
  {
   "cell_type": "code",
   "execution_count": 34,
   "outputs": [
    {
     "name": "stdout",
     "text": [
      "Первый квартиль  45\n"
     ],
     "output_type": "stream"
    }
   ],
   "source": [
    "quant_1 = zp[zp.shape[0] // 4]\n",
    "print(f'Первый квартиль  {quant_1}')"
   ],
   "metadata": {
    "collapsed": false,
    "pycharm": {
     "name": "#%%\n",
     "is_executing": false
    }
   }
  },
  {
   "cell_type": "code",
   "execution_count": 35,
   "outputs": [
    {
     "name": "stdout",
     "text": [
      "Третий квартиль  84\n"
     ],
     "output_type": "stream"
    }
   ],
   "source": [
    "quant_3 = zp[(zp.shape[0] // 4) * 3]\n",
    "print(f'Третий квартиль  {quant_3}')"
   ],
   "metadata": {
    "collapsed": false,
    "pycharm": {
     "name": "#%%\n",
     "is_executing": false
    }
   }
  },
  {
   "cell_type": "code",
   "execution_count": 38,
   "outputs": [
    {
     "data": {
      "text/plain": "array([45., 84.])"
     },
     "metadata": {},
     "output_type": "execute_result",
     "execution_count": 38
    }
   ],
   "source": [
    "np.quantile(zp, [0.25, 0.75])"
   ],
   "metadata": {
    "collapsed": false,
    "pycharm": {
     "name": "#%%\n",
     "is_executing": false
    }
   }
  },
  {
   "cell_type": "code",
   "execution_count": 46,
   "outputs": [
    {
     "name": "stdout",
     "text": [
      "Интерквантильный размах 39\n"
     ],
     "output_type": "stream"
    }
   ],
   "source": [
    "iqr = quant_3 - quant_1\n",
    "print(f'Интерквантильный размах {iqr}')"
   ],
   "metadata": {
    "collapsed": false,
    "pycharm": {
     "name": "#%%\n",
     "is_executing": false
    }
   }
  },
  {
   "cell_type": "code",
   "execution_count": 40,
   "outputs": [
    {
     "data": {
      "text/plain": "{'whiskers': [<matplotlib.lines.Line2D at 0x11ad5b400>,\n  <matplotlib.lines.Line2D at 0x11ad5b748>],\n 'caps': [<matplotlib.lines.Line2D at 0x11ad5ba90>,\n  <matplotlib.lines.Line2D at 0x11ad5bdd8>],\n 'boxes': [<matplotlib.lines.Line2D at 0x11ad47f98>],\n 'medians': [<matplotlib.lines.Line2D at 0x11ad5beb8>],\n 'fliers': [<matplotlib.lines.Line2D at 0x11ad6c4a8>],\n 'means': []}"
     },
     "metadata": {},
     "output_type": "execute_result",
     "execution_count": 40
    },
    {
     "data": {
      "text/plain": "<Figure size 432x288 with 1 Axes>",
      "image/png": "[encoded data removed]"
     },
     "metadata": {
      "needs_background": "light"
     },
     "output_type": "display_data"
    }
   ],
   "source": [
    "plt.boxplot(zp)"
   ],
   "metadata": {
    "collapsed": false,
    "pycharm": {
     "name": "#%%\n",
     "is_executing": false
    }
   }
  },
  {
   "cell_type": "code",
   "execution_count": 50,
   "outputs": [
    {
     "name": "stdout",
     "text": [
      "Выбросы [150 230]\n"
     ],
     "output_type": "stream"
    }
   ],
   "source": [
    "boxplot_range = (quant_1 - 1.5 * iqr, quant_3 + 1.5 * iqr)\n",
    "outliers = zp[(zp < boxplot_range[0]) | zp > boxplot_range[1]]\n",
    "print(f'Выбросы {outliers}')"
   ],
   "metadata": {
    "collapsed": false,
    "pycharm": {
     "name": "#%%\n",
     "is_executing": false
    }
   }
  },
  {
   "cell_type": "markdown",
   "source": [
    "## Задача 3\n",
    "В университет на факультеты A и B поступило равное количество студентов,  \n",
    "а на факультет C студентов поступило столько же, сколько на A и B вместе.  \n",
    "Вероятность того, что студент факультета A сдаст первую сессию, равна 0.8.  \n",
    "Для студента факультета B эта вероятность равна 0.7, а для студента факультета C - 0.9.  \n",
    "Студент сдал первую сессию. Какова вероятность, что он учится: a) на факультете A? б)  \n",
    "на факультете B? в) на факультете C?"
   ],
   "metadata": {
    "collapsed": false,
    "pycharm": {
     "name": "#%% md\n"
    }
   }
  },
  {
   "cell_type": "code",
   "execution_count": 56,
   "outputs": [
    {
     "name": "stdout",
     "text": [
      "Вероятность, что студент из A 0.242\nВероятность, что студент из B 0.212\nВероятность, что студент из C 0.545\n"
     ],
     "output_type": "stream"
    }
   ],
   "source": [
    "p_a = 0.25 * 0.8 / (0.8 * 0.25 + 0.7 * 0.25 + 0.9 * 0.5)\n",
    "p_b = 0.25 * 0.7 / (0.8 * 0.25 + 0.7 * 0.25 + 0.9 * 0.5)\n",
    "p_c = 0.5 * 0.9 /  (0.8 * 0.25 + 0.7 * 0.25 + 0.9 * 0.5)\n",
    "print(f'Вероятность, что студент из A {round(p_a, 3)}')\n",
    "print(f'Вероятность, что студент из B {round(p_b, 3)}')\n",
    "print(f'Вероятность, что студент из C {round(p_c, 3)}')\n"
   ],
   "metadata": {
    "collapsed": false,
    "pycharm": {
     "name": "#%%\n",
     "is_executing": false
    }
   }
  }
 ],
 "metadata": {
  "kernelspec": {
   "display_name": "Python 3",
   "language": "python",
   "name": "python3"
  },
  "language_info": {
   "codemirror_mode": {
    "name": "ipython",
    "version": 2
   },
   "file_extension": ".py",
   "mimetype": "text/x-python",
   "name": "python",
   "nbconvert_exporter": "python",
   "pygments_lexer": "ipython2",
   "version": "2.7.6"
  },
  "pycharm": {
   "stem_cell": {
    "cell_type": "raw",
    "source": [],
    "metadata": {
     "collapsed": false
    }
   }
  }
 },
 "nbformat": 4,
 "nbformat_minor": 0
}