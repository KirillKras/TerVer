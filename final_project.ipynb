{
 "cells": [
  {
   "cell_type": "code",
   "execution_count": 1,
   "metadata": {
    "pycharm": {
     "is_executing": false
    }
   },
   "outputs": [],
   "source": [
    "import pandas as pd\n",
    "import numpy as np\n",
    "import matplotlib.pyplot as plt\n",
    "import geopandas as geopd\n",
    "from shapely.geometry import Point\n",
    "from ipyleaflet import Map, Marker, MarkerCluster\n",
    "\n",
    "import hdbscan\n",
    "import seaborn as sns\n",
    "%matplotlib inline\n",
    "sns.set_context('poster')\n",
    "sns.set_style('white')\n",
    "sns.set_color_codes()"
   ]
  },
  {
   "cell_type": "markdown",
   "metadata": {
    "pycharm": {
     "name": "#%% md\n"
    }
   },
   "source": [
    "Создаем объект DataFrame из файла статистики абонента"
   ]
  },
  {
   "cell_type": "code",
   "execution_count": 2,
   "metadata": {
    "pycharm": {
     "is_executing": false,
     "name": "#%%\n"
    }
   },
   "outputs": [
    {
     "name": "stdout",
     "output_type": "stream",
     "text": [
      "<class 'pandas.core.frame.DataFrame'>\n",
      "RangeIndex: 22149 entries, 0 to 22148\n",
      "Data columns (total 21 columns):\n",
      "Unnamed: 0    22149 non-null int64\n",
      "DATE          22149 non-null datetime64[ns]\n",
      "DURATION      22149 non-null float64\n",
      "TYPE          22149 non-null object\n",
      "DIRECTION     22149 non-null object\n",
      "MSISDN_A      22149 non-null int64\n",
      "IMSI_A        22149 non-null int64\n",
      "IMEI_A        21095 non-null float64\n",
      "MSISDN_B      2670 non-null float64\n",
      "LAC_A         22149 non-null int64\n",
      "CELLID_A      22149 non-null int64\n",
      "AZIMUTH_A     22149 non-null int64\n",
      "ADDRESS_A     22073 non-null object\n",
      "ROAMING       22149 non-null object\n",
      "LAC           22149 non-null int64\n",
      "CELL          22149 non-null int64\n",
      "ADDRESS       22149 non-null object\n",
      "LON           22149 non-null float64\n",
      "LAT           22149 non-null float64\n",
      "AZIMUTH       21862 non-null float64\n",
      "LOCATION      20644 non-null object\n",
      "dtypes: datetime64[ns](1), float64(6), int64(8), object(6)\n",
      "memory usage: 3.5+ MB\n"
     ]
    }
   ],
   "source": [
    "ab_stat = pd.read_excel('ab_stat.xlsx', index_col=False)\n",
    "ab_stat.info()"
   ]
  },
  {
   "cell_type": "markdown",
   "metadata": {
    "pycharm": {
     "name": "#%% md\n"
    }
   },
   "source": [
    "### Задача кластеризации мест пребования и вычисления вероятностей перехода между ними (Цепь Маркова)\n",
    "\n",
    "Из файла статистики выбираем данные, относящиеся к перемещению абонента  \n",
    "DATE - время  \n",
    "LAT, LON - координаты БС  \n",
    "LAC, CELL - идентификаторы БС\n",
    "AZIMUTH - сектор обслуживания БС  \n",
    "LOCATION - внешняя/внутренняя БС"
   ]
  },
  {
   "cell_type": "code",
   "execution_count": 3,
   "metadata": {
    "pycharm": {
     "is_executing": false,
     "name": "#%%\n"
    }
   },
   "outputs": [
    {
     "name": "stderr",
     "output_type": "stream",
     "text": [
      "/Users/kosmosivanov/.conda/envs/TerVer/lib/python3.7/site-packages/ipykernel_launcher.py:2: SettingWithCopyWarning: \n",
      "A value is trying to be set on a copy of a slice from a DataFrame.\n",
      "Try using .loc[row_indexer,col_indexer] = value instead\n",
      "\n",
      "See the caveats in the documentation: http://pandas.pydata.org/pandas-docs/stable/user_guide/indexing.html#returning-a-view-versus-a-copy\n",
      "  \n"
     ]
    },
    {
     "data": {
      "text/html": [
       "<div>\n",
       "<style scoped>\n",
       "    .dataframe tbody tr th:only-of-type {\n",
       "        vertical-align: middle;\n",
       "    }\n",
       "\n",
       "    .dataframe tbody tr th {\n",
       "        vertical-align: top;\n",
       "    }\n",
       "\n",
       "    .dataframe thead th {\n",
       "        text-align: right;\n",
       "    }\n",
       "</style>\n",
       "<table border=\"1\" class=\"dataframe\">\n",
       "  <thead>\n",
       "    <tr style=\"text-align: right;\">\n",
       "      <th></th>\n",
       "      <th>DATE</th>\n",
       "      <th>LAT</th>\n",
       "      <th>LON</th>\n",
       "      <th>AZIMUTH</th>\n",
       "      <th>LOCATION</th>\n",
       "      <th>LAC_CELL</th>\n",
       "    </tr>\n",
       "  </thead>\n",
       "  <tbody>\n",
       "    <tr>\n",
       "      <th>0</th>\n",
       "      <td>2018-05-03 12:46:52</td>\n",
       "      <td>56.28441</td>\n",
       "      <td>38.396787</td>\n",
       "      <td>200.0</td>\n",
       "      <td>outdoor</td>\n",
       "      <td>9021_63793</td>\n",
       "    </tr>\n",
       "    <tr>\n",
       "      <th>1</th>\n",
       "      <td>2018-05-03 13:46:52</td>\n",
       "      <td>56.28441</td>\n",
       "      <td>38.396787</td>\n",
       "      <td>200.0</td>\n",
       "      <td>outdoor</td>\n",
       "      <td>9021_63793</td>\n",
       "    </tr>\n",
       "    <tr>\n",
       "      <th>2</th>\n",
       "      <td>2018-05-03 14:46:52</td>\n",
       "      <td>56.28441</td>\n",
       "      <td>38.396787</td>\n",
       "      <td>200.0</td>\n",
       "      <td>outdoor</td>\n",
       "      <td>9021_63793</td>\n",
       "    </tr>\n",
       "    <tr>\n",
       "      <th>3</th>\n",
       "      <td>2018-05-09 11:04:52</td>\n",
       "      <td>56.28441</td>\n",
       "      <td>38.396787</td>\n",
       "      <td>200.0</td>\n",
       "      <td>outdoor</td>\n",
       "      <td>9021_63793</td>\n",
       "    </tr>\n",
       "    <tr>\n",
       "      <th>4</th>\n",
       "      <td>2018-05-09 19:04:52</td>\n",
       "      <td>56.28441</td>\n",
       "      <td>38.396787</td>\n",
       "      <td>200.0</td>\n",
       "      <td>outdoor</td>\n",
       "      <td>9021_63793</td>\n",
       "    </tr>\n",
       "  </tbody>\n",
       "</table>\n",
       "</div>"
      ],
      "text/plain": [
       "                 DATE       LAT        LON  AZIMUTH LOCATION    LAC_CELL\n",
       "0 2018-05-03 12:46:52  56.28441  38.396787    200.0  outdoor  9021_63793\n",
       "1 2018-05-03 13:46:52  56.28441  38.396787    200.0  outdoor  9021_63793\n",
       "2 2018-05-03 14:46:52  56.28441  38.396787    200.0  outdoor  9021_63793\n",
       "3 2018-05-09 11:04:52  56.28441  38.396787    200.0  outdoor  9021_63793\n",
       "4 2018-05-09 19:04:52  56.28441  38.396787    200.0  outdoor  9021_63793"
      ]
     },
     "execution_count": 3,
     "metadata": {},
     "output_type": "execute_result"
    }
   ],
   "source": [
    "lat_long = ab_stat[['DATE', 'LAT', 'LON', 'AZIMUTH', 'LOCATION', 'LAC', 'CELL']]\n",
    "lat_long['LAC_CELL'] = lat_long.apply(lambda x: str(x.LAC) + '_' + str(x.CELL), axis=1)\n",
    "lat_long = lat_long.drop(['LAC', 'CELL'], axis=1)\n",
    "lat_long.head()"
   ]
  },
  {
   "cell_type": "markdown",
   "metadata": {
    "pycharm": {
     "name": "#%% md\n"
    }
   },
   "source": [
    "Создаем Серию из LAC_CELL и временным индексом для фильтрации редких БС"
   ]
  },
  {
   "cell_type": "code",
   "execution_count": 4,
   "metadata": {
    "pycharm": {
     "is_executing": false,
     "name": "#%%\n"
    }
   },
   "outputs": [
    {
     "data": {
      "text/plain": [
       "DATE\n",
       "2018-05-03 12:46:52    9021_63793\n",
       "2018-05-03 13:46:52    9021_63793\n",
       "2018-05-03 14:46:52    9021_63793\n",
       "2018-05-09 11:04:52    9021_63793\n",
       "2018-05-09 19:04:52    9021_63793\n",
       "Name: LAC_CELL, dtype: object"
      ]
     },
     "execution_count": 4,
     "metadata": {},
     "output_type": "execute_result"
    }
   ],
   "source": [
    "lat_long_index = lat_long[['DATE', 'LAC_CELL']]\n",
    "lat_long_index.index = lat_long.DATE\n",
    "lat_long_index = lat_long_index['LAC_CELL']\n",
    "lat_long_index.head()"
   ]
  },
  {
   "cell_type": "markdown",
   "metadata": {
    "pycharm": {
     "name": "#%% md\n"
    }
   },
   "source": [
    "Фильтруем БС, встречающиеся более 1 раза"
   ]
  },
  {
   "cell_type": "code",
   "execution_count": 5,
   "metadata": {
    "pycharm": {
     "is_executing": false,
     "name": "#%%\n"
    }
   },
   "outputs": [
    {
     "data": {
      "text/plain": [
       "21925"
      ]
     },
     "execution_count": 5,
     "metadata": {},
     "output_type": "execute_result"
    }
   ],
   "source": [
    "lat_long_index = lat_long_index[lat_long_index.map(lat_long_index.value_counts()) > 1]\n",
    "lat_long_index.shape[0]"
   ]
  },
  {
   "cell_type": "markdown",
   "metadata": {
    "pycharm": {
     "name": "#%% md\n"
    }
   },
   "source": [
    "Ресемплим серию по ежечастному интервалу, выбираем БС которая чаще всего встречается в каждом часе"
   ]
  },
  {
   "cell_type": "code",
   "execution_count": 6,
   "metadata": {
    "pycharm": {
     "is_executing": false,
     "name": "#%%\n"
    }
   },
   "outputs": [
    {
     "data": {
      "text/plain": [
       "5810"
      ]
     },
     "execution_count": 6,
     "metadata": {},
     "output_type": "execute_result"
    }
   ],
   "source": [
    "r = lat_long_index.resample('H')\n",
    "lat_long_index_1h = r.apply(lambda x: x.value_counts().index[0] \n",
    "                            if len(x.value_counts()) else None)\n",
    "lat_long_index_1h.dropna(inplace=True)\n",
    "lat_long_index_1h.shape[0]"
   ]
  },
  {
   "cell_type": "markdown",
   "metadata": {
    "pycharm": {
     "name": "#%% md\n"
    }
   },
   "source": [
    "Объединяем отфильтрованные БС с исходным датафреймом с местами пребывания"
   ]
  },
  {
   "cell_type": "code",
   "execution_count": 7,
   "metadata": {
    "pycharm": {
     "is_executing": false,
     "name": "#%%\n"
    }
   },
   "outputs": [
    {
     "data": {
      "text/html": [
       "<div>\n",
       "<style scoped>\n",
       "    .dataframe tbody tr th:only-of-type {\n",
       "        vertical-align: middle;\n",
       "    }\n",
       "\n",
       "    .dataframe tbody tr th {\n",
       "        vertical-align: top;\n",
       "    }\n",
       "\n",
       "    .dataframe thead th {\n",
       "        text-align: right;\n",
       "    }\n",
       "</style>\n",
       "<table border=\"1\" class=\"dataframe\">\n",
       "  <thead>\n",
       "    <tr style=\"text-align: right;\">\n",
       "      <th></th>\n",
       "      <th>DATE</th>\n",
       "      <th>LAC_CELL</th>\n",
       "      <th>LAT</th>\n",
       "      <th>LON</th>\n",
       "      <th>AZIMUTH</th>\n",
       "      <th>LOCATION</th>\n",
       "    </tr>\n",
       "  </thead>\n",
       "  <tbody>\n",
       "    <tr>\n",
       "      <th>0</th>\n",
       "      <td>2018-05-03 12:00:00</td>\n",
       "      <td>5036_197534212</td>\n",
       "      <td>56.288675</td>\n",
       "      <td>38.210756</td>\n",
       "      <td>60.0</td>\n",
       "      <td>outdoor</td>\n",
       "    </tr>\n",
       "    <tr>\n",
       "      <th>1</th>\n",
       "      <td>2018-05-03 13:00:00</td>\n",
       "      <td>9021_63793</td>\n",
       "      <td>56.284410</td>\n",
       "      <td>38.396787</td>\n",
       "      <td>200.0</td>\n",
       "      <td>outdoor</td>\n",
       "    </tr>\n",
       "    <tr>\n",
       "      <th>2</th>\n",
       "      <td>2018-05-09 11:00:00</td>\n",
       "      <td>9021_63793</td>\n",
       "      <td>56.284410</td>\n",
       "      <td>38.396787</td>\n",
       "      <td>200.0</td>\n",
       "      <td>outdoor</td>\n",
       "    </tr>\n",
       "    <tr>\n",
       "      <th>3</th>\n",
       "      <td>2018-05-09 19:00:00</td>\n",
       "      <td>9021_63793</td>\n",
       "      <td>56.284410</td>\n",
       "      <td>38.396787</td>\n",
       "      <td>200.0</td>\n",
       "      <td>outdoor</td>\n",
       "    </tr>\n",
       "    <tr>\n",
       "      <th>4</th>\n",
       "      <td>2018-05-09 20:00:00</td>\n",
       "      <td>9021_63793</td>\n",
       "      <td>56.284410</td>\n",
       "      <td>38.396787</td>\n",
       "      <td>200.0</td>\n",
       "      <td>outdoor</td>\n",
       "    </tr>\n",
       "  </tbody>\n",
       "</table>\n",
       "</div>"
      ],
      "text/plain": [
       "                 DATE        LAC_CELL        LAT        LON  AZIMUTH LOCATION\n",
       "0 2018-05-03 12:00:00  5036_197534212  56.288675  38.210756     60.0  outdoor\n",
       "1 2018-05-03 13:00:00      9021_63793  56.284410  38.396787    200.0  outdoor\n",
       "2 2018-05-09 11:00:00      9021_63793  56.284410  38.396787    200.0  outdoor\n",
       "3 2018-05-09 19:00:00      9021_63793  56.284410  38.396787    200.0  outdoor\n",
       "4 2018-05-09 20:00:00      9021_63793  56.284410  38.396787    200.0  outdoor"
      ]
     },
     "execution_count": 7,
     "metadata": {},
     "output_type": "execute_result"
    }
   ],
   "source": [
    "lat_long_index_1h_df = pd.DataFrame(lat_long_index_1h).reset_index().merge(\n",
    "                            lat_long[['LAC_CELL', 'LAT', 'LON', 'AZIMUTH', 'LOCATION']].drop_duplicates())\n",
    "lat_long_index_1h_df.head()"
   ]
  },
  {
   "cell_type": "markdown",
   "metadata": {
    "pycharm": {
     "name": "#%% md\n"
    }
   },
   "source": [
    "Фильтруем по уникальным точкам без дат, создаем объект GeoPandas по LAT LON координатам "
   ]
  },
  {
   "cell_type": "code",
   "execution_count": 8,
   "metadata": {
    "pycharm": {
     "is_executing": false,
     "name": "#%%\n"
    }
   },
   "outputs": [
    {
     "data": {
      "text/html": [
       "<div>\n",
       "<style scoped>\n",
       "    .dataframe tbody tr th:only-of-type {\n",
       "        vertical-align: middle;\n",
       "    }\n",
       "\n",
       "    .dataframe tbody tr th {\n",
       "        vertical-align: top;\n",
       "    }\n",
       "\n",
       "    .dataframe thead th {\n",
       "        text-align: right;\n",
       "    }\n",
       "</style>\n",
       "<table border=\"1\" class=\"dataframe\">\n",
       "  <thead>\n",
       "    <tr style=\"text-align: right;\">\n",
       "      <th></th>\n",
       "      <th>LAC_CELL</th>\n",
       "      <th>LAT</th>\n",
       "      <th>LON</th>\n",
       "      <th>AZIMUTH</th>\n",
       "      <th>LOCATION</th>\n",
       "      <th>geometry</th>\n",
       "    </tr>\n",
       "  </thead>\n",
       "  <tbody>\n",
       "    <tr>\n",
       "      <th>0</th>\n",
       "      <td>5036_197534212</td>\n",
       "      <td>56.288675</td>\n",
       "      <td>38.210756</td>\n",
       "      <td>60.0</td>\n",
       "      <td>outdoor</td>\n",
       "      <td>POINT (56.28867 38.21076)</td>\n",
       "    </tr>\n",
       "    <tr>\n",
       "      <th>1</th>\n",
       "      <td>9021_63793</td>\n",
       "      <td>56.284410</td>\n",
       "      <td>38.396787</td>\n",
       "      <td>200.0</td>\n",
       "      <td>outdoor</td>\n",
       "      <td>POINT (56.28441 38.39679)</td>\n",
       "    </tr>\n",
       "    <tr>\n",
       "      <th>64</th>\n",
       "      <td>9767_197921795</td>\n",
       "      <td>55.715389</td>\n",
       "      <td>37.665209</td>\n",
       "      <td>310.0</td>\n",
       "      <td>outdoor</td>\n",
       "      <td>POINT (55.71539 37.66521)</td>\n",
       "    </tr>\n",
       "    <tr>\n",
       "      <th>116</th>\n",
       "      <td>7797_27005</td>\n",
       "      <td>55.749575</td>\n",
       "      <td>37.623907</td>\n",
       "      <td>350.0</td>\n",
       "      <td>outdoor</td>\n",
       "      <td>POINT (55.74958 37.62391)</td>\n",
       "    </tr>\n",
       "    <tr>\n",
       "      <th>120</th>\n",
       "      <td>7752_8574</td>\n",
       "      <td>55.748552</td>\n",
       "      <td>37.529384</td>\n",
       "      <td>110.0</td>\n",
       "      <td>NaN</td>\n",
       "      <td>POINT (55.74855 37.52938)</td>\n",
       "    </tr>\n",
       "  </tbody>\n",
       "</table>\n",
       "</div>"
      ],
      "text/plain": [
       "           LAC_CELL        LAT        LON  AZIMUTH LOCATION  \\\n",
       "0    5036_197534212  56.288675  38.210756     60.0  outdoor   \n",
       "1        9021_63793  56.284410  38.396787    200.0  outdoor   \n",
       "64   9767_197921795  55.715389  37.665209    310.0  outdoor   \n",
       "116      7797_27005  55.749575  37.623907    350.0  outdoor   \n",
       "120       7752_8574  55.748552  37.529384    110.0      NaN   \n",
       "\n",
       "                      geometry  \n",
       "0    POINT (56.28867 38.21076)  \n",
       "1    POINT (56.28441 38.39679)  \n",
       "64   POINT (55.71539 37.66521)  \n",
       "116  POINT (55.74958 37.62391)  \n",
       "120  POINT (55.74855 37.52938)  "
      ]
     },
     "execution_count": 8,
     "metadata": {},
     "output_type": "execute_result"
    }
   ],
   "source": [
    "filtered_uniq_points = lat_long_index_1h_df.drop(['DATE'], axis=1).drop_duplicates()\n",
    "geodf = geopd.GeoDataFrame(filtered_uniq_points, \n",
    "                           geometry=geopd.points_from_xy(filtered_uniq_points.LAT, \n",
    "                                                         filtered_uniq_points.LON))\n",
    "geodf.head()"
   ]
  },
  {
   "cell_type": "code",
   "execution_count": 9,
   "metadata": {
    "pycharm": {
     "is_executing": false,
     "name": "#%%\n"
    }
   },
   "outputs": [
    {
     "data": {
      "text/plain": [
       "519"
      ]
     },
     "execution_count": 9,
     "metadata": {},
     "output_type": "execute_result"
    }
   ],
   "source": [
    "geodf.shape[0]"
   ]
  },
  {
   "cell_type": "markdown",
   "metadata": {
    "pycharm": {
     "name": "#%% md\n"
    }
   },
   "source": [
    "БС могут быть расположены в одной точке, но обслуживать разные сектора (по AZIMUTH),  \n",
    "при пространственной кластеризации они будут считаться за одни точки,  \n",
    "поэтому необходимо сместить координаты на некторое расстояние (взято эмпирически 300 м) по направления AZIMUTH "
   ]
  },
  {
   "cell_type": "code",
   "execution_count": 259,
   "metadata": {
    "pycharm": {
     "is_executing": false,
     "name": "#%%\n"
    }
   },
   "outputs": [
    {
     "data": {
      "text/html": [
       "<div>\n",
       "<style scoped>\n",
       "    .dataframe tbody tr th:only-of-type {\n",
       "        vertical-align: middle;\n",
       "    }\n",
       "\n",
       "    .dataframe tbody tr th {\n",
       "        vertical-align: top;\n",
       "    }\n",
       "\n",
       "    .dataframe thead th {\n",
       "        text-align: right;\n",
       "    }\n",
       "</style>\n",
       "<table border=\"1\" class=\"dataframe\">\n",
       "  <thead>\n",
       "    <tr style=\"text-align: right;\">\n",
       "      <th></th>\n",
       "      <th>LAC_CELL</th>\n",
       "      <th>LAT</th>\n",
       "      <th>LON</th>\n",
       "      <th>AZIMUTH</th>\n",
       "      <th>LOCATION</th>\n",
       "      <th>geometry</th>\n",
       "    </tr>\n",
       "  </thead>\n",
       "  <tbody>\n",
       "    <tr>\n",
       "      <th>0</th>\n",
       "      <td>5036_197534212</td>\n",
       "      <td>56.288720</td>\n",
       "      <td>38.210831</td>\n",
       "      <td>60.0</td>\n",
       "      <td>outdoor</td>\n",
       "      <td>POINT (56.28872 38.21083)</td>\n",
       "    </tr>\n",
       "    <tr>\n",
       "      <th>1</th>\n",
       "      <td>9021_63793</td>\n",
       "      <td>56.284325</td>\n",
       "      <td>38.396757</td>\n",
       "      <td>200.0</td>\n",
       "      <td>outdoor</td>\n",
       "      <td>POINT (56.28433 38.39676)</td>\n",
       "    </tr>\n",
       "    <tr>\n",
       "      <th>64</th>\n",
       "      <td>9767_197921795</td>\n",
       "      <td>55.715447</td>\n",
       "      <td>37.665163</td>\n",
       "      <td>310.0</td>\n",
       "      <td>outdoor</td>\n",
       "      <td>POINT (55.71545 37.66516)</td>\n",
       "    </tr>\n",
       "    <tr>\n",
       "      <th>116</th>\n",
       "      <td>7797_27005</td>\n",
       "      <td>55.749664</td>\n",
       "      <td>37.623896</td>\n",
       "      <td>350.0</td>\n",
       "      <td>outdoor</td>\n",
       "      <td>POINT (55.74966 37.62390)</td>\n",
       "    </tr>\n",
       "    <tr>\n",
       "      <th>120</th>\n",
       "      <td>7752_8574</td>\n",
       "      <td>55.748552</td>\n",
       "      <td>37.529384</td>\n",
       "      <td>110.0</td>\n",
       "      <td>NaN</td>\n",
       "      <td>POINT (55.74855 37.52938)</td>\n",
       "    </tr>\n",
       "  </tbody>\n",
       "</table>\n",
       "</div>"
      ],
      "text/plain": [
       "           LAC_CELL        LAT        LON  AZIMUTH LOCATION  \\\n",
       "0    5036_197534212  56.288720  38.210831     60.0  outdoor   \n",
       "1        9021_63793  56.284325  38.396757    200.0  outdoor   \n",
       "64   9767_197921795  55.715447  37.665163    310.0  outdoor   \n",
       "116      7797_27005  55.749664  37.623896    350.0  outdoor   \n",
       "120       7752_8574  55.748552  37.529384    110.0      NaN   \n",
       "\n",
       "                      geometry  \n",
       "0    POINT (56.28872 38.21083)  \n",
       "1    POINT (56.28433 38.39676)  \n",
       "64   POINT (55.71545 37.66516)  \n",
       "116  POINT (55.74966 37.62390)  \n",
       "120  POINT (55.74855 37.52938)  "
      ]
     },
     "execution_count": 259,
     "metadata": {},
     "output_type": "execute_result"
    }
   ],
   "source": [
    "def my_translate(g):\n",
    "    if g.LOCATION == 'outdoor':\n",
    "        gr_meter = 111120 # метров в 1 градусе широты\n",
    "        dist = 10 # сдвиг в метрах\n",
    "        dist_gr_lat = dist / gr_meter # сдвиг по широте в градусах\n",
    "        dist_gr_lon = dist_gr_lat * np.cos(g.geometry.x) # сдвиг по долготе в градусах\n",
    "        \n",
    "        g.geometry = Point(g.geometry.x + np.cos(np.deg2rad(g.AZIMUTH)) * dist_gr_lat,\n",
    "                  g.geometry.y + np.sin(np.deg2rad(g.AZIMUTH)) * dist_gr_lon)\n",
    "    return g\n",
    "\n",
    " \n",
    "geodf_300 = geodf.apply(my_translate, axis=1)\n",
    "\n",
    "geodf_300.LAT = geodf_300.geometry.x\n",
    "geodf_300.LON = geodf_300.geometry.y\n",
    "\n",
    "geodf_300.head()"
   ]
  },
  {
   "cell_type": "markdown",
   "metadata": {
    "pycharm": {
     "name": "#%% md\n"
    }
   },
   "source": [
    "Параметры для Seaborn"
   ]
  },
  {
   "cell_type": "code",
   "execution_count": 260,
   "metadata": {
    "pycharm": {
     "is_executing": false,
     "name": "#%%\n"
    }
   },
   "outputs": [],
   "source": [
    "plot_kwds = {'alpha' : 0.5, 's' : 30, 'linewidths':0, }"
   ]
  },
  {
   "cell_type": "markdown",
   "metadata": {
    "pycharm": {
     "name": "#%% md\n"
    }
   },
   "source": [
    "Отображение мест"
   ]
  },
  {
   "cell_type": "code",
   "execution_count": 261,
   "metadata": {
    "pycharm": {
     "is_executing": false,
     "name": "#%%\n"
    }
   },
   "outputs": [
    {
     "data": {
      "text/plain": [
       "<matplotlib.collections.PathCollection at 0x127f95da0>"
      ]
     },
     "execution_count": 261,
     "metadata": {},
     "output_type": "execute_result"
    },
    {
     "data": {
      "image/png": "[encoded data removed]",
      "text/plain": [
       "<Figure size 432x288 with 1 Axes>"
      ]
     },
     "metadata": {
      "needs_background": "light"
     },
     "output_type": "display_data"
    }
   ],
   "source": [
    "plt.scatter(lat_long_index_1h_df.LAT, lat_long_index_1h_df.LON, color='b', **plot_kwds)"
   ]
  },
  {
   "cell_type": "markdown",
   "metadata": {
    "pycharm": {
     "name": "#%% md\n"
    }
   },
   "source": [
    "Будет использован метод кластеризации HDBSCAN, метрика Хаверсайн,  \n",
    "которая принимает координаты в радианах, нобходимо преобразование:"
   ]
  },
  {
   "cell_type": "code",
   "execution_count": 262,
   "metadata": {
    "pycharm": {
     "is_executing": false,
     "name": "#%%\n"
    }
   },
   "outputs": [
    {
     "data": {
      "text/html": [
       "<div>\n",
       "<style scoped>\n",
       "    .dataframe tbody tr th:only-of-type {\n",
       "        vertical-align: middle;\n",
       "    }\n",
       "\n",
       "    .dataframe tbody tr th {\n",
       "        vertical-align: top;\n",
       "    }\n",
       "\n",
       "    .dataframe thead th {\n",
       "        text-align: right;\n",
       "    }\n",
       "</style>\n",
       "<table border=\"1\" class=\"dataframe\">\n",
       "  <thead>\n",
       "    <tr style=\"text-align: right;\">\n",
       "      <th></th>\n",
       "      <th>LAT</th>\n",
       "      <th>LON</th>\n",
       "    </tr>\n",
       "  </thead>\n",
       "  <tbody>\n",
       "    <tr>\n",
       "      <th>0</th>\n",
       "      <td>0.982423</td>\n",
       "      <td>0.666905</td>\n",
       "    </tr>\n",
       "    <tr>\n",
       "      <th>1</th>\n",
       "      <td>0.982347</td>\n",
       "      <td>0.670150</td>\n",
       "    </tr>\n",
       "    <tr>\n",
       "      <th>64</th>\n",
       "      <td>0.972418</td>\n",
       "      <td>0.657381</td>\n",
       "    </tr>\n",
       "    <tr>\n",
       "      <th>116</th>\n",
       "      <td>0.973015</td>\n",
       "      <td>0.656661</td>\n",
       "    </tr>\n",
       "    <tr>\n",
       "      <th>120</th>\n",
       "      <td>0.972996</td>\n",
       "      <td>0.655011</td>\n",
       "    </tr>\n",
       "  </tbody>\n",
       "</table>\n",
       "</div>"
      ],
      "text/plain": [
       "          LAT       LON\n",
       "0    0.982423  0.666905\n",
       "1    0.982347  0.670150\n",
       "64   0.972418  0.657381\n",
       "116  0.973015  0.656661\n",
       "120  0.972996  0.655011"
      ]
     },
     "execution_count": 262,
     "metadata": {},
     "output_type": "execute_result"
    }
   ],
   "source": [
    "rad_uniq = np.deg2rad(geodf_300[['LAT', 'LON']])\n",
    "rad_uniq.head()"
   ]
  },
  {
   "cell_type": "markdown",
   "metadata": {
    "pycharm": {
     "name": "#%% md\n"
    }
   },
   "source": [
    "Кластеризуем места пребывания, минимальный кластер ключает 5 элементов"
   ]
  },
  {
   "cell_type": "code",
   "execution_count": 263,
   "metadata": {
    "pycharm": {
     "is_executing": false,
     "name": "#%%\n"
    }
   },
   "outputs": [
    {
     "data": {
      "text/plain": [
       "HDBSCAN(algorithm='best', allow_single_cluster=False, alpha=1.0,\n",
       "        approx_min_span_tree=True, cluster_selection_method='eom',\n",
       "        core_dist_n_jobs=4, gen_min_span_tree=True, leaf_size=40,\n",
       "        match_reference_implementation=False, memory=Memory(location=None),\n",
       "        metric='haversine', min_cluster_size=5, min_samples=None, p=None,\n",
       "        prediction_data=True)"
      ]
     },
     "execution_count": 263,
     "metadata": {},
     "output_type": "execute_result"
    }
   ],
   "source": [
    "clusterer = hdbscan.HDBSCAN(min_cluster_size=5, gen_min_span_tree=True, metric='haversine', prediction_data=True)\n",
    "clusterer.fit(rad_uniq)"
   ]
  },
  {
   "cell_type": "markdown",
   "metadata": {
    "pycharm": {
     "name": "#%% md\n"
    }
   },
   "source": [
    "Количество кластеров пребывания "
   ]
  },
  {
   "cell_type": "code",
   "execution_count": 264,
   "metadata": {
    "pycharm": {
     "is_executing": false,
     "name": "#%%\n"
    }
   },
   "outputs": [
    {
     "data": {
      "text/plain": [
       "45"
      ]
     },
     "execution_count": 264,
     "metadata": {},
     "output_type": "execute_result"
    }
   ],
   "source": [
    "count_of_clusters = len(set(clusterer.labels_))\n",
    "count_of_clusters"
   ]
  },
  {
   "cell_type": "markdown",
   "metadata": {
    "pycharm": {
     "name": "#%% md\n"
    }
   },
   "source": [
    "К датафрейму добавляем метки кластеров и меру близости"
   ]
  },
  {
   "cell_type": "code",
   "execution_count": 265,
   "metadata": {
    "pycharm": {
     "is_executing": false,
     "name": "#%%\n"
    }
   },
   "outputs": [
    {
     "data": {
      "text/html": [
       "<div>\n",
       "<style scoped>\n",
       "    .dataframe tbody tr th:only-of-type {\n",
       "        vertical-align: middle;\n",
       "    }\n",
       "\n",
       "    .dataframe tbody tr th {\n",
       "        vertical-align: top;\n",
       "    }\n",
       "\n",
       "    .dataframe thead th {\n",
       "        text-align: right;\n",
       "    }\n",
       "</style>\n",
       "<table border=\"1\" class=\"dataframe\">\n",
       "  <thead>\n",
       "    <tr style=\"text-align: right;\">\n",
       "      <th></th>\n",
       "      <th>LAC_CELL</th>\n",
       "      <th>LAT</th>\n",
       "      <th>LON</th>\n",
       "      <th>AZIMUTH</th>\n",
       "      <th>LOCATION</th>\n",
       "      <th>geometry</th>\n",
       "      <th>cluster</th>\n",
       "      <th>probabilities</th>\n",
       "    </tr>\n",
       "  </thead>\n",
       "  <tbody>\n",
       "    <tr>\n",
       "      <th>0</th>\n",
       "      <td>5036_197534212</td>\n",
       "      <td>56.288720</td>\n",
       "      <td>38.210831</td>\n",
       "      <td>60.0</td>\n",
       "      <td>outdoor</td>\n",
       "      <td>POINT (56.28872 38.21083)</td>\n",
       "      <td>7</td>\n",
       "      <td>1.0</td>\n",
       "    </tr>\n",
       "    <tr>\n",
       "      <th>1</th>\n",
       "      <td>9021_63793</td>\n",
       "      <td>56.284325</td>\n",
       "      <td>38.396757</td>\n",
       "      <td>200.0</td>\n",
       "      <td>outdoor</td>\n",
       "      <td>POINT (56.28433 38.39676)</td>\n",
       "      <td>3</td>\n",
       "      <td>1.0</td>\n",
       "    </tr>\n",
       "    <tr>\n",
       "      <th>64</th>\n",
       "      <td>9767_197921795</td>\n",
       "      <td>55.715447</td>\n",
       "      <td>37.665163</td>\n",
       "      <td>310.0</td>\n",
       "      <td>outdoor</td>\n",
       "      <td>POINT (55.71545 37.66516)</td>\n",
       "      <td>17</td>\n",
       "      <td>1.0</td>\n",
       "    </tr>\n",
       "    <tr>\n",
       "      <th>116</th>\n",
       "      <td>7797_27005</td>\n",
       "      <td>55.749664</td>\n",
       "      <td>37.623896</td>\n",
       "      <td>350.0</td>\n",
       "      <td>outdoor</td>\n",
       "      <td>POINT (55.74966 37.62390)</td>\n",
       "      <td>34</td>\n",
       "      <td>1.0</td>\n",
       "    </tr>\n",
       "    <tr>\n",
       "      <th>120</th>\n",
       "      <td>7752_8574</td>\n",
       "      <td>55.748552</td>\n",
       "      <td>37.529384</td>\n",
       "      <td>110.0</td>\n",
       "      <td>NaN</td>\n",
       "      <td>POINT (55.74855 37.52938)</td>\n",
       "      <td>-1</td>\n",
       "      <td>0.0</td>\n",
       "    </tr>\n",
       "  </tbody>\n",
       "</table>\n",
       "</div>"
      ],
      "text/plain": [
       "           LAC_CELL        LAT        LON  AZIMUTH LOCATION  \\\n",
       "0    5036_197534212  56.288720  38.210831     60.0  outdoor   \n",
       "1        9021_63793  56.284325  38.396757    200.0  outdoor   \n",
       "64   9767_197921795  55.715447  37.665163    310.0  outdoor   \n",
       "116      7797_27005  55.749664  37.623896    350.0  outdoor   \n",
       "120       7752_8574  55.748552  37.529384    110.0      NaN   \n",
       "\n",
       "                      geometry  cluster  probabilities  \n",
       "0    POINT (56.28872 38.21083)        7            1.0  \n",
       "1    POINT (56.28433 38.39676)        3            1.0  \n",
       "64   POINT (55.71545 37.66516)       17            1.0  \n",
       "116  POINT (55.74966 37.62390)       34            1.0  \n",
       "120  POINT (55.74855 37.52938)       -1            0.0  "
      ]
     },
     "execution_count": 265,
     "metadata": {},
     "output_type": "execute_result"
    }
   ],
   "source": [
    "geodf_300['cluster'] = clusterer.labels_\n",
    "geodf_300['probabilities'] = clusterer.probabilities_\n",
    "geodf_300.head()"
   ]
  },
  {
   "cell_type": "markdown",
   "metadata": {},
   "source": [
    "Создадим справочник по кластерам"
   ]
  },
  {
   "cell_type": "code",
   "execution_count": 266,
   "metadata": {
    "pycharm": {
     "is_executing": false
    }
   },
   "outputs": [
    {
     "data": {
      "text/html": [
       "<div>\n",
       "<style scoped>\n",
       "    .dataframe tbody tr th:only-of-type {\n",
       "        vertical-align: middle;\n",
       "    }\n",
       "\n",
       "    .dataframe tbody tr th {\n",
       "        vertical-align: top;\n",
       "    }\n",
       "\n",
       "    .dataframe thead th {\n",
       "        text-align: right;\n",
       "    }\n",
       "</style>\n",
       "<table border=\"1\" class=\"dataframe\">\n",
       "  <thead>\n",
       "    <tr style=\"text-align: right;\">\n",
       "      <th></th>\n",
       "      <th>LAC_CELL</th>\n",
       "      <th>LAT</th>\n",
       "      <th>LON</th>\n",
       "      <th>AZIMUTH</th>\n",
       "      <th>LOCATION</th>\n",
       "      <th>geometry</th>\n",
       "      <th>probabilities</th>\n",
       "    </tr>\n",
       "    <tr>\n",
       "      <th>cluster</th>\n",
       "      <th></th>\n",
       "      <th></th>\n",
       "      <th></th>\n",
       "      <th></th>\n",
       "      <th></th>\n",
       "      <th></th>\n",
       "      <th></th>\n",
       "    </tr>\n",
       "  </thead>\n",
       "  <tbody>\n",
       "    <tr>\n",
       "      <th>-1</th>\n",
       "      <td>9914_230622466</td>\n",
       "      <td>55.790450</td>\n",
       "      <td>37.531187</td>\n",
       "      <td>0.0</td>\n",
       "      <td>NaN</td>\n",
       "      <td>POINT (55.79045 37.53119)</td>\n",
       "      <td>0.0</td>\n",
       "    </tr>\n",
       "    <tr>\n",
       "      <th>-1</th>\n",
       "      <td>9763_198247937</td>\n",
       "      <td>55.859873</td>\n",
       "      <td>37.395720</td>\n",
       "      <td>60.0</td>\n",
       "      <td>outdoor</td>\n",
       "      <td>POINT (55.85987 37.39572)</td>\n",
       "      <td>0.0</td>\n",
       "    </tr>\n",
       "    <tr>\n",
       "      <th>-1</th>\n",
       "      <td>9736_15711489</td>\n",
       "      <td>55.756111</td>\n",
       "      <td>37.581944</td>\n",
       "      <td>180.0</td>\n",
       "      <td>NaN</td>\n",
       "      <td>POINT (55.75611 37.58194)</td>\n",
       "      <td>0.0</td>\n",
       "    </tr>\n",
       "    <tr>\n",
       "      <th>-1</th>\n",
       "      <td>9734_197952012</td>\n",
       "      <td>55.683701</td>\n",
       "      <td>37.540291</td>\n",
       "      <td>90.0</td>\n",
       "      <td>outdoor</td>\n",
       "      <td>POINT (55.68370 37.54029)</td>\n",
       "      <td>0.0</td>\n",
       "    </tr>\n",
       "    <tr>\n",
       "      <th>-1</th>\n",
       "      <td>9776_197906966</td>\n",
       "      <td>55.706224</td>\n",
       "      <td>37.516268</td>\n",
       "      <td>210.0</td>\n",
       "      <td>outdoor</td>\n",
       "      <td>POINT (55.70622 37.51627)</td>\n",
       "      <td>0.0</td>\n",
       "    </tr>\n",
       "    <tr>\n",
       "      <th>...</th>\n",
       "      <td>...</td>\n",
       "      <td>...</td>\n",
       "      <td>...</td>\n",
       "      <td>...</td>\n",
       "      <td>...</td>\n",
       "      <td>...</td>\n",
       "      <td>...</td>\n",
       "    </tr>\n",
       "    <tr>\n",
       "      <th>43</th>\n",
       "      <td>9908_198815766</td>\n",
       "      <td>55.754349</td>\n",
       "      <td>37.636997</td>\n",
       "      <td>195.0</td>\n",
       "      <td>NaN</td>\n",
       "      <td>POINT (55.75435 37.63700)</td>\n",
       "      <td>1.0</td>\n",
       "    </tr>\n",
       "    <tr>\n",
       "      <th>43</th>\n",
       "      <td>7797_47374</td>\n",
       "      <td>55.754387</td>\n",
       "      <td>37.636940</td>\n",
       "      <td>295.0</td>\n",
       "      <td>outdoor</td>\n",
       "      <td>POINT (55.75439 37.63694)</td>\n",
       "      <td>1.0</td>\n",
       "    </tr>\n",
       "    <tr>\n",
       "      <th>43</th>\n",
       "      <td>9797_14233</td>\n",
       "      <td>55.754014</td>\n",
       "      <td>37.635434</td>\n",
       "      <td>250.0</td>\n",
       "      <td>outdoor</td>\n",
       "      <td>POINT (55.75401 37.63543)</td>\n",
       "      <td>1.0</td>\n",
       "    </tr>\n",
       "    <tr>\n",
       "      <th>43</th>\n",
       "      <td>9908_198815749</td>\n",
       "      <td>55.754349</td>\n",
       "      <td>37.636997</td>\n",
       "      <td>195.0</td>\n",
       "      <td>NaN</td>\n",
       "      <td>POINT (55.75435 37.63700)</td>\n",
       "      <td>1.0</td>\n",
       "    </tr>\n",
       "    <tr>\n",
       "      <th>43</th>\n",
       "      <td>9908_198815746</td>\n",
       "      <td>55.754349</td>\n",
       "      <td>37.636997</td>\n",
       "      <td>195.0</td>\n",
       "      <td>NaN</td>\n",
       "      <td>POINT (55.75435 37.63700)</td>\n",
       "      <td>1.0</td>\n",
       "    </tr>\n",
       "  </tbody>\n",
       "</table>\n",
       "<p>519 rows × 7 columns</p>\n",
       "</div>"
      ],
      "text/plain": [
       "               LAC_CELL        LAT        LON  AZIMUTH LOCATION  \\\n",
       "cluster                                                           \n",
       "-1       9914_230622466  55.790450  37.531187      0.0      NaN   \n",
       "-1       9763_198247937  55.859873  37.395720     60.0  outdoor   \n",
       "-1        9736_15711489  55.756111  37.581944    180.0      NaN   \n",
       "-1       9734_197952012  55.683701  37.540291     90.0  outdoor   \n",
       "-1       9776_197906966  55.706224  37.516268    210.0  outdoor   \n",
       "...                 ...        ...        ...      ...      ...   \n",
       " 43      9908_198815766  55.754349  37.636997    195.0      NaN   \n",
       " 43          7797_47374  55.754387  37.636940    295.0  outdoor   \n",
       " 43          9797_14233  55.754014  37.635434    250.0  outdoor   \n",
       " 43      9908_198815749  55.754349  37.636997    195.0      NaN   \n",
       " 43      9908_198815746  55.754349  37.636997    195.0      NaN   \n",
       "\n",
       "                          geometry  probabilities  \n",
       "cluster                                            \n",
       "-1       POINT (55.79045 37.53119)            0.0  \n",
       "-1       POINT (55.85987 37.39572)            0.0  \n",
       "-1       POINT (55.75611 37.58194)            0.0  \n",
       "-1       POINT (55.68370 37.54029)            0.0  \n",
       "-1       POINT (55.70622 37.51627)            0.0  \n",
       "...                            ...            ...  \n",
       " 43      POINT (55.75435 37.63700)            1.0  \n",
       " 43      POINT (55.75439 37.63694)            1.0  \n",
       " 43      POINT (55.75401 37.63543)            1.0  \n",
       " 43      POINT (55.75435 37.63700)            1.0  \n",
       " 43      POINT (55.75435 37.63700)            1.0  \n",
       "\n",
       "[519 rows x 7 columns]"
      ]
     },
     "execution_count": 266,
     "metadata": {},
     "output_type": "execute_result"
    }
   ],
   "source": [
    "cluster_info = geodf_300\n",
    "cluster_info.index = geodf_300.cluster\n",
    "cluster_info = cluster_info.sort_index()\n",
    "cluster_info.drop(['cluster'], axis=1, inplace=True)\n",
    "cluster_info"
   ]
  },
  {
   "cell_type": "markdown",
   "metadata": {},
   "source": [
    "Создаем итоговый датафрейм, в котором индексы - временные ряды по часам, информация о месте, кластер,  \n",
    "степень принадлежности к кластеру"
   ]
  },
  {
   "cell_type": "code",
   "execution_count": 267,
   "metadata": {
    "pycharm": {
     "is_executing": false,
     "name": "#%%\n"
    }
   },
   "outputs": [
    {
     "data": {
      "text/html": [
       "<div>\n",
       "<style scoped>\n",
       "    .dataframe tbody tr th:only-of-type {\n",
       "        vertical-align: middle;\n",
       "    }\n",
       "\n",
       "    .dataframe tbody tr th {\n",
       "        vertical-align: top;\n",
       "    }\n",
       "\n",
       "    .dataframe thead th {\n",
       "        text-align: right;\n",
       "    }\n",
       "</style>\n",
       "<table border=\"1\" class=\"dataframe\">\n",
       "  <thead>\n",
       "    <tr style=\"text-align: right;\">\n",
       "      <th></th>\n",
       "      <th>LAC_CELL</th>\n",
       "      <th>LAT</th>\n",
       "      <th>LON</th>\n",
       "      <th>AZIMUTH</th>\n",
       "      <th>LOCATION</th>\n",
       "      <th>cluster</th>\n",
       "      <th>probabilities</th>\n",
       "    </tr>\n",
       "    <tr>\n",
       "      <th>DATE</th>\n",
       "      <th></th>\n",
       "      <th></th>\n",
       "      <th></th>\n",
       "      <th></th>\n",
       "      <th></th>\n",
       "      <th></th>\n",
       "      <th></th>\n",
       "    </tr>\n",
       "  </thead>\n",
       "  <tbody>\n",
       "    <tr>\n",
       "      <th>2018-05-03 12:00:00</th>\n",
       "      <td>5036_197534212</td>\n",
       "      <td>56.288675</td>\n",
       "      <td>38.210756</td>\n",
       "      <td>60.0</td>\n",
       "      <td>outdoor</td>\n",
       "      <td>7</td>\n",
       "      <td>1.0</td>\n",
       "    </tr>\n",
       "    <tr>\n",
       "      <th>2018-05-03 13:00:00</th>\n",
       "      <td>9021_63793</td>\n",
       "      <td>56.284410</td>\n",
       "      <td>38.396787</td>\n",
       "      <td>200.0</td>\n",
       "      <td>outdoor</td>\n",
       "      <td>3</td>\n",
       "      <td>1.0</td>\n",
       "    </tr>\n",
       "    <tr>\n",
       "      <th>2018-05-03 14:00:00</th>\n",
       "      <td>9767_197921795</td>\n",
       "      <td>55.715389</td>\n",
       "      <td>37.665209</td>\n",
       "      <td>310.0</td>\n",
       "      <td>outdoor</td>\n",
       "      <td>17</td>\n",
       "      <td>1.0</td>\n",
       "    </tr>\n",
       "    <tr>\n",
       "      <th>2018-05-03 15:00:00</th>\n",
       "      <td>9767_197921795</td>\n",
       "      <td>55.715389</td>\n",
       "      <td>37.665209</td>\n",
       "      <td>310.0</td>\n",
       "      <td>outdoor</td>\n",
       "      <td>17</td>\n",
       "      <td>1.0</td>\n",
       "    </tr>\n",
       "    <tr>\n",
       "      <th>2018-05-03 16:00:00</th>\n",
       "      <td>9767_197921795</td>\n",
       "      <td>55.715389</td>\n",
       "      <td>37.665209</td>\n",
       "      <td>310.0</td>\n",
       "      <td>outdoor</td>\n",
       "      <td>17</td>\n",
       "      <td>1.0</td>\n",
       "    </tr>\n",
       "  </tbody>\n",
       "</table>\n",
       "</div>"
      ],
      "text/plain": [
       "                           LAC_CELL        LAT        LON  AZIMUTH LOCATION  \\\n",
       "DATE                                                                          \n",
       "2018-05-03 12:00:00  5036_197534212  56.288675  38.210756     60.0  outdoor   \n",
       "2018-05-03 13:00:00      9021_63793  56.284410  38.396787    200.0  outdoor   \n",
       "2018-05-03 14:00:00  9767_197921795  55.715389  37.665209    310.0  outdoor   \n",
       "2018-05-03 15:00:00  9767_197921795  55.715389  37.665209    310.0  outdoor   \n",
       "2018-05-03 16:00:00  9767_197921795  55.715389  37.665209    310.0  outdoor   \n",
       "\n",
       "                     cluster  probabilities  \n",
       "DATE                                         \n",
       "2018-05-03 12:00:00        7            1.0  \n",
       "2018-05-03 13:00:00        3            1.0  \n",
       "2018-05-03 14:00:00       17            1.0  \n",
       "2018-05-03 15:00:00       17            1.0  \n",
       "2018-05-03 16:00:00       17            1.0  "
      ]
     },
     "execution_count": 267,
     "metadata": {},
     "output_type": "execute_result"
    }
   ],
   "source": [
    "points_1h_cluster = lat_long_index_1h_df.merge(geodf_300[['LAC_CELL', 'cluster', 'probabilities']])\n",
    "points_1h_cluster.index = points_1h_cluster.DATE\n",
    "points_1h_cluster.drop(['DATE'], axis=1, inplace=True)\n",
    "points_1h_cluster = points_1h_cluster[points_1h_cluster.cluster >= 0]\n",
    "points_1h_cluster.sort_index(inplace=True)\n",
    "points_1h_cluster.head()"
   ]
  },
  {
   "cell_type": "markdown",
   "metadata": {
    "pycharm": {
     "name": "#%% md\n"
    }
   },
   "source": [
    "Построим матрицу вероятностей переходов между кластерами"
   ]
  },
  {
   "cell_type": "code",
   "execution_count": 268,
   "metadata": {
    "pycharm": {
     "is_executing": false,
     "name": "#%%\n"
    }
   },
   "outputs": [
    {
     "data": {
      "text/html": [
       "<div>\n",
       "<style scoped>\n",
       "    .dataframe tbody tr th:only-of-type {\n",
       "        vertical-align: middle;\n",
       "    }\n",
       "\n",
       "    .dataframe tbody tr th {\n",
       "        vertical-align: top;\n",
       "    }\n",
       "\n",
       "    .dataframe thead th {\n",
       "        text-align: right;\n",
       "    }\n",
       "</style>\n",
       "<table border=\"1\" class=\"dataframe\">\n",
       "  <thead>\n",
       "    <tr style=\"text-align: right;\">\n",
       "      <th></th>\n",
       "      <th>0</th>\n",
       "      <th>1</th>\n",
       "      <th>2</th>\n",
       "      <th>3</th>\n",
       "      <th>4</th>\n",
       "      <th>5</th>\n",
       "      <th>6</th>\n",
       "      <th>7</th>\n",
       "      <th>8</th>\n",
       "      <th>9</th>\n",
       "      <th>...</th>\n",
       "      <th>34</th>\n",
       "      <th>35</th>\n",
       "      <th>36</th>\n",
       "      <th>37</th>\n",
       "      <th>38</th>\n",
       "      <th>39</th>\n",
       "      <th>40</th>\n",
       "      <th>41</th>\n",
       "      <th>42</th>\n",
       "      <th>43</th>\n",
       "    </tr>\n",
       "  </thead>\n",
       "  <tbody>\n",
       "    <tr>\n",
       "      <th>0</th>\n",
       "      <td>0.000000</td>\n",
       "      <td>0.0</td>\n",
       "      <td>0.000000</td>\n",
       "      <td>0.000000</td>\n",
       "      <td>0.055556</td>\n",
       "      <td>0.000000</td>\n",
       "      <td>0.000000</td>\n",
       "      <td>0.055556</td>\n",
       "      <td>0.000000</td>\n",
       "      <td>0.055556</td>\n",
       "      <td>...</td>\n",
       "      <td>0.000000</td>\n",
       "      <td>0.055556</td>\n",
       "      <td>0.0</td>\n",
       "      <td>0.000000</td>\n",
       "      <td>0.0</td>\n",
       "      <td>0.00000</td>\n",
       "      <td>0.00000</td>\n",
       "      <td>0.000000</td>\n",
       "      <td>0.000000</td>\n",
       "      <td>0.055556</td>\n",
       "    </tr>\n",
       "    <tr>\n",
       "      <th>1</th>\n",
       "      <td>0.000000</td>\n",
       "      <td>0.0</td>\n",
       "      <td>0.000000</td>\n",
       "      <td>0.000000</td>\n",
       "      <td>0.000000</td>\n",
       "      <td>0.000000</td>\n",
       "      <td>0.000000</td>\n",
       "      <td>0.000000</td>\n",
       "      <td>0.000000</td>\n",
       "      <td>0.000000</td>\n",
       "      <td>...</td>\n",
       "      <td>0.000000</td>\n",
       "      <td>0.000000</td>\n",
       "      <td>0.0</td>\n",
       "      <td>0.000000</td>\n",
       "      <td>0.0</td>\n",
       "      <td>0.00000</td>\n",
       "      <td>0.00000</td>\n",
       "      <td>0.000000</td>\n",
       "      <td>0.000000</td>\n",
       "      <td>0.000000</td>\n",
       "    </tr>\n",
       "    <tr>\n",
       "      <th>2</th>\n",
       "      <td>0.000000</td>\n",
       "      <td>0.0</td>\n",
       "      <td>0.000000</td>\n",
       "      <td>0.000000</td>\n",
       "      <td>0.142857</td>\n",
       "      <td>0.000000</td>\n",
       "      <td>0.000000</td>\n",
       "      <td>0.000000</td>\n",
       "      <td>0.142857</td>\n",
       "      <td>0.000000</td>\n",
       "      <td>...</td>\n",
       "      <td>0.000000</td>\n",
       "      <td>0.000000</td>\n",
       "      <td>0.0</td>\n",
       "      <td>0.000000</td>\n",
       "      <td>0.0</td>\n",
       "      <td>0.00000</td>\n",
       "      <td>0.00000</td>\n",
       "      <td>0.000000</td>\n",
       "      <td>0.000000</td>\n",
       "      <td>0.000000</td>\n",
       "    </tr>\n",
       "    <tr>\n",
       "      <th>3</th>\n",
       "      <td>0.060606</td>\n",
       "      <td>0.0</td>\n",
       "      <td>0.030303</td>\n",
       "      <td>0.000000</td>\n",
       "      <td>0.060606</td>\n",
       "      <td>0.030303</td>\n",
       "      <td>0.121212</td>\n",
       "      <td>0.030303</td>\n",
       "      <td>0.030303</td>\n",
       "      <td>0.030303</td>\n",
       "      <td>...</td>\n",
       "      <td>0.030303</td>\n",
       "      <td>0.000000</td>\n",
       "      <td>0.0</td>\n",
       "      <td>0.000000</td>\n",
       "      <td>0.0</td>\n",
       "      <td>0.00000</td>\n",
       "      <td>0.00000</td>\n",
       "      <td>0.060606</td>\n",
       "      <td>0.000000</td>\n",
       "      <td>0.000000</td>\n",
       "    </tr>\n",
       "    <tr>\n",
       "      <th>4</th>\n",
       "      <td>0.023810</td>\n",
       "      <td>0.0</td>\n",
       "      <td>0.000000</td>\n",
       "      <td>0.083333</td>\n",
       "      <td>0.000000</td>\n",
       "      <td>0.083333</td>\n",
       "      <td>0.023810</td>\n",
       "      <td>0.142857</td>\n",
       "      <td>0.047619</td>\n",
       "      <td>0.011905</td>\n",
       "      <td>...</td>\n",
       "      <td>0.023810</td>\n",
       "      <td>0.000000</td>\n",
       "      <td>0.0</td>\n",
       "      <td>0.011905</td>\n",
       "      <td>0.0</td>\n",
       "      <td>0.02381</td>\n",
       "      <td>0.02381</td>\n",
       "      <td>0.023810</td>\n",
       "      <td>0.011905</td>\n",
       "      <td>0.000000</td>\n",
       "    </tr>\n",
       "  </tbody>\n",
       "</table>\n",
       "<p>5 rows × 44 columns</p>\n",
       "</div>"
      ],
      "text/plain": [
       "         0    1         2         3         4         5         6         7   \\\n",
       "0  0.000000  0.0  0.000000  0.000000  0.055556  0.000000  0.000000  0.055556   \n",
       "1  0.000000  0.0  0.000000  0.000000  0.000000  0.000000  0.000000  0.000000   \n",
       "2  0.000000  0.0  0.000000  0.000000  0.142857  0.000000  0.000000  0.000000   \n",
       "3  0.060606  0.0  0.030303  0.000000  0.060606  0.030303  0.121212  0.030303   \n",
       "4  0.023810  0.0  0.000000  0.083333  0.000000  0.083333  0.023810  0.142857   \n",
       "\n",
       "         8         9   ...        34        35   36        37   38       39  \\\n",
       "0  0.000000  0.055556  ...  0.000000  0.055556  0.0  0.000000  0.0  0.00000   \n",
       "1  0.000000  0.000000  ...  0.000000  0.000000  0.0  0.000000  0.0  0.00000   \n",
       "2  0.142857  0.000000  ...  0.000000  0.000000  0.0  0.000000  0.0  0.00000   \n",
       "3  0.030303  0.030303  ...  0.030303  0.000000  0.0  0.000000  0.0  0.00000   \n",
       "4  0.047619  0.011905  ...  0.023810  0.000000  0.0  0.011905  0.0  0.02381   \n",
       "\n",
       "        40        41        42        43  \n",
       "0  0.00000  0.000000  0.000000  0.055556  \n",
       "1  0.00000  0.000000  0.000000  0.000000  \n",
       "2  0.00000  0.000000  0.000000  0.000000  \n",
       "3  0.00000  0.060606  0.000000  0.000000  \n",
       "4  0.02381  0.023810  0.011905  0.000000  \n",
       "\n",
       "[5 rows x 44 columns]"
      ]
     },
     "execution_count": 268,
     "metadata": {},
     "output_type": "execute_result"
    }
   ],
   "source": [
    "p_markov = np.zeros((count_of_clusters-1, count_of_clusters-1))\n",
    "before = -1\n",
    "for i, row in points_1h_cluster.iterrows():\n",
    "    if before == -1:\n",
    "        before = row.cluster\n",
    "    elif before != row.cluster:\n",
    "        p_markov[before, row.cluster] += 1\n",
    "        before = row.cluster\n",
    "p_markov_1 = [row / row.sum() for row in p_markov]\n",
    "p_markov_df = pd.DataFrame(p_markov_1)\n",
    "p_markov_df.head()"
   ]
  },
  {
   "cell_type": "markdown",
   "metadata": {},
   "source": [
    "Предскажем будущие места пребывания, предположим, что абонент находится в Шереметьево (55.971821, 37.416570)"
   ]
  },
  {
   "cell_type": "code",
   "execution_count": 277,
   "metadata": {},
   "outputs": [
    {
     "name": "stdout",
     "output_type": "stream",
     "text": [
      "Кооридана отнесена к кластеру № 2\n"
     ]
    }
   ],
   "source": [
    "my_rad = np.deg2rad([55.971821, 37.416570])\n",
    "cluster_now, _ = hdbscan.approximate_predict(clusterer, (my_rad,))\n",
    "cluster_now = cluster_now[0]\n",
    "print(f'Кооридана отнесена к кластеру № {cluster_now}')"
   ]
  },
  {
   "cell_type": "code",
   "execution_count": 278,
   "metadata": {},
   "outputs": [
    {
     "data": {
      "application/vnd.jupyter.widget-view+json": {
       "model_id": "0bb90e963f024f059a19bb4f5a5f1ad3",
       "version_major": 2,
       "version_minor": 0
      },
      "text/plain": [
       "Map(basemap={'url': 'https://{s}.tile.openstreetmap.org/{z}/{x}/{y}.png', 'max_zoom': 19, 'attribution': 'Map …"
      ]
     },
     "metadata": {},
     "output_type": "display_data"
    }
   ],
   "source": [
    "points_now = cluster_info.loc[cluster_now].loc[cluster_info.loc[cluster_now].probabilities > 0.5]\n",
    "m = Map(center=(55.75222, 37.61556), zoom=8)\n",
    "m.add_layer(MarkerCluster(\n",
    "    markers=[Marker(location=geolocation.coords[0]) \n",
    "             for geolocation in points_now.geometry])\n",
    "    )\n",
    "m"
   ]
  },
  {
   "cell_type": "markdown",
   "metadata": {
    "pycharm": {
     "name": "#%% md\n"
    }
   },
   "source": [
    "Определение вероятных мест"
   ]
  },
  {
   "cell_type": "code",
   "execution_count": 283,
   "metadata": {
    "pycharm": {
     "is_executing": false,
     "name": "#%%\n"
    }
   },
   "outputs": [
    {
     "name": "stdout",
     "output_type": "stream",
     "text": [
      "Если абонент в настоящее время находится в зоне 2,\n",
      "то наиболее вероятeн переход в:\n",
      "21    0.43\n",
      "Name: 2, dtype: float64\n"
     ]
    }
   ],
   "source": [
    "places = round(p_markov_df.loc[cluster_now][p_markov_df.loc[cluster_now] > 0].sort_values(ascending=False), 2)\n",
    "top_places = places.loc[places.values==places.max()]\n",
    "print(f'Если абонент в настоящее время находится в зоне {cluster_now},\\nто наиболее вероятeн переход в:\\n{top_places}')"
   ]
  },
  {
   "cell_type": "markdown",
   "metadata": {},
   "source": [
    "Отрисовка кластеров"
   ]
  },
  {
   "cell_type": "code",
   "execution_count": 284,
   "metadata": {},
   "outputs": [
    {
     "data": {
      "application/vnd.jupyter.widget-view+json": {
       "model_id": "ca131d4990b54a408b0a44a4e4b19959",
       "version_major": 2,
       "version_minor": 0
      },
      "text/plain": [
       "Map(basemap={'url': 'https://{s}.tile.openstreetmap.org/{z}/{x}/{y}.png', 'max_zoom': 19, 'attribution': 'Map …"
      ]
     },
     "metadata": {},
     "output_type": "display_data"
    }
   ],
   "source": [
    "m = Map(center=(55.75222, 37.61556), zoom=8)\n",
    "for cluster in top_places.index:\n",
    "    m.add_layer(MarkerCluster(\n",
    "        markers=[Marker(location=geolocation.coords[0]) \n",
    "                 for geolocation in \n",
    "                 cluster_info.loc[cluster].loc[cluster_info.loc[cluster].probabilities > 0.5].geometry])\n",
    "        )\n",
    "m"
   ]
  },
  {
   "cell_type": "code",
   "execution_count": 285,
   "metadata": {},
   "outputs": [],
   "source": [
    "points_1h_cluster.to_csv('res.csv')"
   ]
  },
  {
   "cell_type": "markdown",
   "metadata": {},
   "source": [
    "Распределение вероятностей по всем кластерам (топ 15)"
   ]
  },
  {
   "cell_type": "code",
   "execution_count": 286,
   "metadata": {},
   "outputs": [
    {
     "data": {
      "text/html": [
       "<div>\n",
       "<style scoped>\n",
       "    .dataframe tbody tr th:only-of-type {\n",
       "        vertical-align: middle;\n",
       "    }\n",
       "\n",
       "    .dataframe tbody tr th {\n",
       "        vertical-align: top;\n",
       "    }\n",
       "\n",
       "    .dataframe thead th {\n",
       "        text-align: right;\n",
       "    }\n",
       "</style>\n",
       "<table border=\"1\" class=\"dataframe\">\n",
       "  <thead>\n",
       "    <tr style=\"text-align: right;\">\n",
       "      <th></th>\n",
       "      <th>LAC_CELL</th>\n",
       "    </tr>\n",
       "    <tr>\n",
       "      <th>cluster</th>\n",
       "      <th></th>\n",
       "    </tr>\n",
       "  </thead>\n",
       "  <tbody>\n",
       "    <tr>\n",
       "      <th>21</th>\n",
       "      <td>0.244386</td>\n",
       "    </tr>\n",
       "    <tr>\n",
       "      <th>32</th>\n",
       "      <td>0.168900</td>\n",
       "    </tr>\n",
       "    <tr>\n",
       "      <th>33</th>\n",
       "      <td>0.117758</td>\n",
       "    </tr>\n",
       "    <tr>\n",
       "      <th>26</th>\n",
       "      <td>0.052274</td>\n",
       "    </tr>\n",
       "    <tr>\n",
       "      <th>35</th>\n",
       "      <td>0.044537</td>\n",
       "    </tr>\n",
       "    <tr>\n",
       "      <th>4</th>\n",
       "      <td>0.040385</td>\n",
       "    </tr>\n",
       "    <tr>\n",
       "      <th>42</th>\n",
       "      <td>0.025099</td>\n",
       "    </tr>\n",
       "    <tr>\n",
       "      <th>41</th>\n",
       "      <td>0.024533</td>\n",
       "    </tr>\n",
       "    <tr>\n",
       "      <th>3</th>\n",
       "      <td>0.021702</td>\n",
       "    </tr>\n",
       "    <tr>\n",
       "      <th>34</th>\n",
       "      <td>0.020004</td>\n",
       "    </tr>\n",
       "    <tr>\n",
       "      <th>39</th>\n",
       "      <td>0.017362</td>\n",
       "    </tr>\n",
       "    <tr>\n",
       "      <th>43</th>\n",
       "      <td>0.015097</td>\n",
       "    </tr>\n",
       "    <tr>\n",
       "      <th>25</th>\n",
       "      <td>0.014342</td>\n",
       "    </tr>\n",
       "    <tr>\n",
       "      <th>24</th>\n",
       "      <td>0.013210</td>\n",
       "    </tr>\n",
       "    <tr>\n",
       "      <th>22</th>\n",
       "      <td>0.013210</td>\n",
       "    </tr>\n",
       "  </tbody>\n",
       "</table>\n",
       "</div>"
      ],
      "text/plain": [
       "         LAC_CELL\n",
       "cluster          \n",
       "21       0.244386\n",
       "32       0.168900\n",
       "33       0.117758\n",
       "26       0.052274\n",
       "35       0.044537\n",
       "4        0.040385\n",
       "42       0.025099\n",
       "41       0.024533\n",
       "3        0.021702\n",
       "34       0.020004\n",
       "39       0.017362\n",
       "43       0.015097\n",
       "25       0.014342\n",
       "24       0.013210\n",
       "22       0.013210"
      ]
     },
     "execution_count": 286,
     "metadata": {},
     "output_type": "execute_result"
    }
   ],
   "source": [
    "res = (points_1h_cluster[['cluster', 'LAC_CELL']].groupby('cluster').count() / \n",
    " points_1h_cluster.shape[0]).sort_values(by='LAC_CELL', ascending=False)[:15]\n",
    "res"
   ]
  },
  {
   "cell_type": "code",
   "execution_count": 287,
   "metadata": {},
   "outputs": [
    {
     "data": {
      "application/vnd.jupyter.widget-view+json": {
       "model_id": "2953764a5adb435fa2396aaf094e9f0c",
       "version_major": 2,
       "version_minor": 0
      },
      "text/plain": [
       "Map(basemap={'url': 'https://{s}.tile.openstreetmap.org/{z}/{x}/{y}.png', 'max_zoom': 19, 'attribution': 'Map …"
      ]
     },
     "metadata": {},
     "output_type": "display_data"
    }
   ],
   "source": [
    "m = Map(center=(55.75222, 37.61556), zoom=8)\n",
    "for cluster in res.index:\n",
    "    m.add_layer(MarkerCluster(\n",
    "        markers=[Marker(location=geolocation.coords[0]) \n",
    "                 for geolocation in \n",
    "                 cluster_info.loc[cluster].loc[cluster_info.loc[cluster].probabilities > 0.5].geometry])\n",
    "        )\n",
    "m"
   ]
  },
  {
   "cell_type": "code",
   "execution_count": null,
   "metadata": {},
   "outputs": [],
   "source": []
  }
 ],
 "metadata": {
  "kernelspec": {
   "display_name": "PyCharm (TerVer_github)",
   "language": "python",
   "name": "pycharm-91389b54"
  },
  "language_info": {
   "codemirror_mode": {
    "name": "ipython",
    "version": 3
   },
   "file_extension": ".py",
   "mimetype": "text/x-python",
   "name": "python",
   "nbconvert_exporter": "python",
   "pygments_lexer": "ipython3",
   "version": "3.7.3"
  },
  "pycharm": {
   "stem_cell": {
    "cell_type": "raw",
    "metadata": {
     "collapsed": false
    },
    "source": []
   }
  }
 },
 "nbformat": 4,
 "nbformat_minor": 1
}
