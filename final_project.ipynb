{
 "cells": [
  {
   "cell_type": "code",
   "execution_count": 1,
   "metadata": {
    "collapsed": true,
    "pycharm": {
     "is_executing": false
    }
   },
   "outputs": [],
   "source": [
    "import pandas as pd\n",
    "import numpy as np\n",
    "import matplotlib.pyplot as plt\n",
    "import geopandas as geopd\n",
    "from shapely.geometry import Point\n",
    "\n",
    "import hdbscan\n",
    "import seaborn as sns\n",
    "%matplotlib inline\n",
    "sns.set_context('poster')\n",
    "sns.set_style('white')\n",
    "sns.set_color_codes()"
   ]
  },
  {
   "cell_type": "markdown",
   "source": [
    "Создаем объект DataFrame из файла статистики абонента"
   ],
   "metadata": {
    "collapsed": false,
    "pycharm": {
     "name": "#%% md\n"
    }
   }
  },
  {
   "cell_type": "code",
   "execution_count": 2,
   "outputs": [
    {
     "name": "stdout",
     "text": [
      "<class 'pandas.core.frame.DataFrame'>\n",
      "RangeIndex: 22149 entries, 0 to 22148\n",
      "Data columns (total 21 columns):\n",
      "Unnamed: 0    22149 non-null int64\n",
      "DATE          22149 non-null datetime64[ns]\n",
      "DURATION      22149 non-null float64\n",
      "TYPE          22149 non-null object\n",
      "DIRECTION     22149 non-null object\n",
      "MSISDN_A      22149 non-null int64\n",
      "IMSI_A        22149 non-null int64\n",
      "IMEI_A        21095 non-null float64\n",
      "MSISDN_B      2670 non-null float64\n",
      "LAC_A         22149 non-null int64\n",
      "CELLID_A      22149 non-null int64\n",
      "AZIMUTH_A     22149 non-null int64\n",
      "ADDRESS_A     22073 non-null object\n",
      "ROAMING       22149 non-null object\n",
      "LAC           22149 non-null int64\n",
      "CELL          22149 non-null int64\n",
      "ADDRESS       22149 non-null object\n",
      "LON           22149 non-null float64\n",
      "LAT           22149 non-null float64\n",
      "AZIMUTH       21862 non-null float64\n",
      "LOCATION      20644 non-null object\n",
      "dtypes: datetime64[ns](1), float64(6), int64(8), object(6)\n",
      "memory usage: 3.5+ MB\n"
     ],
     "output_type": "stream"
    }
   ],
   "source": [
    "ab_stat = pd.read_excel('ab_stat.xlsx', index_col=False)\n",
    "ab_stat.info()"
   ],
   "metadata": {
    "collapsed": false,
    "pycharm": {
     "name": "#%%\n",
     "is_executing": false
    }
   }
  },
  {
   "cell_type": "code",
   "execution_count": 37,
   "outputs": [
    {
     "name": "stderr",
     "text": [
      "/Users/kosmosivanov/.conda/envs/TerVer/lib/python3.7/site-packages/ipykernel_launcher.py:2: SettingWithCopyWarning: \n",
      "A value is trying to be set on a copy of a slice from a DataFrame.\n",
      "Try using .loc[row_indexer,col_indexer] = value instead\n",
      "\n",
      "See the caveats in the documentation: http://pandas.pydata.org/pandas-docs/stable/user_guide/indexing.html#returning-a-view-versus-a-copy\n",
      "  \n"
     ],
     "output_type": "stream"
    },
    {
     "data": {
      "text/plain": "                 DATE       LAT        LON  AZIMUTH LOCATION    LAC_CELL\n0 2018-05-03 12:46:52  56.28441  38.396787    200.0  outdoor  9021_63793\n1 2018-05-03 13:46:52  56.28441  38.396787    200.0  outdoor  9021_63793\n2 2018-05-03 14:46:52  56.28441  38.396787    200.0  outdoor  9021_63793\n3 2018-05-09 11:04:52  56.28441  38.396787    200.0  outdoor  9021_63793\n4 2018-05-09 19:04:52  56.28441  38.396787    200.0  outdoor  9021_63793",
      "text/html": "<div>\n<style scoped>\n    .dataframe tbody tr th:only-of-type {\n        vertical-align: middle;\n    }\n\n    .dataframe tbody tr th {\n        vertical-align: top;\n    }\n\n    .dataframe thead th {\n        text-align: right;\n    }\n</style>\n<table border=\"1\" class=\"dataframe\">\n  <thead>\n    <tr style=\"text-align: right;\">\n      <th></th>\n      <th>DATE</th>\n      <th>LAT</th>\n      <th>LON</th>\n      <th>AZIMUTH</th>\n      <th>LOCATION</th>\n      <th>LAC_CELL</th>\n    </tr>\n  </thead>\n  <tbody>\n    <tr>\n      <th>0</th>\n      <td>2018-05-03 12:46:52</td>\n      <td>56.28441</td>\n      <td>38.396787</td>\n      <td>200.0</td>\n      <td>outdoor</td>\n      <td>9021_63793</td>\n    </tr>\n    <tr>\n      <th>1</th>\n      <td>2018-05-03 13:46:52</td>\n      <td>56.28441</td>\n      <td>38.396787</td>\n      <td>200.0</td>\n      <td>outdoor</td>\n      <td>9021_63793</td>\n    </tr>\n    <tr>\n      <th>2</th>\n      <td>2018-05-03 14:46:52</td>\n      <td>56.28441</td>\n      <td>38.396787</td>\n      <td>200.0</td>\n      <td>outdoor</td>\n      <td>9021_63793</td>\n    </tr>\n    <tr>\n      <th>3</th>\n      <td>2018-05-09 11:04:52</td>\n      <td>56.28441</td>\n      <td>38.396787</td>\n      <td>200.0</td>\n      <td>outdoor</td>\n      <td>9021_63793</td>\n    </tr>\n    <tr>\n      <th>4</th>\n      <td>2018-05-09 19:04:52</td>\n      <td>56.28441</td>\n      <td>38.396787</td>\n      <td>200.0</td>\n      <td>outdoor</td>\n      <td>9021_63793</td>\n    </tr>\n  </tbody>\n</table>\n</div>"
     },
     "metadata": {},
     "output_type": "execute_result",
     "execution_count": 37
    }
   ],
   "source": [
    "lat_long = ab_stat[['DATE', 'LAT', 'LON', 'AZIMUTH', 'LOCATION', 'LAC', 'CELL']]\n",
    "lat_long['LAC_CELL'] = lat_long.apply(lambda x: str(x.LAC) + '_' + str(x.CELL), axis=1)\n",
    "lat_long = lat_long.drop(['LAC', 'CELL'], axis=1)\n",
    "lat_long.head()"
   ],
   "metadata": {
    "collapsed": false,
    "pycharm": {
     "name": "#%%\n",
     "is_executing": false
    }
   }
  },
  {
   "cell_type": "code",
   "execution_count": 38,
   "outputs": [],
   "source": [
    "lat_long_index = lat_long[['DATE', 'LAC_CELL']]\n"
   ],
   "metadata": {
    "collapsed": false,
    "pycharm": {
     "name": "#%%\n",
     "is_executing": false
    }
   }
  },
  {
   "cell_type": "code",
   "execution_count": 39,
   "outputs": [
    {
     "data": {
      "text/plain": "DATE\n2018-05-03 12:46:52    9021_63793\n2018-05-03 13:46:52    9021_63793\n2018-05-03 14:46:52    9021_63793\n2018-05-09 11:04:52    9021_63793\n2018-05-09 19:04:52    9021_63793\nName: LAC_CELL, dtype: object"
     },
     "metadata": {},
     "output_type": "execute_result",
     "execution_count": 39
    }
   ],
   "source": [
    "lat_long_index.index = lat_long.DATE\n",
    "lat_long_index = lat_long_index['LAC_CELL']\n",
    "lat_long_index.head()"
   ],
   "metadata": {
    "collapsed": false,
    "pycharm": {
     "name": "#%%\n",
     "is_executing": false
    }
   }
  },
  {
   "cell_type": "code",
   "execution_count": 40,
   "outputs": [
    {
     "data": {
      "text/plain": "21925"
     },
     "metadata": {},
     "output_type": "execute_result",
     "execution_count": 40
    }
   ],
   "source": [
    "lat_long_index = lat_long_index[lat_long_index.map(lat_long_index.value_counts()) > 1]\n",
    "lat_long_index.shape[0]"
   ],
   "metadata": {
    "collapsed": false,
    "pycharm": {
     "name": "#%%\n",
     "is_executing": false
    }
   }
  },
  {
   "cell_type": "code",
   "execution_count": 41,
   "outputs": [
    {
     "data": {
      "text/plain": "13818"
     },
     "metadata": {},
     "output_type": "execute_result",
     "execution_count": 41
    }
   ],
   "source": [
    "r = lat_long_index.resample('H')\n",
    "lat_long_index_1h = r.apply(lambda x: x.value_counts().index[0] if len(x.value_counts()) else None)\n",
    "lat_long_index_1h.shape[0]"
   ],
   "metadata": {
    "collapsed": false,
    "pycharm": {
     "name": "#%%\n",
     "is_executing": false
    }
   }
  },
  {
   "cell_type": "code",
   "execution_count": 4,
   "outputs": [
    {
     "data": {
      "text/plain": "           LAT        LON  AZIMUTH LOCATION   LAC       CELL  \\\n0    56.284410  38.396787    200.0  outdoor  9021      63793   \n111  56.288675  38.210756     60.0  outdoor  5036  197534212   \n115  55.715389  37.665209    310.0  outdoor  9767  197921795   \n289  55.746933  37.707497      0.0   indoor  7740      39600   \n297  55.748059  37.706855      0.0   indoor  9711  129006849   \n\n                      geometry  \n0    POINT (56.28441 38.39679)  \n111  POINT (56.28867 38.21076)  \n115  POINT (55.71539 37.66521)  \n289  POINT (55.74693 37.70750)  \n297  POINT (55.74806 37.70685)  ",
      "text/html": "<div>\n<style scoped>\n    .dataframe tbody tr th:only-of-type {\n        vertical-align: middle;\n    }\n\n    .dataframe tbody tr th {\n        vertical-align: top;\n    }\n\n    .dataframe thead th {\n        text-align: right;\n    }\n</style>\n<table border=\"1\" class=\"dataframe\">\n  <thead>\n    <tr style=\"text-align: right;\">\n      <th></th>\n      <th>LAT</th>\n      <th>LON</th>\n      <th>AZIMUTH</th>\n      <th>LOCATION</th>\n      <th>LAC</th>\n      <th>CELL</th>\n      <th>geometry</th>\n    </tr>\n  </thead>\n  <tbody>\n    <tr>\n      <th>0</th>\n      <td>56.284410</td>\n      <td>38.396787</td>\n      <td>200.0</td>\n      <td>outdoor</td>\n      <td>9021</td>\n      <td>63793</td>\n      <td>POINT (56.28441 38.39679)</td>\n    </tr>\n    <tr>\n      <th>111</th>\n      <td>56.288675</td>\n      <td>38.210756</td>\n      <td>60.0</td>\n      <td>outdoor</td>\n      <td>5036</td>\n      <td>197534212</td>\n      <td>POINT (56.28867 38.21076)</td>\n    </tr>\n    <tr>\n      <th>115</th>\n      <td>55.715389</td>\n      <td>37.665209</td>\n      <td>310.0</td>\n      <td>outdoor</td>\n      <td>9767</td>\n      <td>197921795</td>\n      <td>POINT (55.71539 37.66521)</td>\n    </tr>\n    <tr>\n      <th>289</th>\n      <td>55.746933</td>\n      <td>37.707497</td>\n      <td>0.0</td>\n      <td>indoor</td>\n      <td>7740</td>\n      <td>39600</td>\n      <td>POINT (55.74693 37.70750)</td>\n    </tr>\n    <tr>\n      <th>297</th>\n      <td>55.748059</td>\n      <td>37.706855</td>\n      <td>0.0</td>\n      <td>indoor</td>\n      <td>9711</td>\n      <td>129006849</td>\n      <td>POINT (55.74806 37.70685)</td>\n    </tr>\n  </tbody>\n</table>\n</div>"
     },
     "metadata": {},
     "output_type": "execute_result",
     "execution_count": 4
    }
   ],
   "source": [
    "lat_long_uniq = lat_long.drop_duplicates()\n",
    "geodf = geopd.GeoDataFrame(lat_long_uniq, geometry=geopd.points_from_xy(lat_long_uniq.LAT, lat_long_uniq.LON))\n",
    "geodf.head()"
   ],
   "metadata": {
    "collapsed": false,
    "pycharm": {
     "name": "#%%\n",
     "is_executing": false
    }
   }
  },
  {
   "cell_type": "code",
   "execution_count": 5,
   "outputs": [
    {
     "data": {
      "text/plain": "           LAT        LON  AZIMUTH LOCATION   LAC       CELL  \\\n0    56.281873  38.395896    200.0  outdoor  9021      63793   \n111  56.290025  38.213016     60.0  outdoor  5036  197534212   \n115  55.717124  37.663818    310.0  outdoor  9767  197921795   \n289  55.746933  37.707497      0.0   indoor  7740      39600   \n297  55.748059  37.706855      0.0   indoor  9711  129006849   \n\n                      geometry  \n0    POINT (56.28187 38.39590)  \n111  POINT (56.29002 38.21302)  \n115  POINT (55.71712 37.66382)  \n289  POINT (55.74693 37.70750)  \n297  POINT (55.74806 37.70685)  ",
      "text/html": "<div>\n<style scoped>\n    .dataframe tbody tr th:only-of-type {\n        vertical-align: middle;\n    }\n\n    .dataframe tbody tr th {\n        vertical-align: top;\n    }\n\n    .dataframe thead th {\n        text-align: right;\n    }\n</style>\n<table border=\"1\" class=\"dataframe\">\n  <thead>\n    <tr style=\"text-align: right;\">\n      <th></th>\n      <th>LAT</th>\n      <th>LON</th>\n      <th>AZIMUTH</th>\n      <th>LOCATION</th>\n      <th>LAC</th>\n      <th>CELL</th>\n      <th>geometry</th>\n    </tr>\n  </thead>\n  <tbody>\n    <tr>\n      <th>0</th>\n      <td>56.281873</td>\n      <td>38.395896</td>\n      <td>200.0</td>\n      <td>outdoor</td>\n      <td>9021</td>\n      <td>63793</td>\n      <td>POINT (56.28187 38.39590)</td>\n    </tr>\n    <tr>\n      <th>111</th>\n      <td>56.290025</td>\n      <td>38.213016</td>\n      <td>60.0</td>\n      <td>outdoor</td>\n      <td>5036</td>\n      <td>197534212</td>\n      <td>POINT (56.29002 38.21302)</td>\n    </tr>\n    <tr>\n      <th>115</th>\n      <td>55.717124</td>\n      <td>37.663818</td>\n      <td>310.0</td>\n      <td>outdoor</td>\n      <td>9767</td>\n      <td>197921795</td>\n      <td>POINT (55.71712 37.66382)</td>\n    </tr>\n    <tr>\n      <th>289</th>\n      <td>55.746933</td>\n      <td>37.707497</td>\n      <td>0.0</td>\n      <td>indoor</td>\n      <td>7740</td>\n      <td>39600</td>\n      <td>POINT (55.74693 37.70750)</td>\n    </tr>\n    <tr>\n      <th>297</th>\n      <td>55.748059</td>\n      <td>37.706855</td>\n      <td>0.0</td>\n      <td>indoor</td>\n      <td>9711</td>\n      <td>129006849</td>\n      <td>POINT (55.74806 37.70685)</td>\n    </tr>\n  </tbody>\n</table>\n</div>"
     },
     "metadata": {},
     "output_type": "execute_result",
     "execution_count": 5
    }
   ],
   "source": [
    "def my_translate(g):\n",
    "    if g.LOCATION == 'outdoor':\n",
    "        gr_meter = 111120 # метров в 1 градусе широты\n",
    "        dist = 300 # сдвиг в метрах\n",
    "        dist_gr_lat = dist / gr_meter # сдвиг по широте в градусах\n",
    "        dist_gr_lon = dist_gr_lat * np.cos(g.geometry.x) # сдвиг по долготе в градусах\n",
    "        \n",
    "        g.geometry = Point(g.geometry.x + np.cos(np.deg2rad(g.AZIMUTH)) * dist_gr_lat,\n",
    "                  g.geometry.y + np.sin(np.deg2rad(g.AZIMUTH)) * dist_gr_lon)\n",
    "    return g\n",
    "\n",
    " \n",
    "geodf_300 = geodf.apply(my_translate, axis=1)\n",
    "\n",
    "geodf_300.LAT = geodf_300.geometry.x\n",
    "geodf_300.LON = geodf_300.geometry.y\n",
    "\n",
    "geodf_300.head()"
   ],
   "metadata": {
    "collapsed": false,
    "pycharm": {
     "name": "#%%\n",
     "is_executing": false
    }
   }
  },
  {
   "cell_type": "code",
   "execution_count": 6,
   "outputs": [],
   "source": [
    "plot_kwds = {'alpha' : 0.5, 's' : 30, 'linewidths':0, }"
   ],
   "metadata": {
    "collapsed": false,
    "pycharm": {
     "name": "#%%\n",
     "is_executing": false
    }
   }
  },
  {
   "cell_type": "code",
   "execution_count": 7,
   "outputs": [
    {
     "data": {
      "text/plain": "          LAT       LON\n0    0.982304  0.670135\n111  0.982446  0.666943\n115  0.972447  0.657358\n289  0.972968  0.658120\n297  0.972987  0.658109",
      "text/html": "<div>\n<style scoped>\n    .dataframe tbody tr th:only-of-type {\n        vertical-align: middle;\n    }\n\n    .dataframe tbody tr th {\n        vertical-align: top;\n    }\n\n    .dataframe thead th {\n        text-align: right;\n    }\n</style>\n<table border=\"1\" class=\"dataframe\">\n  <thead>\n    <tr style=\"text-align: right;\">\n      <th></th>\n      <th>LAT</th>\n      <th>LON</th>\n    </tr>\n  </thead>\n  <tbody>\n    <tr>\n      <th>0</th>\n      <td>0.982304</td>\n      <td>0.670135</td>\n    </tr>\n    <tr>\n      <th>111</th>\n      <td>0.982446</td>\n      <td>0.666943</td>\n    </tr>\n    <tr>\n      <th>115</th>\n      <td>0.972447</td>\n      <td>0.657358</td>\n    </tr>\n    <tr>\n      <th>289</th>\n      <td>0.972968</td>\n      <td>0.658120</td>\n    </tr>\n    <tr>\n      <th>297</th>\n      <td>0.972987</td>\n      <td>0.658109</td>\n    </tr>\n  </tbody>\n</table>\n</div>"
     },
     "metadata": {},
     "output_type": "execute_result",
     "execution_count": 7
    }
   ],
   "source": [
    "rad_uniq = np.deg2rad(geodf_300[['LAT', 'LON']])\n",
    "rad_uniq.head()"
   ],
   "metadata": {
    "collapsed": false,
    "pycharm": {
     "name": "#%%\n",
     "is_executing": false
    }
   }
  },
  {
   "cell_type": "code",
   "execution_count": 8,
   "outputs": [
    {
     "data": {
      "text/plain": "<matplotlib.collections.PathCollection at 0x124d26630>"
     },
     "metadata": {},
     "output_type": "execute_result",
     "execution_count": 8
    },
    {
     "data": {
      "text/plain": "<Figure size 432x288 with 1 Axes>",
      "image/png": "[encoded data removed]"
     },
     "metadata": {
      "needs_background": "light"
     },
     "output_type": "display_data"
    }
   ],
   "source": [
    "plt.scatter(lat_long_uniq.LAT, lat_long_uniq.LON, color='b', **plot_kwds)"
   ],
   "metadata": {
    "collapsed": false,
    "pycharm": {
     "name": "#%%\n",
     "is_executing": false
    }
   }
  },
  {
   "cell_type": "code",
   "execution_count": 9,
   "outputs": [
    {
     "data": {
      "text/plain": "HDBSCAN(algorithm='best', allow_single_cluster=False, alpha=1.0,\n        approx_min_span_tree=True, cluster_selection_method='eom',\n        core_dist_n_jobs=4, gen_min_span_tree=True, leaf_size=40,\n        match_reference_implementation=False, memory=Memory(location=None),\n        metric='haversine', min_cluster_size=5, min_samples=None, p=None,\n        prediction_data=False)"
     },
     "metadata": {},
     "output_type": "execute_result",
     "execution_count": 9
    }
   ],
   "source": [
    "clusterer = hdbscan.HDBSCAN(min_cluster_size=5, gen_min_span_tree=True, metric='haversine')\n",
    "clusterer.fit(rad_uniq)"
   ],
   "metadata": {
    "collapsed": false,
    "pycharm": {
     "name": "#%%\n",
     "is_executing": false
    }
   }
  },
  {
   "cell_type": "code",
   "execution_count": 10,
   "outputs": [
    {
     "data": {
      "text/plain": "(array([ 3,  7, 46, 25, 26, 26, 26, 25, 26, 26, 25,  0, 50, 59, 72, 72, 64,\n        51, 52, 62, 32, 32, 50, 47, 47, 50, 50, 61, 59, -1, -1,  3, -1,  2,\n         2,  2, 71, 51, -1, -1, 48, -1, -1, -1, 13, 13, 13, 13, 13, 13, 13,\n        -1, 42, 39, 39, -1, -1, 41, 41, 45, 45, 41, 31, 59, 69, 67, 59, 69,\n        69, -1, 56, 30, -1, -1, 11, 11, 11, -1, 50, 51, 56, -1, 28, 28, 28,\n        32, 32, -1, -1, -1, 43, 45, 72, 75, 26, 25, 25, -1, 48, 54, -1, 52,\n        52, 51, -1, 38,  0,  0,  0,  0, -1, 43, 42, -1, 47, 47, -1, -1, 39,\n        52, -1, 45, -1, 64, 73, 73, 69, 67, 42, 27, 27, 27, 27, 27, 27, 27,\n        27, 43, 72, 54, -1, 45, 44, 44, 64, 72, 64, 18, 18, 67, 67, 67, 69,\n        73, -1, 39, 42, 24, 12,  2,  3, 72, -1, 43, 44, 44, 44, 49, 57, 67,\n        46, 49, 39, 49, 25, 26, -1, 45, 43, 44, 44, 44, 41, 41, -1,  5,  5,\n        49, -1, 44, 37, 57, 46, 46, 64, 56, 45, 69, -1, -1, 49, 41, 69, -1,\n        -1, -1, -1, 34, 34, 58, -1, 59, 32, -1, -1, 43, 24, 69, 56, 75, 76,\n        46, 46, 46, -1, -1, -1, 63, -1, -1, 70, -1, 76, 76, 42, 36, 67, 61,\n        61, 60, 71, 71, -1, 60, 60, -1, -1, -1, -1, 40, 49, -1, -1,  0,  0,\n         0,  0, -1, 71, 71, -1, 35, 37, -1, 72, 74, 61, 23, 23, 23, -1, 43,\n        14,  4, 67, 67, 68, 56, -1, 40, 40, 47, 67, -1, 48, -1, 45, 54, 58,\n        58, 57, 56, -1, 35, 70, -1, 69, 24, 24, 24, 24, 36, -1, -1, 44, 44,\n         3,  2, 34, 56, -1, -1, -1, -1, -1, 73, -1, 72, 47, 49, 24, 38, 38,\n        11, 38, 51, -1,  2,  4, 10, 14, -1, -1, -1, -1, -1, -1, -1,  0,  0,\n        -1, 35, 52, 51, -1, 65, 65, 65, -1, 25, -1,  0,  0, 71, 69, 68, 15,\n        -1, 44, 47, -1, -1,  4, 37, 61, -1, -1, 14,  2, -1, -1, 61,  1, 24,\n        10, 10,  4,  7, -1, -1, 45, -1, -1, 30, 49, 23, 23, 53, 53, 53, 63,\n        -1, 21, 21, 21, -1, 25, -1, 22, 49, 33, 70, -1, -1, 18, 75, 76, 62,\n        60, 60, 36, -1, 74, 41, -1, 55, -1, 75, 57, -1, 49, -1, 54, 43, 45,\n        21, 21, 63, 66, 74, 53, 53, -1, 12, 10, 10, 51, -1, 54, -1, 49, 70,\n        66, -1, -1, 14, 14, 68, 52,  2,  3, 22, 66, 60,  0, -1, 56, 30, 13,\n        23, 23, 23, -1, 49, -1,  1, 49, -1, -1, 46, 46, 44, 49, 57, -1, -1,\n        -1, 31, 22, 22,  2,  4,  8, -1, -1, -1, -1, 47, -1, 64, 49, 37, 38,\n        -1, 64, -1, -1, 30, 30, 49, 43, 36, 16, -1, 40,  6,  6,  6,  6,  6,\n        16, 16,  5,  5,  5,  5, 14, 10, -1, 63, -1, 24, 24, 24, -1, 29, 29,\n        29, 19, 51,  2,  2,  8, -1, 34, 75, 65, 65, -1, 44, 55, 62, 66, 38,\n        38, 75, 44, 43, 10, 10, 22, -1, -1, 34, 27, -1, 27, 27, -1, 74, -1,\n         4, 51, -1, 74, 33, 51, 44, -1, -1, 55, -1, 35, 19, -1, 29, -1, 72,\n        -1, 40,  3,  9, -1, -1,  8, -1, -1, 72, -1, 70, -1, -1, -1, -1, 47,\n        68, -1, 10, -1, -1,  9,  7, 10, -1, 61, 38, -1, 14,  7,  8,  8, -1,\n        -1, -1, -1,  6,  6, -1, 47, -1, -1, -1, -1,  0, 50, -1, 65, 65, 65,\n        66, 49, 36, -1, 33, 64, -1, 18, 18, 18, 18, -1, -1, -1, -1, -1, -1,\n        -1, -1, 28, 28, 18,  2, -1, -1, 18, -1, 48, 48, 48, 48, 18, 18, 18,\n        -1, 16, 16, 33, 33, 27, 27, 29, 29, -1, 29,  2, -1, -1, 55, -1, 23,\n        23, 23, 73, 45, 62, 69, 67, 75, 49, 49, 51, 51, 21, 20, 20, 20, 20,\n        20, 20, -1, 51, 51, 51, -1, 24, 24,  4, 52, -1, 43, 11, 17, 17, 17,\n        19, -1, -1, 63, 28, 45, 63, 63, 62,  2, -1,  2,  2, -1,  8, 51, 68,\n        56, 72, 67,  9,  9,  7,  2, 14, 31, 42, 70, -1, -1, -1,  0,  0, -1,\n        -1, -1, 60, -1, 74, 68, 55, -1, 48, -1, 12, 48, 34, 74, 61, -1, 31,\n        -1, 14, 58, -1, 76, 73, 54, 34,  1,  1,  1, -1, -1, 17, 58, 35, -1,\n        -1, -1, -1, -1, 28, -1, -1,  2, 37, 28, 28, 28, 14, 14, -1,  2,  2,\n        -1, 34, -1, 56, -1, 24, -1, -1,  2, 51, 15, 15, 15, 49, 17, 16, 17,\n        17, -1,  4, 71, 68, 63, 65, 49, 36, -1, -1, -1, -1,  5,  6,  6,  6,\n        -1, -1, 55, 47,  0, -1, -1, -1, 71, -1, 73, 17, 24, -1, 32, -1, -1,\n        -1, 15, 15, 22, -1, -1, -1, 12, 12,  4, 36, 32, 57, 35, -1, -1, 71,\n        17, 19, -1, -1, 22,  8, 19, 35, 35, 35, 70, -1, 37, 38, 68, 12, 14,\n        54, 51, 68, 38, 38, -1, 24, 29, -1, 29, 36, 75, 10, 22, 53, 53, 53,\n        -1, 49, -1, 66, 72,  2, 66, 68,  2, 68, 32, 32, 63, 68, 68, 32, 51,\n        34, -1,  9, 22, 31, 66, -1, 17, 32, 24, 35, 24, 56, -1]),\n array([1.        , 1.        , 1.        , 1.        , 1.        ,\n        1.        , 1.        , 1.        , 1.        , 1.        ,\n        1.        , 0.02406674, 1.        , 1.        , 1.        ,\n        1.        , 1.        , 1.        , 1.        , 1.        ,\n        0.80967579, 0.80967579, 1.        , 0.56234817, 0.56234817,\n        1.        , 1.        , 1.        , 1.        , 0.        ,\n        0.        , 1.        , 0.        , 0.16899606, 0.51168618,\n        0.09294651, 1.        , 1.        , 0.        , 0.        ,\n        0.96160714, 0.        , 0.        , 0.        , 0.76630172,\n        0.76630172, 0.76630172, 1.        , 1.        , 1.        ,\n        1.        , 0.        , 1.        , 1.        , 1.        ,\n        0.        , 0.        , 1.        , 1.        , 0.        ,\n        0.        , 0.        , 1.        , 1.        , 1.        ,\n        0.        , 1.        , 1.        , 1.        , 0.        ,\n        1.        , 1.        , 0.        , 0.        , 1.        ,\n        1.        , 1.        , 0.        , 1.        , 0.77798422,\n        1.        , 0.        , 1.        , 1.        , 0.        ,\n        0.80967579, 1.        , 0.        , 0.        , 0.        ,\n        1.        , 1.        , 0.4676956 , 1.        , 1.        ,\n        1.        , 1.        , 0.        , 0.96160714, 1.        ,\n        0.        , 1.        , 1.        , 0.90378327, 0.        ,\n        1.        , 0.34330459, 0.34330459, 1.        , 0.00759446,\n        0.        , 1.        , 1.        , 0.        , 1.        ,\n        0.46869722, 0.        , 0.        , 1.        , 0.        ,\n        0.        , 0.        , 0.        , 1.        , 1.        ,\n        1.        , 1.        , 1.        , 1.        , 0.64029696,\n        0.64029696, 0.61545099, 1.        , 1.        , 1.        ,\n        1.        , 0.53211388, 1.        , 0.55269601, 0.60938673,\n        0.        , 0.        , 0.        , 0.        , 0.        ,\n        0.55269601, 1.        , 0.27935648, 0.27935648, 1.        ,\n        0.        , 1.        , 1.        , 0.90120219, 0.        ,\n        1.        , 1.        , 0.48086038, 1.        , 0.01939112,\n        1.        , 1.        , 0.        , 1.        , 1.        ,\n        1.        , 1.        , 1.        , 1.        , 1.        ,\n        1.        , 0.64085333, 1.        , 0.64085333, 1.        ,\n        1.        , 0.        , 0.        , 1.        , 1.        ,\n        1.        , 1.        , 1.        , 1.        , 0.        ,\n        0.34258223, 0.59084298, 1.        , 0.        , 1.        ,\n        1.        , 1.        , 0.91500189, 0.91500189, 1.        ,\n        0.        , 1.        , 0.9912666 , 0.        , 0.        ,\n        0.64085333, 1.        , 0.9912666 , 0.        , 0.        ,\n        0.        , 0.        , 1.        , 0.53455725, 1.        ,\n        0.        , 1.        , 1.        , 0.        , 0.        ,\n        1.        , 0.23856079, 1.        , 1.        , 1.        ,\n        1.        , 1.        , 1.        , 0.880848  , 0.        ,\n        0.        , 0.        , 0.81066357, 0.        , 0.        ,\n        0.07514974, 0.        , 1.        , 1.        , 1.        ,\n        1.        , 1.        , 1.        , 1.        , 1.        ,\n        1.        , 1.        , 0.        , 1.        , 1.        ,\n        0.        , 0.        , 0.        , 0.        , 1.        ,\n        1.        , 0.        , 0.        , 0.00749698, 0.00749698,\n        0.01376814, 0.02406674, 0.        , 1.        , 1.        ,\n        0.        , 0.77412498, 1.        , 0.        , 1.        ,\n        0.9382445 , 0.13491084, 1.        , 1.        , 1.        ,\n        0.        , 1.        , 0.        , 0.83358881, 0.        ,\n        0.        , 1.        , 0.        , 0.        , 1.        ,\n        1.        , 0.40773166, 0.        , 0.        , 0.96160714,\n        0.        , 1.        , 1.        , 1.        , 1.        ,\n        1.        , 0.        , 0.        , 0.86065138, 1.        ,\n        0.        , 1.        , 1.        , 1.        , 1.        ,\n        1.        , 1.        , 0.        , 0.        , 1.        ,\n        0.        , 1.        , 0.09439815, 1.        , 1.        ,\n        0.        , 0.        , 0.        , 0.        , 0.        ,\n        0.90120219, 0.        , 0.55269601, 1.        , 0.87756249,\n        0.2082625 , 0.6564198 , 1.        , 1.        , 0.90045134,\n        0.90378327, 0.        , 1.        , 1.        , 1.        ,\n        1.        , 0.        , 0.        , 0.        , 0.        ,\n        0.        , 0.        , 0.        , 1.        , 0.0121729 ,\n        0.        , 1.        , 1.        , 0.73170968, 0.        ,\n        1.        , 1.        , 1.        , 0.        , 1.        ,\n        0.        , 1.        , 0.0181668 , 0.        , 0.9912666 ,\n        0.74700031, 1.        , 0.        , 1.        , 1.        ,\n        0.        , 0.        , 1.        , 1.        , 0.13491084,\n        0.        , 0.        , 1.        , 1.        , 0.        ,\n        0.        , 1.        , 1.        , 0.24911232, 1.        ,\n        1.        , 1.        , 1.        , 0.        , 0.        ,\n        0.        , 0.        , 0.        , 1.        , 1.        ,\n        0.56341608, 0.31271866, 1.        , 1.        , 1.        ,\n        1.        , 0.        , 1.        , 1.        , 1.        ,\n        0.        , 1.        , 0.        , 1.        , 0.54183474,\n        1.        , 1.        , 0.        , 0.        , 0.19510966,\n        1.        , 1.        , 1.        , 1.        , 1.        ,\n        1.        , 0.        , 0.9382445 , 1.        , 0.        ,\n        1.        , 0.        , 1.        , 1.        , 0.        ,\n        1.        , 0.        , 1.        , 0.        , 1.        ,\n        1.        , 1.        , 1.        , 0.98037437, 1.        ,\n        0.16136654, 0.16136654, 0.        , 0.96427732, 1.        ,\n        1.        , 0.76611431, 0.        , 1.        , 0.        ,\n        0.58438936, 1.        , 0.98037437, 0.        , 0.        ,\n        1.        , 0.        , 0.74700031, 1.        , 1.        ,\n        1.        , 1.        , 1.        , 0.82680668, 0.02398659,\n        0.        , 0.        , 1.        , 1.        , 1.        ,\n        1.        , 0.16732197, 0.        , 0.92822007, 0.        ,\n        1.        , 0.87756249, 0.        , 0.        , 1.        ,\n        0.91500189, 1.        , 0.87756249, 0.        , 0.        ,\n        0.        , 0.        , 1.        , 0.96937508, 1.        ,\n        1.        , 0.83358881, 1.        , 0.        , 0.        ,\n        0.        , 0.        , 0.40488152, 0.        , 0.        ,\n        0.64058981, 0.94106507, 0.50076376, 0.        , 0.        ,\n        0.        , 0.        , 1.        , 1.        , 0.53011709,\n        0.        , 1.        , 1.        , 0.        , 1.        ,\n        1.        , 1.        , 1.        , 0.22412859, 1.        ,\n        1.        , 0.36394298, 1.        , 1.        , 1.        ,\n        1.        , 1.        , 1.        , 0.        , 1.        ,\n        0.        , 0.17578519, 0.17604805, 0.17604805, 0.        ,\n        0.98322891, 0.85161336, 0.85161336, 1.        , 1.        ,\n        0.51168618, 0.01856839, 1.        , 0.        , 0.44335493,\n        1.        , 1.        , 0.        , 0.        , 1.        ,\n        1.        , 1.        , 0.98037437, 1.        , 1.        ,\n        1.        , 1.        , 0.        , 0.46255678, 0.96952143,\n        1.        , 0.        , 0.        , 1.        , 0.59936728,\n        0.        , 0.59936728, 0.54025703, 0.        , 1.        ,\n        0.        , 1.        , 1.        , 0.        , 1.        ,\n        1.        , 1.        , 1.        , 0.        , 0.        ,\n        1.        , 0.        , 0.9212212 , 1.        , 0.        ,\n        1.        , 0.        , 0.41607514, 0.        , 1.        ,\n        1.        , 1.        , 0.        , 0.        , 1.        ,\n        0.        , 0.        , 1.        , 0.        , 1.        ,\n        0.        , 0.        , 0.        , 0.        , 1.        ,\n        0.74700031, 0.        , 0.9833822 , 0.        , 0.        ,\n        1.        , 1.        , 0.9833822 , 0.        , 1.        ,\n        1.        , 0.        , 0.        , 1.        , 1.        ,\n        1.        , 0.        , 0.        , 0.        , 0.        ,\n        0.29570115, 1.        , 0.        , 1.        , 0.        ,\n        0.        , 0.        , 0.        , 1.        , 1.        ,\n        0.        , 0.        , 1.        , 1.        , 1.        ,\n        1.        , 1.        , 0.        , 1.        , 1.        ,\n        0.        , 1.        , 1.        , 1.        , 0.2669969 ,\n        0.        , 0.        , 0.        , 0.        , 0.        ,\n        0.        , 0.        , 0.        , 1.        , 1.        ,\n        1.        , 1.        , 0.        , 0.        , 0.92680335,\n        0.        , 1.        , 1.        , 1.        , 1.        ,\n        0.15597893, 1.        , 0.61030596, 0.        , 1.        ,\n        1.        , 1.        , 1.        , 1.        , 1.        ,\n        1.        , 1.        , 0.        , 0.88805827, 0.09294651,\n        0.        , 0.        , 1.        , 0.        , 0.25506444,\n        0.29696763, 1.        , 1.        , 1.        , 1.        ,\n        1.        , 0.        , 1.        , 0.69440044, 0.87756249,\n        1.        , 1.        , 0.55201065, 0.80773033, 1.        ,\n        1.        , 1.        , 1.        , 1.        , 0.        ,\n        1.        , 1.        , 1.        , 0.        , 0.24911232,\n        0.24911232, 1.        , 1.        , 0.        , 0.        ,\n        1.        , 1.        , 1.        , 0.80096612, 1.        ,\n        0.        , 0.        , 0.8099512 , 1.        , 0.        ,\n        0.8099512 , 0.8099512 , 1.        , 0.13581468, 0.        ,\n        0.51168593, 0.16899606, 0.        , 0.07288149, 1.        ,\n        1.        , 1.        , 0.55269601, 0.        , 1.        ,\n        1.        , 1.        , 0.0195667 , 1.        , 1.        ,\n        1.        , 1.        , 0.        , 0.        , 0.        ,\n        0.00987033, 0.01730659, 0.        , 0.        , 0.        ,\n        1.        , 0.        , 1.        , 0.74700031, 1.        ,\n        0.        , 0.96160714, 0.        , 1.        , 1.        ,\n        0.53455725, 1.        , 0.16415524, 0.        , 1.        ,\n        0.        , 0.        , 1.        , 0.        , 1.        ,\n        1.        , 0.60938673, 1.        , 1.        , 1.        ,\n        1.        , 0.        , 0.        , 1.        , 1.        ,\n        1.        , 0.        , 0.        , 0.        , 0.        ,\n        0.        , 0.        , 0.        , 0.        , 0.02013276,\n        1.        , 0.        , 0.        , 0.        , 0.        ,\n        1.        , 0.        , 0.13581468, 1.        , 0.        ,\n        0.64037171, 0.        , 0.        , 0.        , 0.24911232,\n        0.        , 0.        , 0.03418866, 1.        , 0.86656521,\n        1.        , 1.        , 1.        , 0.31849197, 1.        ,\n        1.        , 0.80096612, 0.        , 0.83358881, 0.        ,\n        0.79661766, 1.        , 0.        , 0.73817804, 1.        ,\n        0.        , 0.        , 0.        , 0.        , 1.        ,\n        0.29570115, 0.29570115, 0.22412859, 0.        , 0.        ,\n        1.        , 0.46869722, 1.        , 0.        , 0.        ,\n        0.        , 1.        , 0.        , 1.        , 0.30820314,\n        1.        , 0.        , 0.80568982, 0.        , 0.        ,\n        0.        , 1.        , 1.        , 1.        , 0.        ,\n        0.        , 0.        , 1.        , 1.        , 0.83358881,\n        0.        , 0.80568982, 1.        , 1.        , 0.        ,\n        0.        , 1.        , 1.        , 1.        , 0.        ,\n        0.        , 0.96608001, 1.        , 1.        , 1.        ,\n        1.        , 1.        , 0.07514974, 0.        , 1.        ,\n        0.47726769, 1.        , 1.        , 0.        , 1.        ,\n        1.        , 0.79661766, 0.75306598, 0.75306598, 0.        ,\n        0.32878265, 1.        , 0.        , 1.        , 0.        ,\n        1.        , 0.96952143, 1.        , 1.        , 1.        ,\n        0.15173701, 0.        , 0.87756249, 0.        , 1.        ,\n        1.        , 0.16899606, 1.        , 1.        , 0.02013276,\n        1.        , 1.        , 1.        , 1.        , 0.88321046,\n        1.        , 1.        , 1.        , 1.        , 0.        ,\n        1.        , 1.        , 1.        , 1.        , 0.        ,\n        0.33919695, 0.80568982, 0.24911232, 0.80466798, 0.68354662,\n        1.        , 0.        ]))"
     },
     "metadata": {},
     "output_type": "execute_result",
     "execution_count": 10
    }
   ],
   "source": [
    "clusterer.labels_, clusterer.probabilities_"
   ],
   "metadata": {
    "collapsed": false,
    "pycharm": {
     "name": "#%%\n",
     "is_executing": false
    }
   }
  },
  {
   "cell_type": "code",
   "execution_count": 11,
   "outputs": [
    {
     "data": {
      "text/plain": "78"
     },
     "metadata": {},
     "output_type": "execute_result",
     "execution_count": 11
    }
   ],
   "source": [
    "len(set(clusterer.labels_))"
   ],
   "metadata": {
    "collapsed": false,
    "pycharm": {
     "name": "#%%\n",
     "is_executing": false
    }
   }
  },
  {
   "cell_type": "code",
   "execution_count": 12,
   "outputs": [
    {
     "data": {
      "text/plain": "           LAT        LON  AZIMUTH LOCATION   LAC       CELL  \\\n0    56.281873  38.395896    200.0  outdoor  9021      63793   \n111  56.290025  38.213016     60.0  outdoor  5036  197534212   \n115  55.717124  37.663818    310.0  outdoor  9767  197921795   \n289  55.746933  37.707497      0.0   indoor  7740      39600   \n297  55.748059  37.706855      0.0   indoor  9711  129006849   \n\n                      geometry  cluster  probabilities  \n0    POINT (56.28187 38.39590)        3            1.0  \n111  POINT (56.29002 38.21302)        7            1.0  \n115  POINT (55.71712 37.66382)       46            1.0  \n289  POINT (55.74693 37.70750)       25            1.0  \n297  POINT (55.74806 37.70685)       26            1.0  ",
      "text/html": "<div>\n<style scoped>\n    .dataframe tbody tr th:only-of-type {\n        vertical-align: middle;\n    }\n\n    .dataframe tbody tr th {\n        vertical-align: top;\n    }\n\n    .dataframe thead th {\n        text-align: right;\n    }\n</style>\n<table border=\"1\" class=\"dataframe\">\n  <thead>\n    <tr style=\"text-align: right;\">\n      <th></th>\n      <th>LAT</th>\n      <th>LON</th>\n      <th>AZIMUTH</th>\n      <th>LOCATION</th>\n      <th>LAC</th>\n      <th>CELL</th>\n      <th>geometry</th>\n      <th>cluster</th>\n      <th>probabilities</th>\n    </tr>\n  </thead>\n  <tbody>\n    <tr>\n      <th>0</th>\n      <td>56.281873</td>\n      <td>38.395896</td>\n      <td>200.0</td>\n      <td>outdoor</td>\n      <td>9021</td>\n      <td>63793</td>\n      <td>POINT (56.28187 38.39590)</td>\n      <td>3</td>\n      <td>1.0</td>\n    </tr>\n    <tr>\n      <th>111</th>\n      <td>56.290025</td>\n      <td>38.213016</td>\n      <td>60.0</td>\n      <td>outdoor</td>\n      <td>5036</td>\n      <td>197534212</td>\n      <td>POINT (56.29002 38.21302)</td>\n      <td>7</td>\n      <td>1.0</td>\n    </tr>\n    <tr>\n      <th>115</th>\n      <td>55.717124</td>\n      <td>37.663818</td>\n      <td>310.0</td>\n      <td>outdoor</td>\n      <td>9767</td>\n      <td>197921795</td>\n      <td>POINT (55.71712 37.66382)</td>\n      <td>46</td>\n      <td>1.0</td>\n    </tr>\n    <tr>\n      <th>289</th>\n      <td>55.746933</td>\n      <td>37.707497</td>\n      <td>0.0</td>\n      <td>indoor</td>\n      <td>7740</td>\n      <td>39600</td>\n      <td>POINT (55.74693 37.70750)</td>\n      <td>25</td>\n      <td>1.0</td>\n    </tr>\n    <tr>\n      <th>297</th>\n      <td>55.748059</td>\n      <td>37.706855</td>\n      <td>0.0</td>\n      <td>indoor</td>\n      <td>9711</td>\n      <td>129006849</td>\n      <td>POINT (55.74806 37.70685)</td>\n      <td>26</td>\n      <td>1.0</td>\n    </tr>\n  </tbody>\n</table>\n</div>"
     },
     "metadata": {},
     "output_type": "execute_result",
     "execution_count": 12
    }
   ],
   "source": [
    "geodf_300['cluster'] = clusterer.labels_\n",
    "geodf_300['probabilities'] = clusterer.probabilities_\n",
    "geodf_300.head()"
   ],
   "metadata": {
    "collapsed": false,
    "pycharm": {
     "name": "#%%\n",
     "is_executing": false
    }
   }
  },
  {
   "cell_type": "code",
   "execution_count": 13,
   "outputs": [],
   "source": [
    "mx = (20, 30)\n",
    "geodf_300_plot = geodf_300.loc[(geodf_300.cluster > mx[0]) & (geodf_300.cluster < mx[1])]"
   ],
   "metadata": {
    "collapsed": false,
    "pycharm": {
     "name": "#%%\n",
     "is_executing": false
    }
   }
  },
  {
   "cell_type": "code",
   "execution_count": 14,
   "outputs": [],
   "source": [
    "palette = sns.color_palette()\n",
    "\n",
    "\n",
    "cluster_colors = [sns.desaturate(palette[row['cluster']-mx[1]], row['probabilities'])\n",
    "                  if row['cluster'] >= 0 else (0.5, 0.5, 0.5) for row in\n",
    "                  geodf_300_plot[['cluster', 'probabilities']].to_dict('records')]\n"
   ],
   "metadata": {
    "collapsed": false,
    "pycharm": {
     "name": "#%%\n",
     "is_executing": false
    }
   }
  },
  {
   "cell_type": "code",
   "execution_count": 15,
   "outputs": [
    {
     "data": {
      "text/plain": "<matplotlib.collections.PathCollection at 0x123f33d30>"
     },
     "metadata": {},
     "output_type": "execute_result",
     "execution_count": 15
    },
    {
     "data": {
      "text/plain": "<Figure size 1152x1152 with 1 Axes>",
      "image/png": "[encoded data removed]"
     },
     "metadata": {
      "needs_background": "light"
     },
     "output_type": "display_data"
    }
   ],
   "source": [
    "plt.figure(figsize=(16, 16))\n",
    "plt.scatter(geodf_300_plot['LAT'], geodf_300_plot['LON'], c=cluster_colors, **plot_kwds)\n"
   ],
   "metadata": {
    "collapsed": false,
    "pycharm": {
     "name": "#%%\n",
     "is_executing": false
    }
   }
  },
  {
   "cell_type": "code",
   "execution_count": 18,
   "outputs": [],
   "source": [
    "lat_long_cluster = geodf.merge(geodf_300[['LAC', 'CELL', 'cluster']], left_on=['LAC', 'CELL'], right_on=['LAC', 'CELL'])"
   ],
   "metadata": {
    "collapsed": false,
    "pycharm": {
     "name": "#%%\n",
     "is_executing": false
    }
   }
  },
  {
   "cell_type": "code",
   "execution_count": 19,
   "outputs": [
    {
     "data": {
      "text/plain": "         LAT  LON  AZIMUTH  LOCATION  LAC  CELL  geometry\ncluster                                                  \n-1       252  252      252       203  252   252       252\n 0        18   18       18        16   18    18        18\n 1         5    5        5         5    5     5         5\n 2        23   23       23        22   23    23        23\n 3         6    6        6         6    6     6         6\n...      ...  ...      ...       ...  ...   ...       ...\n 72       12   12       12         8   12    12        12\n 73        7    7        7         5    7     7         7\n 74        7    7        7         3    7     7         7\n 75        8    8        8         5    8     8         8\n 76        5    5        5         1    5     5         5\n\n[78 rows x 7 columns]",
      "text/html": "<div>\n<style scoped>\n    .dataframe tbody tr th:only-of-type {\n        vertical-align: middle;\n    }\n\n    .dataframe tbody tr th {\n        vertical-align: top;\n    }\n\n    .dataframe thead th {\n        text-align: right;\n    }\n</style>\n<table border=\"1\" class=\"dataframe\">\n  <thead>\n    <tr style=\"text-align: right;\">\n      <th></th>\n      <th>LAT</th>\n      <th>LON</th>\n      <th>AZIMUTH</th>\n      <th>LOCATION</th>\n      <th>LAC</th>\n      <th>CELL</th>\n      <th>geometry</th>\n    </tr>\n    <tr>\n      <th>cluster</th>\n      <th></th>\n      <th></th>\n      <th></th>\n      <th></th>\n      <th></th>\n      <th></th>\n      <th></th>\n    </tr>\n  </thead>\n  <tbody>\n    <tr>\n      <th>-1</th>\n      <td>252</td>\n      <td>252</td>\n      <td>252</td>\n      <td>203</td>\n      <td>252</td>\n      <td>252</td>\n      <td>252</td>\n    </tr>\n    <tr>\n      <th>0</th>\n      <td>18</td>\n      <td>18</td>\n      <td>18</td>\n      <td>16</td>\n      <td>18</td>\n      <td>18</td>\n      <td>18</td>\n    </tr>\n    <tr>\n      <th>1</th>\n      <td>5</td>\n      <td>5</td>\n      <td>5</td>\n      <td>5</td>\n      <td>5</td>\n      <td>5</td>\n      <td>5</td>\n    </tr>\n    <tr>\n      <th>2</th>\n      <td>23</td>\n      <td>23</td>\n      <td>23</td>\n      <td>22</td>\n      <td>23</td>\n      <td>23</td>\n      <td>23</td>\n    </tr>\n    <tr>\n      <th>3</th>\n      <td>6</td>\n      <td>6</td>\n      <td>6</td>\n      <td>6</td>\n      <td>6</td>\n      <td>6</td>\n      <td>6</td>\n    </tr>\n    <tr>\n      <th>...</th>\n      <td>...</td>\n      <td>...</td>\n      <td>...</td>\n      <td>...</td>\n      <td>...</td>\n      <td>...</td>\n      <td>...</td>\n    </tr>\n    <tr>\n      <th>72</th>\n      <td>12</td>\n      <td>12</td>\n      <td>12</td>\n      <td>8</td>\n      <td>12</td>\n      <td>12</td>\n      <td>12</td>\n    </tr>\n    <tr>\n      <th>73</th>\n      <td>7</td>\n      <td>7</td>\n      <td>7</td>\n      <td>5</td>\n      <td>7</td>\n      <td>7</td>\n      <td>7</td>\n    </tr>\n    <tr>\n      <th>74</th>\n      <td>7</td>\n      <td>7</td>\n      <td>7</td>\n      <td>3</td>\n      <td>7</td>\n      <td>7</td>\n      <td>7</td>\n    </tr>\n    <tr>\n      <th>75</th>\n      <td>8</td>\n      <td>8</td>\n      <td>8</td>\n      <td>5</td>\n      <td>8</td>\n      <td>8</td>\n      <td>8</td>\n    </tr>\n    <tr>\n      <th>76</th>\n      <td>5</td>\n      <td>5</td>\n      <td>5</td>\n      <td>1</td>\n      <td>5</td>\n      <td>5</td>\n      <td>5</td>\n    </tr>\n  </tbody>\n</table>\n<p>78 rows × 7 columns</p>\n</div>"
     },
     "metadata": {},
     "output_type": "execute_result",
     "execution_count": 19
    }
   ],
   "source": [
    "lat_long_cluster.drop_duplicates().groupby('cluster').count()"
   ],
   "metadata": {
    "collapsed": false,
    "pycharm": {
     "name": "#%%\n",
     "is_executing": false
    }
   }
  },
  {
   "cell_type": "code",
   "execution_count": null,
   "outputs": [],
   "source": [
    "\n",
    "from ipyleaflet import Map, Marker, MarkerCluster"
   ],
   "metadata": {
    "collapsed": false,
    "pycharm": {
     "name": "#%%\n"
    }
   }
  },
  {
   "cell_type": "code",
   "execution_count": 24,
   "outputs": [
    {
     "data": {
      "text/plain": "Map(basemap={'url': 'https://{s}.tile.openstreetmap.org/{z}/{x}/{y}.png', 'max_zoom': 19, 'attribution': 'Map …",
      "application/vnd.jupyter.widget-view+json": {
       "version_major": 2,
       "version_minor": 0,
       "model_id": "8f98afdd1ba344cd830947b7e122cf0f"
      }
     },
     "metadata": {},
     "output_type": "display_data"
    }
   ],
   "source": [
    "\n",
    "m = Map(center=(42.5, -41.6), zoom=2)\n",
    "m.add_layer(MarkerCluster(\n",
    "    markers=[Marker(location=geolocation.coords[0]) \n",
    "             for geolocation in lat_long_cluster.loc[lat_long_cluster.cluster == 2].geometry])\n",
    "    )\n",
    "m"
   ],
   "metadata": {
    "collapsed": false,
    "pycharm": {
     "name": "#%%\n",
     "is_executing": false
    }
   }
  },
  {
   "cell_type": "code",
   "execution_count": null,
   "outputs": [],
   "source": [
    "\n"
   ],
   "metadata": {
    "collapsed": false,
    "pycharm": {
     "name": "#%%\n"
    }
   }
  }
 ],
 "metadata": {
  "kernelspec": {
   "name": "pycharm-91389b54",
   "language": "python",
   "display_name": "PyCharm (TerVer_github)"
  },
  "language_info": {
   "codemirror_mode": {
    "name": "ipython",
    "version": 2
   },
   "file_extension": ".py",
   "mimetype": "text/x-python",
   "name": "python",
   "nbconvert_exporter": "python",
   "pygments_lexer": "ipython2",
   "version": "2.7.6"
  },
  "pycharm": {
   "stem_cell": {
    "cell_type": "raw",
    "source": [],
    "metadata": {
     "collapsed": false
    }
   }
  }
 },
 "nbformat": 4,
 "nbformat_minor": 0
}