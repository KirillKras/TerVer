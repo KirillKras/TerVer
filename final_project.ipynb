{
 "cells": [
  {
   "cell_type": "code",
   "execution_count": 1,
   "metadata": {
    "collapsed": true,
    "pycharm": {
     "is_executing": false
    }
   },
   "outputs": [],
   "source": [
    "import folium\n",
    "import pandas as pd\n",
    "import numpy as np\n",
    "import matplotlib.pyplot as plt\n",
    "import geopandas as geopd\n",
    "from shapely.geometry import Point\n",
    "\n",
    "import hdbscan\n",
    "import seaborn as sns\n",
    "%matplotlib inline\n",
    "sns.set_context('poster')\n",
    "sns.set_style('white')\n",
    "sns.set_color_codes()"
   ]
  },
  {
   "cell_type": "markdown",
   "source": [
    "Создаем объект DataFrame из файла статистики абонента"
   ],
   "metadata": {
    "collapsed": false,
    "pycharm": {
     "name": "#%% md\n"
    }
   }
  },
  {
   "cell_type": "code",
   "execution_count": 2,
   "outputs": [
    {
     "name": "stdout",
     "text": [
      "<class 'pandas.core.frame.DataFrame'>\n",
      "RangeIndex: 22149 entries, 0 to 22148\n",
      "Data columns (total 21 columns):\n",
      "Unnamed: 0    22149 non-null int64\n",
      "DATE          22149 non-null datetime64[ns]\n",
      "DURATION      22149 non-null float64\n",
      "TYPE          22149 non-null object\n",
      "DIRECTION     22149 non-null object\n",
      "MSISDN_A      22149 non-null int64\n",
      "IMSI_A        22149 non-null int64\n",
      "IMEI_A        21095 non-null float64\n",
      "MSISDN_B      2670 non-null float64\n",
      "LAC_A         22149 non-null int64\n",
      "CELLID_A      22149 non-null int64\n",
      "AZIMUTH_A     22149 non-null int64\n",
      "ADDRESS_A     22073 non-null object\n",
      "ROAMING       22149 non-null object\n",
      "LAC           22149 non-null int64\n",
      "CELL          22149 non-null int64\n",
      "ADDRESS       22149 non-null object\n",
      "LON           22149 non-null float64\n",
      "LAT           22149 non-null float64\n",
      "AZIMUTH       21862 non-null float64\n",
      "LOCATION      20644 non-null object\n",
      "dtypes: datetime64[ns](1), float64(6), int64(8), object(6)\n",
      "memory usage: 3.5+ MB\n"
     ],
     "output_type": "stream"
    }
   ],
   "source": [
    "ab_stat = pd.read_excel('ab_stat.xlsx', index_col=False)\n",
    "ab_stat.info()\n"
   ],
   "metadata": {
    "collapsed": false,
    "pycharm": {
     "name": "#%%\n",
     "is_executing": false
    }
   }
  },
  {
   "cell_type": "markdown",
   "source": [
    "Коодрдинту БС относим на 300 метров от расположения БС по направлению AZIMUTH  \n",
    "для расположения outdoor "
   ],
   "metadata": {
    "collapsed": false,
    "pycharm": {
     "name": "#%% md\n"
    }
   }
  },
  {
   "cell_type": "code",
   "execution_count": 3,
   "outputs": [],
   "source": [
    "#ab_stat['']"
   ],
   "metadata": {
    "collapsed": false,
    "pycharm": {
     "name": "#%%\n",
     "is_executing": false
    }
   }
  },
  {
   "cell_type": "code",
   "execution_count": 4,
   "outputs": [],
   "source": [
    "lat_long = ab_stat[['LAT', 'LON', 'AZIMUTH', 'LOCATION']]"
   ],
   "metadata": {
    "collapsed": false,
    "pycharm": {
     "name": "#%%\n",
     "is_executing": false
    }
   }
  },
  {
   "cell_type": "code",
   "execution_count": 5,
   "outputs": [
    {
     "data": {
      "text/plain": "           LAT        LON  AZIMUTH LOCATION                   geometry\n0    56.284410  38.396787    200.0  outdoor  POINT (56.28441 38.39679)\n111  56.288675  38.210756     60.0  outdoor  POINT (56.28867 38.21076)\n115  55.715389  37.665209    310.0  outdoor  POINT (55.71539 37.66521)\n289  55.746933  37.707497      0.0   indoor  POINT (55.74693 37.70750)\n297  55.748059  37.706855      0.0   indoor  POINT (55.74806 37.70685)",
      "text/html": "<div>\n<style scoped>\n    .dataframe tbody tr th:only-of-type {\n        vertical-align: middle;\n    }\n\n    .dataframe tbody tr th {\n        vertical-align: top;\n    }\n\n    .dataframe thead th {\n        text-align: right;\n    }\n</style>\n<table border=\"1\" class=\"dataframe\">\n  <thead>\n    <tr style=\"text-align: right;\">\n      <th></th>\n      <th>LAT</th>\n      <th>LON</th>\n      <th>AZIMUTH</th>\n      <th>LOCATION</th>\n      <th>geometry</th>\n    </tr>\n  </thead>\n  <tbody>\n    <tr>\n      <th>0</th>\n      <td>56.284410</td>\n      <td>38.396787</td>\n      <td>200.0</td>\n      <td>outdoor</td>\n      <td>POINT (56.28441 38.39679)</td>\n    </tr>\n    <tr>\n      <th>111</th>\n      <td>56.288675</td>\n      <td>38.210756</td>\n      <td>60.0</td>\n      <td>outdoor</td>\n      <td>POINT (56.28867 38.21076)</td>\n    </tr>\n    <tr>\n      <th>115</th>\n      <td>55.715389</td>\n      <td>37.665209</td>\n      <td>310.0</td>\n      <td>outdoor</td>\n      <td>POINT (55.71539 37.66521)</td>\n    </tr>\n    <tr>\n      <th>289</th>\n      <td>55.746933</td>\n      <td>37.707497</td>\n      <td>0.0</td>\n      <td>indoor</td>\n      <td>POINT (55.74693 37.70750)</td>\n    </tr>\n    <tr>\n      <th>297</th>\n      <td>55.748059</td>\n      <td>37.706855</td>\n      <td>0.0</td>\n      <td>indoor</td>\n      <td>POINT (55.74806 37.70685)</td>\n    </tr>\n  </tbody>\n</table>\n</div>"
     },
     "metadata": {},
     "output_type": "execute_result",
     "execution_count": 5
    }
   ],
   "source": [
    "lat_long_uniq = lat_long.drop_duplicates()\n",
    "geodf = geopd.GeoDataFrame(lat_long_uniq, geometry=geopd.points_from_xy(lat_long_uniq.LAT, lat_long_uniq.LON))\n",
    "geodf.head()"
   ],
   "metadata": {
    "collapsed": false,
    "pycharm": {
     "name": "#%%\n",
     "is_executing": false
    }
   }
  },
  {
   "cell_type": "code",
   "execution_count": 6,
   "outputs": [
    {
     "data": {
      "text/plain": "           LAT        LON  AZIMUTH LOCATION                   geometry\n0    56.281873  38.395896    200.0  outdoor  POINT (56.28187 38.39590)\n111  56.290025  38.213016     60.0  outdoor  POINT (56.29002 38.21302)\n115  55.717124  37.663818    310.0  outdoor  POINT (55.71712 37.66382)\n289  55.746933  37.707497      0.0   indoor  POINT (55.74693 37.70750)\n297  55.748059  37.706855      0.0   indoor  POINT (55.74806 37.70685)",
      "text/html": "<div>\n<style scoped>\n    .dataframe tbody tr th:only-of-type {\n        vertical-align: middle;\n    }\n\n    .dataframe tbody tr th {\n        vertical-align: top;\n    }\n\n    .dataframe thead th {\n        text-align: right;\n    }\n</style>\n<table border=\"1\" class=\"dataframe\">\n  <thead>\n    <tr style=\"text-align: right;\">\n      <th></th>\n      <th>LAT</th>\n      <th>LON</th>\n      <th>AZIMUTH</th>\n      <th>LOCATION</th>\n      <th>geometry</th>\n    </tr>\n  </thead>\n  <tbody>\n    <tr>\n      <th>0</th>\n      <td>56.281873</td>\n      <td>38.395896</td>\n      <td>200.0</td>\n      <td>outdoor</td>\n      <td>POINT (56.28187 38.39590)</td>\n    </tr>\n    <tr>\n      <th>111</th>\n      <td>56.290025</td>\n      <td>38.213016</td>\n      <td>60.0</td>\n      <td>outdoor</td>\n      <td>POINT (56.29002 38.21302)</td>\n    </tr>\n    <tr>\n      <th>115</th>\n      <td>55.717124</td>\n      <td>37.663818</td>\n      <td>310.0</td>\n      <td>outdoor</td>\n      <td>POINT (55.71712 37.66382)</td>\n    </tr>\n    <tr>\n      <th>289</th>\n      <td>55.746933</td>\n      <td>37.707497</td>\n      <td>0.0</td>\n      <td>indoor</td>\n      <td>POINT (55.74693 37.70750)</td>\n    </tr>\n    <tr>\n      <th>297</th>\n      <td>55.748059</td>\n      <td>37.706855</td>\n      <td>0.0</td>\n      <td>indoor</td>\n      <td>POINT (55.74806 37.70685)</td>\n    </tr>\n  </tbody>\n</table>\n</div>"
     },
     "metadata": {},
     "output_type": "execute_result",
     "execution_count": 6
    }
   ],
   "source": [
    "def my_translate(g):\n",
    "    if g.LOCATION == 'outdoor':\n",
    "        gr_meter = 111120 # метров в 1 градусе широты\n",
    "        dist = 300 # сдвиг в метрах\n",
    "        dist_gr_lat = dist / gr_meter # сдвиг по широте в градусах\n",
    "        dist_gr_lon = dist_gr_lat * np.cos(g.geometry.x) # сдвиг по долготе в градусах\n",
    "        \n",
    "        g.geometry = Point(g.geometry.x + np.cos(np.deg2rad(g.AZIMUTH)) * dist_gr_lat,\n",
    "                  g.geometry.y + np.sin(np.deg2rad(g.AZIMUTH)) * dist_gr_lon)\n",
    "    return g\n",
    "\n",
    " \n",
    "geodf_300 = geodf.apply(my_translate, axis=1)\n",
    "\n",
    "geodf_300.LAT = geodf_300.geometry.x\n",
    "geodf_300.LON = geodf_300.geometry.y\n",
    "\n",
    "geodf_300.head()"
   ],
   "metadata": {
    "collapsed": false,
    "pycharm": {
     "name": "#%%\n",
     "is_executing": false
    }
   }
  },
  {
   "cell_type": "code",
   "execution_count": 7,
   "outputs": [],
   "source": [
    "plot_kwds = {'alpha' : 0.5, 's' : 30, 'linewidths':0, }"
   ],
   "metadata": {
    "collapsed": false,
    "pycharm": {
     "name": "#%%\n",
     "is_executing": false
    }
   }
  },
  {
   "cell_type": "code",
   "execution_count": 8,
   "outputs": [
    {
     "data": {
      "text/plain": "          LAT       LON\n0    0.982304  0.670135\n111  0.982446  0.666943\n115  0.972447  0.657358\n289  0.972968  0.658120\n297  0.972987  0.658109",
      "text/html": "<div>\n<style scoped>\n    .dataframe tbody tr th:only-of-type {\n        vertical-align: middle;\n    }\n\n    .dataframe tbody tr th {\n        vertical-align: top;\n    }\n\n    .dataframe thead th {\n        text-align: right;\n    }\n</style>\n<table border=\"1\" class=\"dataframe\">\n  <thead>\n    <tr style=\"text-align: right;\">\n      <th></th>\n      <th>LAT</th>\n      <th>LON</th>\n    </tr>\n  </thead>\n  <tbody>\n    <tr>\n      <th>0</th>\n      <td>0.982304</td>\n      <td>0.670135</td>\n    </tr>\n    <tr>\n      <th>111</th>\n      <td>0.982446</td>\n      <td>0.666943</td>\n    </tr>\n    <tr>\n      <th>115</th>\n      <td>0.972447</td>\n      <td>0.657358</td>\n    </tr>\n    <tr>\n      <th>289</th>\n      <td>0.972968</td>\n      <td>0.658120</td>\n    </tr>\n    <tr>\n      <th>297</th>\n      <td>0.972987</td>\n      <td>0.658109</td>\n    </tr>\n  </tbody>\n</table>\n</div>"
     },
     "metadata": {},
     "output_type": "execute_result",
     "execution_count": 8
    }
   ],
   "source": [
    "rad_uniq = np.deg2rad(geodf_300[['LAT', 'LON']])\n",
    "rad_uniq.head()"
   ],
   "metadata": {
    "collapsed": false,
    "pycharm": {
     "name": "#%%\n",
     "is_executing": false
    }
   }
  },
  {
   "cell_type": "code",
   "execution_count": 9,
   "outputs": [
    {
     "data": {
      "text/plain": "<matplotlib.collections.PathCollection at 0x11befa6d8>"
     },
     "metadata": {},
     "output_type": "execute_result",
     "execution_count": 9
    },
    {
     "data": {
      "text/plain": "<Figure size 432x288 with 1 Axes>",
      "image/png": "[encoded data removed]"
     },
     "metadata": {
      "needs_background": "light"
     },
     "output_type": "display_data"
    }
   ],
   "source": [
    "plt.scatter(lat_long_uniq.LAT, lat_long_uniq.LON, color='b', **plot_kwds)"
   ],
   "metadata": {
    "collapsed": false,
    "pycharm": {
     "name": "#%%\n",
     "is_executing": false
    }
   }
  },
  {
   "cell_type": "code",
   "execution_count": 10,
   "outputs": [
    {
     "data": {
      "text/plain": "HDBSCAN(algorithm='best', allow_single_cluster=False, alpha=1.0,\n        approx_min_span_tree=True, cluster_selection_method='eom',\n        core_dist_n_jobs=4, gen_min_span_tree=True, leaf_size=40,\n        match_reference_implementation=False, memory=Memory(location=None),\n        metric='haversine', min_cluster_size=5, min_samples=None, p=None,\n        prediction_data=False)"
     },
     "metadata": {},
     "output_type": "execute_result",
     "execution_count": 10
    }
   ],
   "source": [
    "clusterer = hdbscan.HDBSCAN(min_cluster_size=5, gen_min_span_tree=True, metric='haversine')\n",
    "clusterer.fit(rad_uniq)"
   ],
   "metadata": {
    "collapsed": false,
    "pycharm": {
     "name": "#%%\n",
     "is_executing": false
    }
   }
  },
  {
   "cell_type": "code",
   "execution_count": 11,
   "outputs": [
    {
     "data": {
      "text/plain": "(array([ 1,  1, -1, 15, 15,  0, -1, 30, 30, 30, 30, 26, 26, 30, -1, -1, 30,\n        -1, -1,  1,  4,  4,  4, 30, 26, 15, 15, 25, 20, -1, -1, -1, -1, -1,\n        20, -1, -1, -1, 20, 21, 20, -1, 30, 30, 30, 30, -1, 18, 18,  5,  5,\n         5, 10, 26, -1, 17, 17, 19, 19, -1, 21, 21, 30, 30, 15, 29, 29, 26,\n        26, -1, 23,  0,  0,  0, 29, -1, 24, 24, -1, -1, -1, 15, -1, 30, 30,\n        14, 14, 14, 14, -1, 30, -1, -1, 21, 30, 30,  9, 30, -1, 20, 13,  6,\n        -1, -1, 21, 27, 29, -1, -1, 21, 21, -1,  2,  2, 27, -1, 23, -1, -1,\n        30, -1, -1, -1, -1, -1, -1, -1, 29, -1, 19, -1, -1, 13, 30, -1, -1,\n        -1, -1, 17, 30, 30, 30, 30, 30, 20, 30, 30, 30, 30, 30, -1, -1, 30,\n        21, -1, -1,  0,  0,  0, -1, 30, 22, 23, -1, 30, 30, 12, 12, -1,  7,\n         1, 30, 30, 29, 21, 24, 30, -1, 29, 29, 22, 30, 30, 13, 13, -1,  4,\n        -1, 30, 30, 30, -1, -1, 30, -1, 24, 27, 13, 23, 23,  5, 23, -1,  4,\n         1,  1,  7, -1, -1, -1, -1, -1, -1, -1,  0,  0, 30, 22, 26, 30, 30,\n        -1, -1,  0, 30, 30,  8, -1, 21, 24, -1, -1,  1, 23, -1, -1, -1, -1,\n        -1, 13,  1,  1, -1, -1, 21, -1, -1, 18, 12, 12, 28, 28, 30, 28, 11,\n        11, 15, -1, -1, -1, -1, 30, -1, -1,  9, 30, -1, -1, -1, -1, 30, -1,\n        29, 21, 11, 30, 30, 30, 28, 30,  6,  1, 26, 30, -1, 27, 30, 26,  7,\n         7,  4, -1, 30, 30,  0, -1, 18, 12, 12, 14, -1, 28, -1, -1, -1, 27,\n        29, -1, -1, -1, -1, -1, -1,  1, -1, -1, -1, -1, 27, 23, 23, -1, -1,\n        -1, 18, 18, 27, 21, 10, -1,  3,  3,  3,  3,  3, 10,  2,  2,  2, -1,\n        -1, 13, 13, -1, 16, 16, -1, 26, -1,  1, -1, -1, 30, -1, 23,  1,  1,\n        -1,  1, -1, -1, 14, -1, -1, 26, -1, 30, -1, 21, 30, 22, -1, -1, 16,\n        -1, 30, -1,  1,  1,  1,  1,  1, 13, 30, -1, -1, -1, -1,  1,  1, -1,\n        30,  1,  1, -1, -1, -1, -1,  3, -1, 15, 11, -1, -1,  0, 30, -1, -1,\n         9,  9,  9,  9, -1, -1, -1, -1, -1,  9, -1, -1,  9, 30, 25, 25, -1,\n         9, -1, 14, 16, 16, -1, 16, 30, 29, 12, 12, 30, 30, 27, 27, 26, 26,\n        11, 11, 11, 11, 11, 11, 11, 26, 26, -1, 13, 13, -1,  5, 10, 10, 10,\n        -1, 21, 20, 30,  4,  1,  4,  1,  1, 26, 30,  1,  1,  1, -1, -1, -1,\n        -1,  0,  0, -1, -1, -1, 30, 30, 30, -1, 25, -1,  6, 25, 30, 30, -1,\n        -1, -1,  7, 29, -1, 30, -1, -1, -1, -1, -1, -1, -1, -1, 17, -1, -1,\n        -1, 23, 17, 17, 17, 30, -1, 30, -1, -1, 13, -1, -1, -1, 26,  8,  8,\n         8, 10, 10, -1, 30, 30, 27,  1, -1, -1, -1, -1, 24, -1, -1, -1, 23,\n        30, 10, 13, -1, 19, -1,  1, 10,  8, -1, -1, -1,  6, -1, 19, 29, 22,\n        -1, -1, -1, -1, -1, -1, -1, 30, 23, 23, 30,  6,  7, 23, -1, 13, 16,\n        16, 16, -1, 28, 28, 28, 30, 30, 30, -1, 19, 19, 30, 30, 19,  1, -1,\n        -1, -1, 10, 13, 22, 13, -1]),\n array([0.20751349, 0.27836024, 0.        , 1.        , 1.        ,\n        1.        , 0.        , 0.70277017, 1.        , 1.        ,\n        0.771004  , 0.88085255, 0.45466427, 0.80864599, 0.        ,\n        0.        , 0.87219877, 0.        , 0.        , 0.14793286,\n        1.        , 1.        , 0.50710072, 0.87219877, 1.        ,\n        0.53715292, 0.88989645, 1.        , 1.        , 0.        ,\n        0.        , 0.        , 0.        , 0.        , 1.        ,\n        0.        , 0.        , 0.        , 1.        , 1.        ,\n        1.        , 0.        , 0.84586163, 1.        , 0.98211352,\n        1.        , 0.        , 1.        , 0.50916516, 1.        ,\n        1.        , 1.        , 0.63662841, 0.56326365, 0.        ,\n        1.        , 1.        , 0.79586617, 1.        , 0.        ,\n        1.        , 1.        , 1.        , 1.        , 1.        ,\n        0.70328915, 0.55659264, 0.45466427, 0.84625275, 0.        ,\n        1.        , 1.        , 1.        , 0.27175275, 0.69712208,\n        0.        , 1.        , 1.        , 0.        , 0.        ,\n        0.        , 1.        , 0.        , 1.        , 1.        ,\n        1.        , 0.99915764, 1.        , 1.        , 0.        ,\n        1.        , 0.        , 0.        , 0.81313503, 0.77034637,\n        1.        , 0.41812335, 1.        , 0.        , 1.        ,\n        1.        , 1.        , 0.        , 0.        , 1.        ,\n        0.96137193, 1.        , 0.        , 0.        , 0.77310769,\n        0.87871828, 0.        , 1.        , 1.        , 1.        ,\n        0.        , 1.        , 0.        , 0.        , 1.        ,\n        0.        , 0.        , 0.        , 0.        , 0.        ,\n        0.        , 0.        , 1.        , 0.        , 1.        ,\n        0.        , 0.        , 0.9576435 , 1.        , 0.        ,\n        0.        , 0.        , 0.        , 0.63190229, 1.        ,\n        0.75374373, 1.        , 1.        , 1.        , 0.99198355,\n        0.81701802, 0.64389578, 0.87219877, 0.79562169, 0.75374373,\n        0.        , 0.        , 0.61800626, 0.56325895, 0.        ,\n        0.        , 0.2686854 , 0.5734265 , 1.        , 0.        ,\n        0.64139626, 0.96204273, 1.        , 0.        , 1.        ,\n        0.67894785, 1.        , 1.        , 0.        , 1.        ,\n        0.21385051, 1.        , 0.93059577, 1.        , 0.61141749,\n        0.91228951, 1.        , 0.        , 0.84198358, 0.66039485,\n        1.        , 1.        , 1.        , 1.        , 1.        ,\n        0.        , 0.72881468, 0.        , 0.58089288, 0.57682627,\n        0.87219877, 0.        , 0.        , 1.        , 0.        ,\n        1.        , 0.969011  , 0.83601848, 1.        , 1.        ,\n        1.        , 1.        , 0.        , 1.        , 0.21887469,\n        1.        , 1.        , 0.        , 0.        , 0.        ,\n        0.        , 0.        , 0.        , 0.        , 0.99457284,\n        0.51485835, 0.71832194, 1.        , 0.7131448 , 1.        ,\n        1.        , 0.        , 0.        , 0.76837354, 1.        ,\n        1.        , 1.        , 0.        , 1.        , 1.        ,\n        0.        , 0.        , 0.21145245, 1.        , 0.        ,\n        0.        , 0.        , 0.        , 0.        , 1.        ,\n        1.        , 0.27875925, 0.        , 0.        , 0.96415736,\n        0.        , 0.        , 1.        , 1.        , 1.        ,\n        1.        , 1.        , 1.        , 0.99607214, 1.        ,\n        0.69263398, 1.        , 0.        , 0.        , 0.        ,\n        0.        , 1.        , 0.        , 0.        , 0.30604725,\n        0.83428388, 0.        , 0.        , 0.        , 0.        ,\n        1.        , 0.        , 0.50083556, 0.53254933, 0.7226636 ,\n        1.        , 1.        , 1.        , 0.97861692, 0.50111475,\n        1.        , 1.        , 0.61982837, 0.62667288, 0.        ,\n        0.96137193, 0.72183527, 0.4604285 , 1.        , 1.        ,\n        1.        , 0.        , 1.        , 0.81304594, 0.99490512,\n        0.        , 1.        , 1.        , 0.64369085, 1.        ,\n        0.        , 0.84485917, 0.        , 0.        , 0.        ,\n        1.        , 0.76453425, 0.        , 0.        , 0.        ,\n        0.        , 0.        , 0.        , 0.30711232, 0.        ,\n        0.        , 0.        , 0.        , 1.        , 1.        ,\n        1.        , 0.        , 0.        , 0.        , 1.        ,\n        1.        , 0.95960895, 0.88061932, 0.87498431, 0.        ,\n        1.        , 1.        , 1.        , 0.69112388, 1.        ,\n        0.72293394, 1.        , 1.        , 1.        , 0.        ,\n        0.        , 0.7056463 , 0.7056463 , 0.        , 0.98322891,\n        0.84602845, 0.        , 1.        , 0.        , 0.29755709,\n        0.        , 0.        , 1.        , 0.        , 1.        ,\n        0.63131148, 1.        , 0.        , 0.26973656, 0.        ,\n        0.        , 0.99193096, 0.        , 0.        , 1.        ,\n        0.        , 1.        , 0.        , 0.59945488, 0.5034749 ,\n        1.        , 0.        , 0.        , 1.        , 0.        ,\n        1.        , 0.        , 0.63131148, 0.14193029, 0.30711232,\n        0.26973656, 0.22440807, 0.69407667, 1.        , 0.        ,\n        0.        , 0.        , 0.        , 0.21887469, 1.        ,\n        0.        , 0.75026124, 0.58354362, 0.27147987, 0.        ,\n        0.        , 0.        , 0.        , 1.        , 0.        ,\n        0.55057567, 0.62278391, 0.        , 0.        , 1.        ,\n        1.        , 0.        , 0.        , 1.        , 1.        ,\n        0.46077213, 0.26020421, 0.        , 0.        , 0.        ,\n        0.        , 0.        , 1.        , 0.        , 0.        ,\n        1.        , 0.75374373, 1.        , 1.        , 0.        ,\n        1.        , 0.        , 1.        , 1.        , 1.        ,\n        0.        , 0.88805827, 0.50111475, 0.53205791, 0.89325901,\n        1.        , 1.        , 0.58233101, 1.        , 1.        ,\n        0.77851443, 0.70626197, 1.        , 1.        , 0.87891907,\n        0.87468449, 1.        , 1.        , 1.        , 1.        ,\n        1.        , 0.        , 1.        , 1.        , 0.        ,\n        1.        , 1.        , 1.        , 1.        , 0.        ,\n        0.52203535, 0.96053122, 0.9210536 , 0.91099364, 0.26227771,\n        1.        , 0.30711232, 0.31258825, 0.88085255, 1.        ,\n        0.63131148, 0.58998828, 0.27875925, 0.        , 0.        ,\n        0.        , 0.        , 0.41747047, 0.73199038, 0.        ,\n        0.        , 0.        , 0.83428388, 0.6912478 , 1.        ,\n        0.        , 1.        , 0.        , 1.        , 1.        ,\n        1.        , 0.84888532, 0.        , 0.        , 0.        ,\n        1.        , 1.        , 0.        , 1.        , 0.        ,\n        0.        , 0.        , 0.        , 0.        , 0.        ,\n        0.        , 0.        , 1.        , 0.        , 0.        ,\n        0.        , 1.        , 0.89773025, 1.        , 1.        ,\n        0.88317565, 0.        , 0.67760329, 0.        , 0.        ,\n        1.        , 0.        , 0.        , 0.        , 1.        ,\n        1.        , 1.        , 1.        , 0.94594062, 0.93961639,\n        0.        , 1.        , 1.        , 0.97429969, 0.15367516,\n        0.        , 0.        , 0.        , 0.        , 1.        ,\n        0.        , 0.        , 0.        , 0.99290714, 1.        ,\n        1.        , 1.        , 0.        , 0.76471209, 0.        ,\n        0.21229135, 0.73410217, 1.        , 0.        , 0.        ,\n        0.        , 1.        , 0.        , 0.80568982, 1.        ,\n        1.        , 0.        , 0.        , 0.        , 0.        ,\n        0.        , 0.        , 0.        , 1.        , 1.        ,\n        1.        , 1.        , 1.        , 0.93745094, 1.        ,\n        0.        , 1.        , 1.        , 0.82995814, 1.        ,\n        0.        , 1.        , 1.        , 1.        , 0.52094985,\n        0.6920448 , 1.        , 0.        , 1.        , 1.        ,\n        0.80027622, 1.        , 1.        , 0.58354362, 0.        ,\n        0.        , 0.        , 1.        , 1.        , 1.        ,\n        1.        , 0.        ]))"
     },
     "metadata": {},
     "output_type": "execute_result",
     "execution_count": 11
    }
   ],
   "source": [
    "clusterer.labels_, clusterer.probabilities_"
   ],
   "metadata": {
    "collapsed": false,
    "pycharm": {
     "name": "#%%\n",
     "is_executing": false
    }
   }
  },
  {
   "cell_type": "code",
   "execution_count": 12,
   "outputs": [
    {
     "data": {
      "text/plain": "32"
     },
     "metadata": {},
     "output_type": "execute_result",
     "execution_count": 12
    }
   ],
   "source": [
    "len(set(clusterer.labels_))"
   ],
   "metadata": {
    "collapsed": false,
    "pycharm": {
     "name": "#%%\n",
     "is_executing": false
    }
   }
  },
  {
   "cell_type": "code",
   "execution_count": 13,
   "outputs": [
    {
     "data": {
      "text/plain": "           LAT        LON  AZIMUTH LOCATION                   geometry  \\\n0    56.281873  38.395896    200.0  outdoor  POINT (56.28187 38.39590)   \n111  56.290025  38.213016     60.0  outdoor  POINT (56.29002 38.21302)   \n115  55.717124  37.663818    310.0  outdoor  POINT (55.71712 37.66382)   \n289  55.746933  37.707497      0.0   indoor  POINT (55.74693 37.70750)   \n297  55.748059  37.706855      0.0   indoor  POINT (55.74806 37.70685)   \n\n     cluster  probabilities  \n0          1       0.207513  \n111        1       0.278360  \n115       -1       0.000000  \n289       15       1.000000  \n297       15       1.000000  ",
      "text/html": "<div>\n<style scoped>\n    .dataframe tbody tr th:only-of-type {\n        vertical-align: middle;\n    }\n\n    .dataframe tbody tr th {\n        vertical-align: top;\n    }\n\n    .dataframe thead th {\n        text-align: right;\n    }\n</style>\n<table border=\"1\" class=\"dataframe\">\n  <thead>\n    <tr style=\"text-align: right;\">\n      <th></th>\n      <th>LAT</th>\n      <th>LON</th>\n      <th>AZIMUTH</th>\n      <th>LOCATION</th>\n      <th>geometry</th>\n      <th>cluster</th>\n      <th>probabilities</th>\n    </tr>\n  </thead>\n  <tbody>\n    <tr>\n      <th>0</th>\n      <td>56.281873</td>\n      <td>38.395896</td>\n      <td>200.0</td>\n      <td>outdoor</td>\n      <td>POINT (56.28187 38.39590)</td>\n      <td>1</td>\n      <td>0.207513</td>\n    </tr>\n    <tr>\n      <th>111</th>\n      <td>56.290025</td>\n      <td>38.213016</td>\n      <td>60.0</td>\n      <td>outdoor</td>\n      <td>POINT (56.29002 38.21302)</td>\n      <td>1</td>\n      <td>0.278360</td>\n    </tr>\n    <tr>\n      <th>115</th>\n      <td>55.717124</td>\n      <td>37.663818</td>\n      <td>310.0</td>\n      <td>outdoor</td>\n      <td>POINT (55.71712 37.66382)</td>\n      <td>-1</td>\n      <td>0.000000</td>\n    </tr>\n    <tr>\n      <th>289</th>\n      <td>55.746933</td>\n      <td>37.707497</td>\n      <td>0.0</td>\n      <td>indoor</td>\n      <td>POINT (55.74693 37.70750)</td>\n      <td>15</td>\n      <td>1.000000</td>\n    </tr>\n    <tr>\n      <th>297</th>\n      <td>55.748059</td>\n      <td>37.706855</td>\n      <td>0.0</td>\n      <td>indoor</td>\n      <td>POINT (55.74806 37.70685)</td>\n      <td>15</td>\n      <td>1.000000</td>\n    </tr>\n  </tbody>\n</table>\n</div>"
     },
     "metadata": {},
     "output_type": "execute_result",
     "execution_count": 13
    }
   ],
   "source": [
    "geodf_300['cluster'] = clusterer.labels_\n",
    "geodf_300['probabilities'] = clusterer.probabilities_\n",
    "geodf_300.head()"
   ],
   "metadata": {
    "collapsed": false,
    "pycharm": {
     "name": "#%%\n",
     "is_executing": false
    }
   }
  },
  {
   "cell_type": "code",
   "execution_count": 17,
   "outputs": [],
   "source": [
    "mx = 10\n",
    "geodf_300_plot = geodf_300.loc[(geodf_300.cluster > 0) & (geodf_300.cluster < mx)]"
   ],
   "metadata": {
    "collapsed": false,
    "pycharm": {
     "name": "#%%\n",
     "is_executing": false
    }
   }
  },
  {
   "cell_type": "code",
   "execution_count": 18,
   "outputs": [],
   "source": [
    "palette = sns.color_palette()\n",
    "\n",
    "\n",
    "cluster_colors = [sns.desaturate(palette[row['cluster']-mx], row['probabilities'])\n",
    "                  if row['cluster'] >= 0 else (0.5, 0.5, 0.5) for row in\n",
    "                  geodf_300_plot[['cluster', 'probabilities']].to_dict('records')]\n"
   ],
   "metadata": {
    "collapsed": false,
    "pycharm": {
     "name": "#%%\n",
     "is_executing": false
    }
   }
  },
  {
   "cell_type": "code",
   "execution_count": 19,
   "outputs": [
    {
     "data": {
      "text/plain": "<matplotlib.collections.PathCollection at 0x11c719a58>"
     },
     "metadata": {},
     "output_type": "execute_result",
     "execution_count": 19
    },
    {
     "data": {
      "text/plain": "<Figure size 1152x1152 with 1 Axes>",
      "image/png": "[encoded data removed]"
     },
     "metadata": {
      "needs_background": "light"
     },
     "output_type": "display_data"
    }
   ],
   "source": [
    "plt.figure(figsize=(16, 16))\n",
    "plt.scatter(geodf_300_plot['LAT'], geodf_300_plot['LON'], c=cluster_colors, **plot_kwds)\n"
   ],
   "metadata": {
    "collapsed": false,
    "pycharm": {
     "name": "#%%\n",
     "is_executing": false
    }
   }
  },
  {
   "cell_type": "code",
   "execution_count": null,
   "outputs": [],
   "source": [
    "\n"
   ],
   "metadata": {
    "collapsed": false,
    "pycharm": {
     "name": "#%%\n",
     "is_executing": false
    }
   }
  }
 ],
 "metadata": {
  "kernelspec": {
   "display_name": "Python 3",
   "language": "python",
   "name": "python3"
  },
  "language_info": {
   "codemirror_mode": {
    "name": "ipython",
    "version": 2
   },
   "file_extension": ".py",
   "mimetype": "text/x-python",
   "name": "python",
   "nbconvert_exporter": "python",
   "pygments_lexer": "ipython2",
   "version": "2.7.6"
  },
  "pycharm": {
   "stem_cell": {
    "cell_type": "raw",
    "source": [],
    "metadata": {
     "collapsed": false
    }
   }
  }
 },
 "nbformat": 4,
 "nbformat_minor": 0
}