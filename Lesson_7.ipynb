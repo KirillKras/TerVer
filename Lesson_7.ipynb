{
 "cells": [
  {
   "cell_type": "code",
   "execution_count": 35,
   "metadata": {
    "collapsed": true,
    "pycharm": {
     "is_executing": false
    }
   },
   "outputs": [],
   "source": [
    "import numpy as np\n",
    "from scipy import stats\n",
    "import matplotlib.pyplot as plt"
   ]
  },
  {
   "cell_type": "markdown",
   "source": [
    "### Задача 1\n",
    "Даны значения величины заработной платы заемщиков банка (salary) и значения  \n",
    "их поведенческого кредитного скоринга (scoring):\n",
    "\n",
    "salary = [35, 45, 190, 200, 40, 70, 54, 150, 120, 110]  \n",
    "scoring = [401, 574, 874, 919, 459, 739, 653, 902, 746, 832]\n",
    "\n",
    "Возьмём в качестве признака значение salary, а в качестве целевой переменной - scoring.  \n",
    "1. Найдите коэффициенты линейной регрессии с помощью формул для парной регрессии,  \n",
    "   а затем с помощью метода наименьших квадратов.\n",
    "2. Постройте scatter plot по данным и отметьте на нём прямую линейной регрессии,  \n",
    "   полученную в п. 1.\n",
    "3. Посчитайте коэффициент детерминации, среднюю ошибку аппроксимации.\n",
    "4. Оцените построенное уравнение регрессии с помощью F-критерия Фишера.\n",
    "5. Постройте для коэффициентов регрессии доверительные интервалы с помощью t-статистики Стьюдента."
   ],
   "metadata": {
    "collapsed": false,
    "pycharm": {
     "name": "#%% md\n"
    }
   }
  },
  {
   "cell_type": "code",
   "execution_count": 36,
   "outputs": [],
   "source": [
    "salary = np.array([35, 45, 190, 200, 40, 70, 54, 150, 120, 110])  \n",
    "scoring = np.array([401, 574, 874, 919, 459, 739, 653, 902, 746, 832])"
   ],
   "metadata": {
    "collapsed": false,
    "pycharm": {
     "name": "#%%\n",
     "is_executing": false
    }
   }
  },
  {
   "cell_type": "markdown",
   "source": [
    "Найдите коэффициенты линейной регрессии с помощью формул для парной регрессии"
   ],
   "metadata": {
    "collapsed": false,
    "pycharm": {
     "name": "#%% md\n"
    }
   }
  },
  {
   "cell_type": "code",
   "execution_count": 37,
   "outputs": [
    {
     "name": "stdout",
     "text": [
      "Метод парной регрессии: scoring = 444.18 + 2.62 * salary\n"
     ],
     "output_type": "stream"
    }
   ],
   "source": [
    "b1 = ((salary * scoring).mean() - salary.mean() * scoring.mean()) / ((salary ** 2).mean() - salary.mean() ** 2)\n",
    "b0 = scoring.mean() - b1 * salary.mean()\n",
    "print(f'Метод парной регрессии: scoring = {round(b0, 2)} + {round(b1, 2)} * salary')"
   ],
   "metadata": {
    "collapsed": false,
    "pycharm": {
     "name": "#%%\n",
     "is_executing": false
    }
   }
  },
  {
   "cell_type": "markdown",
   "source": [
    "а затем с помощью метода наименьших квадратов"
   ],
   "metadata": {
    "collapsed": false,
    "pycharm": {
     "name": "#%% md\n"
    }
   }
  },
  {
   "cell_type": "code",
   "execution_count": 38,
   "outputs": [
    {
     "name": "stdout",
     "text": [
      "Метод наименьших квадратов: scoring = 444.18 + 2.62 * salary\n"
     ],
     "output_type": "stream"
    }
   ],
   "source": [
    "x = salary.reshape(-1, 1)\n",
    "y = scoring.reshape(-1, 1)\n",
    "ones = np.ones((x.shape[0], 1))\n",
    "x = np.hstack((ones, x))\n",
    "\n",
    "XTX = x.T.dot(x)\n",
    "XTX_inv = np.linalg.inv(XTX)\n",
    "b = XTX_inv.dot(x.T).dot(y)\n",
    "print(f'Метод наименьших квадратов: scoring = {round(b[0,0], 2)} + {round(b[1,0], 2)} * salary')"
   ],
   "metadata": {
    "collapsed": false,
    "pycharm": {
     "name": "#%%\n",
     "is_executing": false
    }
   }
  },
  {
   "cell_type": "markdown",
   "source": [
    "Постройте scatter plot по данным и отметьте на нём прямую линейной регрессии,  \n",
    "полученную в п. 1."
   ],
   "metadata": {
    "collapsed": false,
    "pycharm": {
     "name": "#%% md\n"
    }
   }
  },
  {
   "cell_type": "code",
   "execution_count": 39,
   "outputs": [
    {
     "data": {
      "text/plain": "Text(0, 0.5, 'scoring')"
     },
     "metadata": {},
     "output_type": "execute_result",
     "execution_count": 39
    },
    {
     "data": {
      "text/plain": "<Figure size 432x288 with 1 Axes>",
      "image/png": "[encoded data removed]"
     },
     "metadata": {
      "needs_background": "light"
     },
     "output_type": "display_data"
    }
   ],
   "source": [
    "ox = salary\n",
    "oy = b0 + b1 * salary\n",
    "\n",
    "plt.scatter(salary, scoring)\n",
    "plt.plot(ox, oy, color='red', alpha=0.5)\n",
    "\n",
    "plt.xlabel('salary')\n",
    "plt.ylabel('scoring')"
   ],
   "metadata": {
    "collapsed": false,
    "pycharm": {
     "name": "#%%\n",
     "is_executing": false
    }
   }
  },
  {
   "cell_type": "markdown",
   "source": [
    "Посчитайте коэффициент детерминации, среднюю ошибку аппроксимации."
   ],
   "metadata": {
    "collapsed": false,
    "pycharm": {
     "name": "#%% md\n"
    }
   }
  },
  {
   "cell_type": "code",
   "execution_count": 40,
   "outputs": [
    {
     "name": "stdout",
     "text": [
      "Коэффициент детерминации равен 0.7876\nКоэффициент детерминации (через коэф. Пирсена) равен 0.7876\nСредняя ошибка апроксимации 0.1147\n"
     ],
     "output_type": "stream"
    }
   ],
   "source": [
    "predict = b0 + b1 * salary \n",
    "\n",
    "R = predict.var() / scoring.var()\n",
    "print(f'Коэффициент детерминации равен {round(R, 4)}')\n",
    "print(f'Коэффициент детерминации (через коэф. Пирсена) равен {round(np.corrcoef(salary, scoring)[0,1] ** 2, 4)}')\n",
    "\n",
    "A = np.abs((scoring - predict) / scoring).mean()\n",
    "print(f'Средняя ошибка апроксимации {round(A, 4)}')"
   ],
   "metadata": {
    "collapsed": false,
    "pycharm": {
     "name": "#%%\n",
     "is_executing": false
    }
   }
  },
  {
   "cell_type": "markdown",
   "source": [
    "Оцените построенное уравнение регрессии с помощью F-критерия Фишера."
   ],
   "metadata": {
    "collapsed": false,
    "pycharm": {
     "name": "#%% md\n"
    }
   }
  },
  {
   "cell_type": "code",
   "execution_count": 42,
   "outputs": [
    {
     "name": "stdout",
     "text": [
      "Уравнение регрессии статистически значимо True, T = 29.67, F_crit = 5.32 \n"
     ],
     "output_type": "stream"
    }
   ],
   "source": [
    "n = scoring.shape[0]\n",
    "k = 1\n",
    "k1 = k\n",
    "k2 = n - k - 1\n",
    "alpha = 0.05\n",
    "\n",
    "T = (R / (1 - R)) * (k2 / k1)\n",
    "F_crit = stats.f.ppf(1-alpha, k1, k2)\n",
    "print(f'Уравнение регрессии статистически значимо {T > F_crit}, T = {round(T, 2)}, F_crit = {round(F_crit, 2)} ')"
   ],
   "metadata": {
    "collapsed": false,
    "pycharm": {
     "name": "#%%\n",
     "is_executing": false
    }
   }
  },
  {
   "cell_type": "markdown",
   "source": [
    "Постройте для коэффициентов регрессии доверительные интервалы с помощью t-статистики Стьюдента."
   ],
   "metadata": {
    "collapsed": false,
    "pycharm": {
     "name": "#%% md\n"
    }
   }
  },
  {
   "cell_type": "code",
   "execution_count": 43,
   "outputs": [
    {
     "name": "stdout",
     "text": [
      "Доверительный интервал для b1 от 1.51 до 3.73 при alpha=0.05\n"
     ],
     "output_type": "stream"
    }
   ],
   "source": [
    "def standard_error_slope(x: np.array, y: np.array, z: np.array) -> float:\n",
    "    n = x.shape[0]\n",
    "    upper = ((y - z) ** 2).sum() / (n-2)\n",
    "    lower = ((x - x.mean()) ** 2).sum()\n",
    "    return np.sqrt(upper / lower)\n",
    "\n",
    "s_slope = standard_error_slope(salary, scoring, predict)\n",
    "\n",
    "alpha = 0.05\n",
    "t = stats.t.ppf(1-alpha/2, df = salary.shape[0]-2)\n",
    "interval_b1 = (b1 - t * s_slope, b1 + t * s_slope)\n",
    "print(f'Доверительный интервал для b1 от {round(interval_b1[0], 2)} до {round(interval_b1[1], 2)} при alpha=0.05')"
   ],
   "metadata": {
    "collapsed": false,
    "pycharm": {
     "name": "#%%\n",
     "is_executing": false
    }
   }
  },
  {
   "cell_type": "code",
   "execution_count": 44,
   "outputs": [
    {
     "name": "stdout",
     "text": [
      "Доверительный интервал для b0 от 313.97 до 574.39 при alpha=0.05\n"
     ],
     "output_type": "stream"
    }
   ],
   "source": [
    "def standard_error_intercept(x: np.array, y: np.array, z: np.array) -> float:\n",
    "    return standard_error_slope(x, y, z) * np.sqrt((x**2).sum() / x.shape[0])\n",
    "\n",
    "s_intercept = standard_error_intercept(salary, scoring, predict)\n",
    "\n",
    "alpha = 0.05\n",
    "t = stats.t.ppf(1-alpha/2, df = salary.shape[0]-2)\n",
    "interval_b0 = (b0 - t * s_intercept, b0 + t * s_intercept)\n",
    "print(f'Доверительный интервал для b0 от {round(interval_b0[0], 2)} до {round(interval_b0[1], 2)} при alpha=0.05')\n"
   ],
   "metadata": {
    "collapsed": false,
    "pycharm": {
     "name": "#%%\n",
     "is_executing": false
    }
   }
  },
  {
   "cell_type": "markdown",
   "source": [
    "### Задача 2\n",
    "Допустим, первые 5 клиентов из предыдущего задания проживают в Москве,  \n",
    "а остальные - в Санкт-Петербурге.  \n",
    "Влияет ли этот фактор на значение их кредитного скоринга?"
   ],
   "metadata": {
    "collapsed": false,
    "pycharm": {
     "name": "#%% md\n"
    }
   }
  },
  {
   "cell_type": "code",
   "source": [
    "msk = scoring[:5]\n",
    "spb = scoring[5:]\n",
    "\n",
    "msk_n = msk.shape[0]\n",
    "spb_n = spb.shape[0]\n",
    "\n",
    "msk_mean = msk.mean()\n",
    "spb_mean = spb.mean()\n",
    "scoring_mean = scoring.mean()"
   ],
   "metadata": {
    "collapsed": false,
    "pycharm": {
     "name": "#%% \n",
     "is_executing": false
    }
   },
   "execution_count": 10,
   "outputs": []
  },
  {
   "cell_type": "code",
   "execution_count": 11,
   "outputs": [],
   "source": [
    "S2_F = msk_n * (msk_mean - scoring_mean) ** 2 + spb_n * (spb_mean - scoring_mean) ** 2\n",
    "S2_res = ((msk - msk_mean)**2).sum() + ((spb - spb_mean)**2).sum()"
   ],
   "metadata": {
    "collapsed": false,
    "pycharm": {
     "name": "#%%\n",
     "is_executing": false
    }
   }
  },
  {
   "cell_type": "markdown",
   "source": [
    "Наблюдаю расхождение равенства в 0.01 примерно, неточно отрабатывает sum() "
   ],
   "metadata": {
    "collapsed": false,
    "pycharm": {
     "name": "#%% md\n"
    }
   }
  },
  {
   "cell_type": "code",
   "execution_count": 12,
   "outputs": [
    {
     "data": {
      "text/plain": "False"
     },
     "metadata": {},
     "output_type": "execute_result",
     "execution_count": 12
    }
   ],
   "source": [
    "S2_F + S2_res == ((scoring - scoring_mean)**2).sum()\n"
   ],
   "metadata": {
    "collapsed": false,
    "pycharm": {
     "name": "#%%\n",
     "is_executing": false
    }
   }
  },
  {
   "cell_type": "code",
   "execution_count": 13,
   "outputs": [],
   "source": [
    "k = 2\n",
    "n = 10\n",
    "\n",
    "k1 = k - 1\n",
    "k2 = n - k\n",
    "\n",
    "sigma2_F = S2_F / k1\n",
    "sigma2_res = S2_res / k2"
   ],
   "metadata": {
    "collapsed": false,
    "pycharm": {
     "name": "#%%\n",
     "is_executing": false
    }
   }
  },
  {
   "cell_type": "code",
   "execution_count": 14,
   "outputs": [
    {
     "data": {
      "text/plain": "1.2650596914169643"
     },
     "metadata": {},
     "output_type": "execute_result",
     "execution_count": 14
    }
   ],
   "source": [
    "T = sigma2_F / sigma2_res\n",
    "T"
   ],
   "metadata": {
    "collapsed": false,
    "pycharm": {
     "name": "#%%\n",
     "is_executing": false
    }
   }
  },
  {
   "cell_type": "code",
   "execution_count": 15,
   "outputs": [
    {
     "data": {
      "text/plain": "7.57088209969174"
     },
     "metadata": {},
     "output_type": "execute_result",
     "execution_count": 15
    }
   ],
   "source": [
    "alpha = 0.05\n",
    "F_crit = stats.f.ppf(1 - alpha/2, k1, k2)\n",
    "F_crit"
   ],
   "metadata": {
    "collapsed": false,
    "pycharm": {
     "name": "#%%\n",
     "is_executing": false
    }
   }
  },
  {
   "cell_type": "code",
   "execution_count": 16,
   "outputs": [
    {
     "name": "stdout",
     "text": [
      "T (1.27) < F_crit (7.57), распределение по городам статистически не значимо\n"
     ],
     "output_type": "stream"
    }
   ],
   "source": [
    "print(f'T ({round(T, 2)}) < F_crit ({round(F_crit, 2)}), распределение по городам статистически не значимо')"
   ],
   "metadata": {
    "collapsed": false,
    "pycharm": {
     "name": "#%%\n",
     "is_executing": false
    }
   }
  },
  {
   "cell_type": "markdown",
   "source": [
    "### Задача 3\n",
    "Посчитать коэффициенты линейной регрессии для т.н. Квартета Энскомба (см. урок 6)."
   ],
   "metadata": {
    "collapsed": false,
    "pycharm": {
     "name": "#%% md\n"
    }
   }
  },
  {
   "cell_type": "code",
   "execution_count": 17,
   "outputs": [],
   "source": [
    "import pandas as pd"
   ],
   "metadata": {
    "collapsed": false,
    "pycharm": {
     "name": "#%%\n",
     "is_executing": false
    }
   }
  },
  {
   "cell_type": "code",
   "execution_count": 18,
   "outputs": [],
   "source": [
    "df = pd.read_csv('anscombe.csv')"
   ],
   "metadata": {
    "collapsed": false,
    "pycharm": {
     "name": "#%%\n",
     "is_executing": false
    }
   }
  },
  {
   "cell_type": "code",
   "execution_count": 30,
   "outputs": [],
   "source": [
    "def get_coef(x: np.array, y: np.array) -> (float, float):\n",
    "    b1 = np.cov(x, y)[0,1] / x.var(ddof=1)\n",
    "    b0 = y.mean() - b1 * x.mean()\n",
    "    return b0, b1"
   ],
   "metadata": {
    "collapsed": false,
    "pycharm": {
     "name": "#%%\n",
     "is_executing": false
    }
   }
  },
  {
   "cell_type": "code",
   "execution_count": 31,
   "outputs": [
    {
     "name": "stdout",
     "text": [
      "Уравнение линейной регрессии Y = 3.0 + 0.5 * X для набора 1\n"
     ],
     "output_type": "stream"
    }
   ],
   "source": [
    "b0, b1 = get_coef(df.x1, df.y1)\n",
    "print(f'Уравнение линейной регрессии Y = {round(b0, 2)} + {round(b1, 2)} * X для набора 1')"
   ],
   "metadata": {
    "collapsed": false,
    "pycharm": {
     "name": "#%%\n",
     "is_executing": false
    }
   }
  },
  {
   "cell_type": "code",
   "execution_count": 32,
   "outputs": [
    {
     "name": "stdout",
     "text": [
      "Уравнение линейной регрессии Y = 3.0 + 0.5 * X для набора 2\n"
     ],
     "output_type": "stream"
    }
   ],
   "source": [
    "b0, b1 = get_coef(df.x2, df.y2)\n",
    "print(f'Уравнение линейной регрессии Y = {round(b0, 2)} + {round(b1, 2)} * X для набора 2')"
   ],
   "metadata": {
    "collapsed": false,
    "pycharm": {
     "name": "#%%\n",
     "is_executing": false
    }
   }
  },
  {
   "cell_type": "code",
   "execution_count": 33,
   "outputs": [
    {
     "name": "stdout",
     "text": [
      "Уравнение линейной регрессии Y = 3.0 + 0.5 * X для набора 3\n"
     ],
     "output_type": "stream"
    }
   ],
   "source": [
    "b0, b1 = get_coef(df.x3, df.y3)\n",
    "print(f'Уравнение линейной регрессии Y = {round(b0, 2)} + {round(b1, 2)} * X для набора 3')"
   ],
   "metadata": {
    "collapsed": false,
    "pycharm": {
     "name": "#%%\n",
     "is_executing": false
    }
   }
  },
  {
   "cell_type": "code",
   "execution_count": 34,
   "outputs": [
    {
     "name": "stdout",
     "text": [
      "Уравнение линейной регрессии Y = 3.0 + 0.5 * X для набора 4\n"
     ],
     "output_type": "stream"
    }
   ],
   "source": [
    "b0, b1 = get_coef(df.x4, df.y4)\n",
    "print(f'Уравнение линейной регрессии Y = {round(b0, 2)} + {round(b1, 2)} * X для набора 4')"
   ],
   "metadata": {
    "collapsed": false,
    "pycharm": {
     "name": "#%%\n",
     "is_executing": false
    }
   }
  }
 ],
 "metadata": {
  "kernelspec": {
   "display_name": "Python 3",
   "language": "python",
   "name": "python3"
  },
  "language_info": {
   "codemirror_mode": {
    "name": "ipython",
    "version": 2
   },
   "file_extension": ".py",
   "mimetype": "text/x-python",
   "name": "python",
   "nbconvert_exporter": "python",
   "pygments_lexer": "ipython2",
   "version": "2.7.6"
  },
  "pycharm": {
   "stem_cell": {
    "cell_type": "raw",
    "source": [],
    "metadata": {
     "collapsed": false
    }
   }
  }
 },
 "nbformat": 4,
 "nbformat_minor": 0
}