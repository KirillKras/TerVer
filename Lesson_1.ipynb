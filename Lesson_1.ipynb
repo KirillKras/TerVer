{
 "cells": [
  {
   "cell_type": "code",
   "execution_count": 1,
   "outputs": [],
   "source": [
    "from math import factorial\n",
    "import numpy as np"
   ],
   "metadata": {
    "collapsed": false,
    "pycharm": {
     "name": "#%%\n",
     "is_executing": false
    }
   }
  },
  {
   "cell_type": "markdown",
   "metadata": {
    "collapsed": true,
    "pycharm": {
     "name": "#%% md\n"
    }
   },
   "source": [
    "### Задача 1  \n",
    "Из колоды в 52 карты вынимают случайным образом 4 карты.  \n",
    "Найти число исходов, соответствующих тому, что был вытянут хотя бы один туз."
   ]
  },
  {
   "cell_type": "code",
   "execution_count": 2,
   "outputs": [
    {
     "name": "stdout",
     "text": [
      "Вероятность попадания хотя бы 1 туза 0.3076923076923077\n"
     ],
     "output_type": "stream"
    }
   ],
   "source": [
    "p = 4 * 4 / 52\n",
    "print(f'Вероятность попадания хотя бы 1 туза {p}')"
   ],
   "metadata": {
    "collapsed": false,
    "pycharm": {
     "name": "#%%\n",
     "is_executing": false
    }
   }
  },
  {
   "cell_type": "markdown",
   "source": [
    "### Задача 2  \n",
    "Семь человек рассаживаются наудачу на скамейке.  \n",
    "Какова вероятность того, что рядом будут сидеть:  \n",
    "а) два определённых человека?  \n",
    "б) три определённых человека?"
   ],
   "metadata": {
    "collapsed": false,
    "pycharm": {
     "name": "#%% md\n"
    }
   }
  },
  {
   "cell_type": "markdown",
   "source": [
    "А) Для 7 мест существет 6 пар рассадки, в каждой паре 2 варианта сесть.  \n",
    "Остальные 5 человек садятся в 5! вариантами. Всего вариантов рассадки 7 человек - 7!  \n",
    "Тогда вероятность (5! * 6 * 2) / 7! = 2/7"
   ],
   "metadata": {
    "collapsed": false,
    "pycharm": {
     "name": "#%% md\n"
    }
   }
  },
  {
   "cell_type": "markdown",
   "source": [
    "B) Аналогично. 4 варианта троек, в каждой тройке 3! варианта рассадки,  \n",
    "остальные 4 садятся 4! вариантами. Общее число рассадки также 7!  \n",
    "Тогда вероятность (3! * 4 * 4!) / 7! = 4! / 5 * 6 * 7 "
   ],
   "metadata": {
    "collapsed": false,
    "pycharm": {
     "name": "#%% md\n"
    }
   }
  },
  {
   "cell_type": "code",
   "execution_count": 3,
   "outputs": [
    {
     "data": {
      "text/plain": "0.11428571428571428"
     },
     "metadata": {},
     "output_type": "execute_result",
     "execution_count": 3
    }
   ],
   "source": [
    "p = factorial(4) / (5 * 6 * 7)\n",
    "p"
   ],
   "metadata": {
    "collapsed": false,
    "pycharm": {
     "name": "#%%\n",
     "is_executing": false
    }
   }
  },
  {
   "cell_type": "markdown",
   "source": [
    "### Задача 3  \n",
    "Из 60 вопросов, входящих в экзаменационные билеты, студент знает 50.  \n",
    "Какова вероятность того, что среди трёх наугад выбранных вопросов студент знает:  \n",
    "а) все?  \n",
    "б) два?"
   ],
   "metadata": {
    "collapsed": false,
    "pycharm": {
     "name": "#%% md\n"
    }
   }
  },
  {
   "cell_type": "markdown",
   "source": [
    "A)  \n",
    "C_all = 60! / 3! (60-3)! = 58 * 59 * 60 / 6  \n",
    "C_3 = 50! / 3! (50-3)! = 48 * 49 * 50 / 6  \n",
    "P = C_3 / C_all"
   ],
   "metadata": {
    "collapsed": false
   }
  },
  {
   "cell_type": "code",
   "execution_count": 4,
   "outputs": [
    {
     "data": {
      "text/plain": "0.5727644652250146"
     },
     "metadata": {},
     "output_type": "execute_result",
     "execution_count": 4
    }
   ],
   "source": [
    "C_all = 58 * 59 * 60 / 6\n",
    "C_3 = 48 * 49 * 50 / 6\n",
    "P = C_3 / C_all\n",
    "P"
   ],
   "metadata": {
    "collapsed": false,
    "pycharm": {
     "name": "#%%\n",
     "is_executing": false
    }
   }
  },
  {
   "cell_type": "markdown",
   "source": [
    "B)  \n",
    "C_all = 34220    \n",
    "C_2 = 50! / 2 * (50-2)! = 49*50/2  \n",
    "C_1 = 10! / 1 * (10-1)! = 10\n",
    "P = C_1 * C_2 / C_all"
   ],
   "metadata": {
    "collapsed": false,
    "pycharm": {
     "name": "#%% md\n"
    }
   }
  },
  {
   "cell_type": "code",
   "execution_count": 5,
   "outputs": [
    {
     "data": {
      "text/plain": "0.35797779076563413"
     },
     "metadata": {},
     "output_type": "execute_result",
     "execution_count": 5
    }
   ],
   "source": [
    "P = (49 * 50 / 2) * 10 / C_all\n",
    "P"
   ],
   "metadata": {
    "collapsed": false,
    "pycharm": {
     "name": "#%%\n",
     "is_executing": false
    }
   }
  },
  {
   "cell_type": "markdown",
   "source": [
    "### Задача 4  \n",
    "Бросается игральная кость. Пусть событие A - появление чётного числа,  \n",
    "событие B - появление числа больше трёх. Являются ли эти события независимыми?"
   ],
   "metadata": {
    "collapsed": false
   }
  },
  {
   "cell_type": "markdown",
   "source": [
    "Зависимы, так как если произошло событие A вероятность того что выпало число >3 выше.  \n",
    "В обратном случае также, если произошло событие B, то вероятность того что призошло и A становится выше"
   ],
   "metadata": {
    "collapsed": false
   }
  },
  {
   "cell_type": "markdown",
   "source": [
    "### Задача 5  \n",
    "Допустим, имеется некоторая очень редкая болезнь (поражает 0.1% населения).  \n",
    "Вы приходите к врачу, вам делают тест на эту болезнь, и тест оказывается положительным.  \n",
    "Врач говорит вам, что этот тест верно выявляет 99% больных этой болезнью и всего лишь в 1% случаев  \n",
    "даёт ложный положительный ответ.  \n",
    "Вопрос: какова вероятность, что вы действительно больны ей?"
   ],
   "metadata": {
    "collapsed": false
   }
  },
  {
   "cell_type": "code",
   "source": [
    "p = (0.99 * 0.001) / (0.99 * 0.001 + 0.01 * 0.999)\n",
    "p"
   ],
   "metadata": {
    "collapsed": false,
    "pycharm": {
     "name": "#%% \n",
     "is_executing": false
    }
   },
   "execution_count": 6,
   "outputs": [
    {
     "data": {
      "text/plain": "0.09016393442622951"
     },
     "metadata": {},
     "output_type": "execute_result",
     "execution_count": 6
    }
   ]
  },
  {
   "cell_type": "code",
   "execution_count": null,
   "outputs": [],
   "source": [
    "\n"
   ],
   "metadata": {
    "collapsed": false,
    "pycharm": {
     "name": "#%%\n"
    }
   }
  }
 ],
 "metadata": {
  "kernelspec": {
   "name": "pycharm-91389b54",
   "language": "python",
   "display_name": "PyCharm (TerVer_github)"
  },
  "language_info": {
   "codemirror_mode": {
    "name": "ipython",
    "version": 2
   },
   "file_extension": ".py",
   "mimetype": "text/x-python",
   "name": "python",
   "nbconvert_exporter": "python",
   "pygments_lexer": "ipython2",
   "version": "2.7.6"
  },
  "pycharm": {
   "stem_cell": {
    "cell_type": "raw",
    "source": [],
    "metadata": {
     "collapsed": false
    }
   }
  }
 },
 "nbformat": 4,
 "nbformat_minor": 0
}